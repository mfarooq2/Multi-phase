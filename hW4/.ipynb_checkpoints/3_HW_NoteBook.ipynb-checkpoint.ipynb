{
 "cells": [
  {
   "cell_type": "code",
   "execution_count": 134,
   "id": "8f1c4653-0da4-4fd6-b7fd-cb19b299a3ed",
   "metadata": {},
   "outputs": [],
   "source": [
    "##Imports\n",
    "import matplotlib.pyplot as plt\n",
    "import numpy as np\n",
    "import pandas as pd\n",
    "from tqdm import tqdm\n",
    "##Variables\n",
    "nu=1e-6\n",
    "mu=1e-3\n",
    "rho=1e+3\n",
    "dt=0.0001\n",
    "gradP=-0.375\n",
    "u_avg=0.0125\n",
    "nx=60\n",
    "ny=30"
   ]
  },
  {
   "cell_type": "code",
   "execution_count": 135,
   "id": "08d6216f-f90c-416a-979e-dab4912457a8",
   "metadata": {},
   "outputs": [],
   "source": [
    "def ref_vel_prof(x2):\n",
    "    return -1200*((x2-0.005)**2)+0.03"
   ]
  },
  {
   "cell_type": "code",
   "execution_count": 136,
   "id": "4839d27e-10f2-4b82-ae92-9ff69246e2f8",
   "metadata": {},
   "outputs": [],
   "source": [
    "Nx=2*nx+1\n",
    "Ny=2*ny+1\n",
    "L=0.04\n",
    "H=0.02\n",
    "h=L/nx\n",
    "L_sq=np.array([1.0,1.0])"
   ]
  },
  {
   "cell_type": "code",
   "execution_count": 137,
   "id": "c369141d-0a74-4087-be98-a737b7b82a12",
   "metadata": {},
   "outputs": [
    {
     "data": {
      "text/plain": [
       "0.0006666666666666666"
      ]
     },
     "execution_count": 137,
     "metadata": {},
     "output_type": "execute_result"
    }
   ],
   "source": [
    "h"
   ]
  },
  {
   "cell_type": "code",
   "execution_count": 138,
   "id": "73b73e68-183a-4442-9e5d-cfa853d7e0b9",
   "metadata": {},
   "outputs": [],
   "source": [
    "x1=np.linspace(0, L, num=2*nx+1)\n",
    "x2=np.linspace(0, H, num=2*ny+1)\n",
    "xi=0.5*np.linspace(0, Nx, num=Nx+1)\n",
    "xi=np.insert(xi, 0, -0.5)\n",
    "xj=0.5*np.linspace(0, Ny, num=Ny+1)\n",
    "xj=np.insert(xj, 0, -0.5)"
   ]
  },
  {
   "cell_type": "code",
   "execution_count": null,
   "id": "2069592e-0e7a-4510-9e71-1525c4a3f54f",
   "metadata": {},
   "outputs": [],
   "source": []
  },
  {
   "cell_type": "code",
   "execution_count": 172,
   "id": "3e77a64a-0e28-4f18-b66e-b611108f55ac",
   "metadata": {},
   "outputs": [],
   "source": [
    "un=u_avg*np.ones(((Nx+2)*(Ny+2) ))\n",
    "un_actual=un.reshape((Nx+2,Ny+2))\n",
    "s=pd.DataFrame(np.flipud(un_actual.T))\n",
    "s.columns=(s.columns/2) -0.5\n",
    "s.index=(s.index/2) -0.5\n",
    "s = s.iloc[::-1]\n",
    "# s.loc[ny+0.5]=0\n",
    "# s.loc[-0.5]=0\n",
    "# s[-0.5]=float(0)\n",
    "# s[nx+0.5]=float(0)\n",
    "\n",
    "\n"
   ]
  },
  {
   "cell_type": "code",
   "execution_count": 173,
   "id": "56ba5146-ccb9-4abf-96ff-eeb722498c57",
   "metadata": {},
   "outputs": [],
   "source": [
    "def BC_drich(s):\n",
    "    s.loc[0.5]=-s.loc[-0.5]\n",
    "    s.loc[ny-0.5]=-s.loc[ny+0.5]\n",
    "    return s"
   ]
  },
  {
   "cell_type": "code",
   "execution_count": 174,
   "id": "84386a34-46b7-4fa9-b8a2-6d0a74357b71",
   "metadata": {},
   "outputs": [],
   "source": [
    "def BC_period(s):\n",
    "    s[0]=s[nx-1]\n",
    "    s[nx]=s[1]\n",
    "    return s"
   ]
  },
  {
   "cell_type": "code",
   "execution_count": 175,
   "id": "d37fdc96-2ab6-4fbd-8032-fbf0c8bf5d90",
   "metadata": {},
   "outputs": [],
   "source": [
    "def diff(s):\n",
    "    qo = s.copy()\n",
    "    for x1 in s.columns:\n",
    "        for x2 in s.index:\n",
    "            if ((x1>1) and (x1<nx-1) and (x1.is_integer()==True) ):\n",
    "                if ((x2>1) and (x2<ny-1) and (x2.is_integer()==False)):\n",
    "                    qo[x1][x2] = (1/(h**2))*(s[x1+1][x2]+s[x1-1][x2]+s[x1][x2+1]+s[x1][x2-1]-4*s[x1][x2])\n",
    "    return qo"
   ]
  },
  {
   "cell_type": "code",
   "execution_count": 176,
   "id": "afe3aee5-f61a-4d74-9739-3a8c922f52db",
   "metadata": {},
   "outputs": [],
   "source": [
    "def corrector_step(s):\n",
    "    qo = s.copy()\n",
    "    for x1 in s.columns:\n",
    "        for x2 in s.index:\n",
    "            if ((x1>1) and (x1<nx-1) and (x1.is_integer()==True) ):\n",
    "                if ((x2>1) and (x2<ny-1) and (x2.is_integer()==False)):\n",
    "                    qo[x1][x2] = s[x1][x2]-(1/rho)*(dt/h)*(gradP)\n",
    "    return qo"
   ]
  },
  {
   "cell_type": "code",
   "execution_count": 177,
   "id": "604cd957-e251-4fc2-9e13-6c7bd11cbb42",
   "metadata": {},
   "outputs": [
    {
     "name": "stderr",
     "output_type": "stream",
     "text": [
      "100%|█████████████████████████████████████████| 100/100 [00:17<00:00,  5.61it/s]\n"
     ]
    }
   ],
   "source": [
    "un=s.copy()\n",
    "for step in tqdm(range(100)):\n",
    "    us=un+dt*nu*diff(un)\n",
    "    us=BC_drich(us)\n",
    "    us=BC_period(us)\n",
    "    un_1=corrector_step(us)\n",
    "    un_1=BC_drich(un_1)\n",
    "    un_1=BC_period(un_1)\n",
    "    un=un_1"
   ]
  },
  {
   "cell_type": "code",
   "execution_count": 169,
   "id": "16dc9e3b-4548-4b34-aeb7-eead7929ae6e",
   "metadata": {},
   "outputs": [],
   "source": [
    "#un=s.copy()\n",
    "us=un+dt*nu*diff(un)\n",
    "us=BC_drich(us)\n",
    "us=BC_period(us)\n",
    "un_1=corrector_step(us)\n",
    "un_1=BC_drich(un_1)\n",
    "un_1=BC_period(un_1)\n",
    "un=un_1"
   ]
  },
  {
   "cell_type": "code",
   "execution_count": 178,
   "id": "67e3d43f-c248-4fc5-ab51-883d4b1198f1",
   "metadata": {},
   "outputs": [
    {
     "data": {
      "text/plain": [
       "<matplotlib.colorbar.Colorbar at 0x11dfa4f40>"
      ]
     },
     "execution_count": 178,
     "metadata": {},
     "output_type": "execute_result"
    },
    {
     "data": {
      "image/png": "[encoded data removed]",
      "text/plain": [
       "<Figure size 640x480 with 2 Axes>"
      ]
     },
     "metadata": {},
     "output_type": "display_data"
    }
   ],
   "source": [
    "plt.imshow(us,origin='lower')\n",
    "plt.colorbar()"
   ]
  },
  {
   "cell_type": "code",
   "execution_count": 182,
   "id": "f947c3fd-d97a-4d7e-8aad-ae850bba3151",
   "metadata": {},
   "outputs": [
    {
     "data": {
      "text/plain": [
       "[0.012500000125000011,\n",
       " 0.012500000125000011,\n",
       " -0.012500000125000011,\n",
       " 0.012500000125000011,\n",
       " 0.017518442003451217,\n",
       " 0.012500000125000011,\n",
       " 0.018118582775598614,\n",
       " 0.012500000125000011,\n",
       " 0.01812495185788692,\n",
       " 0.012500000125000011,\n",
       " 0.01812499730802281,\n",
       " 0.012500000125000011,\n",
       " 0.018124997550640055,\n",
       " 0.012500000125000011,\n",
       " 0.018124997551669398,\n",
       " 0.012500000125000011,\n",
       " 0.01812499755167301,\n",
       " 0.012500000125000011,\n",
       " 0.018124997551673027,\n",
       " 0.012500000125000011,\n",
       " 0.018124997551673027,\n",
       " 0.012500000125000011,\n",
       " 0.018124997551673027,\n",
       " 0.012500000125000011,\n",
       " 0.018124997551673027,\n",
       " 0.012500000125000011,\n",
       " 0.018124997551673027,\n",
       " 0.012500000125000011,\n",
       " 0.018124997551673027,\n",
       " 0.012500000125000011,\n",
       " 0.018124997551673027,\n",
       " 0.012500000125000011,\n",
       " 0.018124997551673027,\n",
       " 0.012500000125000011,\n",
       " 0.018124997551673027,\n",
       " 0.012500000125000011,\n",
       " 0.018124997551673027,\n",
       " 0.012500000125000011,\n",
       " 0.018124997551673027,\n",
       " 0.012500000125000011,\n",
       " 0.018124997551673027,\n",
       " 0.012500000125000011,\n",
       " 0.018124997551673027,\n",
       " 0.012500000125000011,\n",
       " 0.018124997551673027,\n",
       " 0.012500000125000011,\n",
       " 0.01812499755167301,\n",
       " 0.012500000125000011,\n",
       " 0.018124997551669398,\n",
       " 0.012500000125000011,\n",
       " 0.018124997550640055,\n",
       " 0.012500000125000011,\n",
       " 0.01812499730802281,\n",
       " 0.012500000125000011,\n",
       " 0.01812495185788692,\n",
       " 0.012500000125000011,\n",
       " 0.018118582775598614,\n",
       " 0.012500000125000011,\n",
       " 0.017518442003451217,\n",
       " 0.012500000125000011,\n",
       " -0.012500000125000011,\n",
       " 0.012500000125000011,\n",
       " 0.012500000125000011]"
      ]
     },
     "execution_count": 182,
     "metadata": {},
     "output_type": "execute_result"
    }
   ],
   "source": [
    "list(un[4])"
   ]
  },
  {
   "cell_type": "code",
   "execution_count": 180,
   "id": "14bbc664-ebe9-4f02-9fdd-14f34017d66e",
   "metadata": {},
   "outputs": [
    {
     "data": {
      "text/plain": [
       "[<matplotlib.lines.Line2D at 0x11edee4f0>]"
      ]
     },
     "execution_count": 180,
     "metadata": {},
     "output_type": "execute_result"
    },
    {
     "data": {
      "image/png": "[encoded data removed]",
      "text/plain": [
       "<Figure size 640x480 with 1 Axes>"
      ]
     },
     "metadata": {},
     "output_type": "display_data"
    }
   ],
   "source": [
    "plt.plot(un[58])"
   ]
  },
  {
   "cell_type": "code",
   "execution_count": 104,
   "id": "7e0b3e88-f735-4380-84ec-7999f0158404",
   "metadata": {},
   "outputs": [
    {
     "data": {
      "text/plain": [
       "[<matplotlib.lines.Line2D at 0x11dce0ac0>]"
      ]
     },
     "execution_count": 104,
     "metadata": {},
     "output_type": "execute_result"
    },
    {
     "data": {
      "image/png": "[encoded data removed]",
      "text/plain": [
       "<Figure size 640x480 with 1 Axes>"
      ]
     },
     "metadata": {},
     "output_type": "display_data"
    }
   ],
   "source": [
    "plt.plot(un[58])"
   ]
  },
  {
   "cell_type": "code",
   "execution_count": 2,
   "id": "016f6bbf-40d8-4939-8ff7-485862343125",
   "metadata": {},
   "outputs": [],
   "source": [
    "import numpy as np"
   ]
  },
  {
   "cell_type": "code",
   "execution_count": 3,
   "id": "4db68b98-66be-46e4-8229-79b229e3d5a7",
   "metadata": {},
   "outputs": [],
   "source": [
    "grid_x = np.zeros([151,76]) \n",
    "grid_y = np.zeros([151, 76])"
   ]
  },
  {
   "cell_type": "code",
   "execution_count": 4,
   "id": "f549c682-a0cd-4ffd-9906-81fce292f32f",
   "metadata": {},
   "outputs": [
    {
     "data": {
      "text/plain": [
       "(151, 76)"
      ]
     },
     "execution_count": 4,
     "metadata": {},
     "output_type": "execute_result"
    }
   ],
   "source": [
    "grid_x.shape"
   ]
  },
  {
   "cell_type": "code",
   "execution_count": 5,
   "id": "cfcd3831-7f2f-4f58-b142-6eb01e411910",
   "metadata": {},
   "outputs": [
    {
     "data": {
      "text/plain": [
       "(151, 76)"
      ]
     },
     "execution_count": 5,
     "metadata": {},
     "output_type": "execute_result"
    }
   ],
   "source": [
    "grid_y.shape"
   ]
  },
  {
   "cell_type": "code",
   "execution_count": 13,
   "id": "71f5ee80-33a1-4b0a-8740-85ed50f3d4d6",
   "metadata": {},
   "outputs": [
    {
     "data": {
      "text/plain": [
       "150"
      ]
     },
     "execution_count": 13,
     "metadata": {},
     "output_type": "execute_result"
    }
   ],
   "source": [
    "i"
   ]
  },
  {
   "cell_type": "code",
   "execution_count": 15,
   "id": "29827707-e076-4293-92ee-098b601d8b0c",
   "metadata": {},
   "outputs": [
    {
     "name": "stdout",
     "output_type": "stream",
     "text": [
      "i 0.0\n",
      "j 5.0\n",
      "i 0.06666666666666667\n",
      "j 5.0\n",
      "i 0.13333333333333333\n",
      "j 5.0\n",
      "i 0.2\n",
      "j 5.0\n",
      "i 0.26666666666666666\n",
      "j 5.0\n",
      "i 0.3333333333333333\n",
      "j 5.0\n",
      "i 0.4\n",
      "j 5.0\n",
      "i 0.4666666666666667\n",
      "j 5.0\n",
      "i 0.5333333333333333\n",
      "j 5.0\n",
      "i 0.6\n",
      "j 5.0\n",
      "i 0.6666666666666666\n",
      "j 5.0\n",
      "i 0.7333333333333333\n",
      "j 5.0\n",
      "i 0.8\n",
      "j 5.0\n",
      "i 0.8666666666666667\n",
      "j 5.0\n",
      "i 0.9333333333333333\n",
      "j 5.0\n",
      "i 1.0\n",
      "j 5.0\n",
      "i 1.0666666666666667\n",
      "j 5.0\n",
      "i 1.1333333333333333\n",
      "j 5.0\n",
      "i 1.2\n",
      "j 5.0\n",
      "i 1.2666666666666666\n",
      "j 5.0\n",
      "i 1.3333333333333333\n",
      "j 5.0\n",
      "i 1.4\n",
      "j 5.0\n",
      "i 1.4666666666666666\n",
      "j 5.0\n",
      "i 1.5333333333333334\n",
      "j 5.0\n",
      "i 1.6\n",
      "j 5.0\n",
      "i 1.6666666666666667\n",
      "j 5.0\n",
      "i 1.7333333333333334\n",
      "j 5.0\n",
      "i 1.8\n",
      "j 5.0\n",
      "i 1.8666666666666667\n",
      "j 5.0\n",
      "i 1.9333333333333333\n",
      "j 5.0\n",
      "i 2.0\n",
      "j 5.0\n",
      "i 2.066666666666667\n",
      "j 5.0\n",
      "i 2.1333333333333333\n",
      "j 5.0\n",
      "i 2.2\n",
      "j 5.0\n",
      "i 2.2666666666666666\n",
      "j 5.0\n",
      "i 2.3333333333333335\n",
      "j 5.0\n",
      "i 2.4\n",
      "j 5.0\n",
      "i 2.466666666666667\n",
      "j 5.0\n",
      "i 2.533333333333333\n",
      "j 5.0\n",
      "i 2.6\n",
      "j 5.0\n",
      "i 2.6666666666666665\n",
      "j 5.0\n",
      "i 2.7333333333333334\n",
      "j 5.0\n",
      "i 2.8\n",
      "j 5.0\n",
      "i 2.8666666666666667\n",
      "j 5.0\n",
      "i 2.933333333333333\n",
      "j 5.0\n",
      "i 3.0\n",
      "j 5.0\n",
      "i 3.066666666666667\n",
      "j 5.0\n",
      "i 3.1333333333333333\n",
      "j 5.0\n",
      "i 3.2\n",
      "j 5.0\n",
      "i 3.2666666666666666\n",
      "j 5.0\n",
      "i 3.3333333333333335\n",
      "j 5.0\n",
      "i 3.4\n",
      "j 5.0\n",
      "i 3.466666666666667\n",
      "j 5.0\n",
      "i 3.533333333333333\n",
      "j 5.0\n",
      "i 3.6\n",
      "j 5.0\n",
      "i 3.6666666666666665\n",
      "j 5.0\n",
      "i 3.7333333333333334\n",
      "j 5.0\n",
      "i 3.8\n",
      "j 5.0\n",
      "i 3.8666666666666667\n",
      "j 5.0\n",
      "i 3.933333333333333\n",
      "j 5.0\n",
      "i 4.0\n",
      "j 5.0\n",
      "i 4.066666666666666\n",
      "j 5.0\n",
      "i 4.133333333333334\n",
      "j 5.0\n",
      "i 4.2\n",
      "j 5.0\n",
      "i 4.266666666666667\n",
      "j 5.0\n",
      "i 4.333333333333333\n",
      "j 5.0\n",
      "i 4.4\n",
      "j 5.0\n",
      "i 4.466666666666667\n",
      "j 5.0\n",
      "i 4.533333333333333\n",
      "j 5.0\n",
      "i 4.6\n",
      "j 5.0\n",
      "i 4.666666666666667\n",
      "j 5.0\n",
      "i 4.733333333333333\n",
      "j 5.0\n",
      "i 4.8\n",
      "j 5.0\n",
      "i 4.866666666666666\n",
      "j 5.0\n",
      "i 4.933333333333334\n",
      "j 5.0\n",
      "i 5.0\n",
      "j 5.0\n",
      "i 5.066666666666666\n",
      "j 5.0\n",
      "i 5.133333333333334\n",
      "j 5.0\n",
      "i 5.2\n",
      "j 5.0\n",
      "i 5.266666666666667\n",
      "j 5.0\n",
      "i 5.333333333333333\n",
      "j 5.0\n",
      "i 5.4\n",
      "j 5.0\n",
      "i 5.466666666666667\n",
      "j 5.0\n",
      "i 5.533333333333333\n",
      "j 5.0\n",
      "i 5.6\n",
      "j 5.0\n",
      "i 5.666666666666667\n",
      "j 5.0\n",
      "i 5.733333333333333\n",
      "j 5.0\n",
      "i 5.8\n",
      "j 5.0\n",
      "i 5.866666666666666\n",
      "j 5.0\n",
      "i 5.933333333333334\n",
      "j 5.0\n",
      "i 6.0\n",
      "j 5.0\n",
      "i 6.066666666666666\n",
      "j 5.0\n",
      "i 6.133333333333334\n",
      "j 5.0\n",
      "i 6.2\n",
      "j 5.0\n",
      "i 6.266666666666667\n",
      "j 5.0\n",
      "i 6.333333333333333\n",
      "j 5.0\n",
      "i 6.4\n",
      "j 5.0\n",
      "i 6.466666666666667\n",
      "j 5.0\n",
      "i 6.533333333333333\n",
      "j 5.0\n",
      "i 6.6\n",
      "j 5.0\n",
      "i 6.666666666666667\n",
      "j 5.0\n",
      "i 6.733333333333333\n",
      "j 5.0\n",
      "i 6.8\n",
      "j 5.0\n",
      "i 6.866666666666666\n",
      "j 5.0\n",
      "i 6.933333333333334\n",
      "j 5.0\n",
      "i 7.0\n",
      "j 5.0\n",
      "i 7.066666666666666\n",
      "j 5.0\n",
      "i 7.133333333333334\n",
      "j 5.0\n",
      "i 7.2\n",
      "j 5.0\n",
      "i 7.266666666666667\n",
      "j 5.0\n",
      "i 7.333333333333333\n",
      "j 5.0\n",
      "i 7.4\n",
      "j 5.0\n",
      "i 7.466666666666667\n",
      "j 5.0\n",
      "i 7.533333333333333\n",
      "j 5.0\n",
      "i 7.6\n",
      "j 5.0\n",
      "i 7.666666666666667\n",
      "j 5.0\n",
      "i 7.733333333333333\n",
      "j 5.0\n",
      "i 7.8\n",
      "j 5.0\n",
      "i 7.866666666666666\n",
      "j 5.0\n",
      "i 7.933333333333334\n",
      "j 5.0\n",
      "i 8.0\n",
      "j 5.0\n",
      "i 8.066666666666666\n",
      "j 5.0\n",
      "i 8.133333333333333\n",
      "j 5.0\n",
      "i 8.2\n",
      "j 5.0\n",
      "i 8.266666666666667\n",
      "j 5.0\n",
      "i 8.333333333333334\n",
      "j 5.0\n",
      "i 8.4\n",
      "j 5.0\n",
      "i 8.466666666666667\n",
      "j 5.0\n",
      "i 8.533333333333333\n",
      "j 5.0\n",
      "i 8.6\n",
      "j 5.0\n",
      "i 8.666666666666666\n",
      "j 5.0\n",
      "i 8.733333333333333\n",
      "j 5.0\n",
      "i 8.8\n",
      "j 5.0\n",
      "i 8.866666666666667\n",
      "j 5.0\n",
      "i 8.933333333333334\n",
      "j 5.0\n",
      "i 9.0\n",
      "j 5.0\n",
      "i 9.066666666666666\n",
      "j 5.0\n",
      "i 9.133333333333333\n",
      "j 5.0\n",
      "i 9.2\n",
      "j 5.0\n",
      "i 9.266666666666667\n",
      "j 5.0\n",
      "i 9.333333333333334\n",
      "j 5.0\n",
      "i 9.4\n",
      "j 5.0\n",
      "i 9.466666666666667\n",
      "j 5.0\n",
      "i 9.533333333333333\n",
      "j 5.0\n",
      "i 9.6\n",
      "j 5.0\n",
      "i 9.666666666666666\n",
      "j 5.0\n",
      "i 9.733333333333333\n",
      "j 5.0\n",
      "i 9.8\n",
      "j 5.0\n",
      "i 9.866666666666667\n",
      "j 5.0\n",
      "i 9.933333333333334\n",
      "j 5.0\n",
      "i 10.0\n",
      "j 5.0\n"
     ]
    }
   ],
   "source": [
    "for i in range(0,151):\n",
    "   \n",
    "    for j in range(0,76):\n",
    "        s=2\n",
    "    print('i',i*10/150)\n",
    "    print('j',j*5/75)\n",
    "    \n",
    "        # grid_x[i,j] = 0 + i*10/150\n",
    "        # grid_y[i,j] = 0 + j*5/75"
   ]
  },
  {
   "cell_type": "code",
   "execution_count": 8,
   "id": "ed9ebe1a-2c02-42e3-85a1-db2952e98a25",
   "metadata": {},
   "outputs": [
    {
     "data": {
      "text/plain": [
       "(10.0, 5.0)"
      ]
     },
     "execution_count": 8,
     "metadata": {},
     "output_type": "execute_result"
    }
   ],
   "source": [
    "grid_x[i,j], grid_y[i,j]"
   ]
  },
  {
   "cell_type": "code",
   "execution_count": 9,
   "id": "a39d961a-46a9-40a5-a7c6-81ab9620899a",
   "metadata": {},
   "outputs": [
    {
     "data": {
      "text/plain": [
       "(150, 75)"
      ]
     },
     "execution_count": 9,
     "metadata": {},
     "output_type": "execute_result"
    }
   ],
   "source": [
    "i,j"
   ]
  },
  {
   "cell_type": "code",
   "execution_count": null,
   "id": "a607938f-debe-4557-ab02-afe7a7ff8d9e",
   "metadata": {},
   "outputs": [],
   "source": []
  }
 ],
 "metadata": {
  "kernelspec": {
   "display_name": "Python 3 (ipykernel)",
   "language": "python",
   "name": "python3"
  },
  "language_info": {
   "codemirror_mode": {
    "name": "ipython",
    "version": 3
   },
   "file_extension": ".py",
   "mimetype": "text/x-python",
   "name": "python",
   "nbconvert_exporter": "python",
   "pygments_lexer": "ipython3",
   "version": "3.9.7"
  }
 },
 "nbformat": 4,
 "nbformat_minor": 5
}
