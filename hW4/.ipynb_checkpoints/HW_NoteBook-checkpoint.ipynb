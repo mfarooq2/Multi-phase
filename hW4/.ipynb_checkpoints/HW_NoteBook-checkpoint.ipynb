{
 "cells": [
  {
   "cell_type": "code",
   "execution_count": 1,
   "id": "273a9480-7931-442a-a206-4aa643046348",
   "metadata": {},
   "outputs": [],
   "source": [
    "##Imports\n",
    "import matplotlib.pyplot as plt\n",
    "import numpy as np\n",
    "import pandas as pd"
   ]
  },
  {
   "cell_type": "code",
   "execution_count": 5,
   "id": "2d986d5e-6686-47c9-9c6d-e0d8886edb46",
   "metadata": {},
   "outputs": [],
   "source": [
    "##Variables\n",
    "nu=1e-6\n",
    "mu=1e-3\n",
    "rho=1e+3\n",
    "dt=0.0001\n",
    "gradP=0.375\n",
    "\n",
    "u_avg=0.0125\n",
    "nx=6\n",
    "Nx=2*nx+1\n",
    "ny=3\n",
    "Ny=2*ny+1\n",
    "L=0.04\n",
    "H=0.02\n",
    "h=L/Nx\n",
    "L_sq=np.array([1.0,1.0])"
   ]
  },
  {
   "cell_type": "code",
   "execution_count": 6,
   "id": "720da156-f876-4f00-801b-25f9cced0c72",
   "metadata": {},
   "outputs": [],
   "source": [
    "x1=np.linspace(0, L, num=2*nx+1)\n",
    "x2=np.linspace(0, H, num=2*ny+1)\n",
    "xi=0.5*np.linspace(0, Nx+1, num=Nx+2)\n",
    "xi=np.insert(np.insert(xi, 0, -0.5),0,-1)\n",
    "xj=0.5*np.linspace(0, Ny+1, num=Ny+2)\n",
    "xj=np.insert(np.insert(xj, 0, -0.5),0,-1)"
   ]
  },
  {
   "cell_type": "code",
   "execution_count": 13,
   "id": "6bd3abb8-e477-46a8-95d3-20ddba214cef",
   "metadata": {},
   "outputs": [],
   "source": [
    "def p_creator(xi,xj,Nx,Ny):\n",
    "    xij=[]\n",
    "    for i in range(len(xi)):\n",
    "        for j in range(len(xj)):\n",
    "            xij.append([xi[i],xj[j]])\n",
    "    return np.array(xij)  \n",
    "p=p_creator(xi,xj,Nx,Ny)"
   ]
  },
  {
   "cell_type": "code",
   "execution_count": 23,
   "id": "69c0fcb4-1dbc-418f-97a8-6845e331447f",
   "metadata": {},
   "outputs": [
    {
     "name": "stdout",
     "output_type": "stream",
     "text": [
      "0.0 0.0 24\n",
      "0.0 3.0 30\n",
      "0.5 0.0 35\n",
      "0.5 3.0 41\n",
      "1.0 0.0 46\n",
      "1.0 3.0 52\n",
      "1.5 0.0 57\n",
      "1.5 3.0 63\n",
      "2.0 0.0 68\n",
      "2.0 3.0 74\n",
      "2.5 0.0 79\n",
      "2.5 3.0 85\n",
      "3.0 0.0 90\n",
      "3.0 3.0 96\n",
      "3.5 0.0 101\n",
      "3.5 3.0 107\n",
      "4.0 0.0 112\n",
      "4.0 3.0 118\n",
      "4.5 0.0 123\n",
      "4.5 3.0 129\n",
      "5.0 0.0 134\n",
      "5.0 3.0 140\n",
      "5.5 0.0 145\n",
      "5.5 3.0 151\n"
     ]
    }
   ],
   "source": [
    "y=[xj[2],xj[Ny+1]]\n",
    "for i in (xi[2:Nx+1]):\n",
    "    for j in y:\n",
    "        ix=np.argwhere((p[:,0]==i) & (  p[:,1]==j))[0][0]\n",
    "        print(i,j,ix)"
   ]
  },
  {
   "cell_type": "code",
   "execution_count": 14,
   "id": "acd273a3-2f7a-4358-b765-b6ef86d11dfc",
   "metadata": {},
   "outputs": [],
   "source": [
    "#### Functions\n",
    "\n",
    "def BC_drich(vect,Nx,Ny,value,xi=xi,xj=xj,p=p):\n",
    "    y=[xj[2],xj[Ny+1]]\n",
    "    for i in (xi[2:Nx+1]):\n",
    "        for j in y:\n",
    "            try:\n",
    "                ix=np.argwhere((p[:,0]==i) & (  p[:,1]==j))[0][0]\n",
    "                vect[ix]=value\n",
    "            except:\n",
    "                print(i,j)\n",
    "                break\n",
    "    return vect\n",
    "def BC_period(vect,Nx,Ny,xi=xi,xj=xj,p=p):\n",
    "    x1=[xi[2],xi[Nx-1]]    \n",
    "    x2=[x1[0]+0.5,x1[1]+0.5]\n",
    "    for j in (xj[2:(2*ny-1)+4]):\n",
    "        ix1=np.argwhere( (p[:,0]==x1[0]) & (p[:,1]==j) )[0][0]\n",
    "        ix2=np.argwhere( (p[:,0]==x1[1]) & (p[:,1]==j) )[0][0]\n",
    "        ix3=np.argwhere( (p[:,0]==x2[0]) & (p[:,1]==j) )[0][0]\n",
    "        ix4=np.argwhere( (p[:,0]==x2[0]) & (p[:,1]==j) )[0][0]\n",
    "        vect[ix1]=vect[ix2]\n",
    "        vect[ix3]=vect[ix4]\n",
    "    return vect\n",
    "\n",
    "def vect_value_adder(vect,idx,val,dom_x_s,dom_x_e):\n",
    "    ix=np.argwhere((p[:,0]==idx))[:,0]\n",
    "    np.put(vect, ix, val*np.ones_like(ix))\n",
    "    return vect"
   ]
  },
  {
   "cell_type": "code",
   "execution_count": null,
   "id": "eaf80dcb-660d-4b5b-8014-8b3c366b31dd",
   "metadata": {},
   "outputs": [],
   "source": []
  },
  {
   "cell_type": "code",
   "execution_count": 31,
   "id": "41b485fd-7bb4-422b-b14a-fa55eb44f81a",
   "metadata": {},
   "outputs": [],
   "source": [
    "x1=[xi[2],xi[Nx-1]]    \n",
    "x2=[x1[0]+0.5,x1[1]+0.5]"
   ]
  },
  {
   "cell_type": "code",
   "execution_count": 32,
   "id": "b8bd348d-6639-468d-82d9-b650ec9b213f",
   "metadata": {},
   "outputs": [
    {
     "data": {
      "text/plain": [
       "[0.5, 5.5]"
      ]
     },
     "execution_count": 32,
     "metadata": {},
     "output_type": "execute_result"
    }
   ],
   "source": [
    "x2"
   ]
  },
  {
   "cell_type": "code",
   "execution_count": 30,
   "id": "8f2fc4f1-bf6c-4593-afb1-efe5e768640f",
   "metadata": {},
   "outputs": [
    {
     "data": {
      "text/plain": [
       "[0.5, 5.5]"
      ]
     },
     "execution_count": 30,
     "metadata": {},
     "output_type": "execute_result"
    }
   ],
   "source": [
    "[x1[0]+0.5,x1[1]+0.5]"
   ]
  },
  {
   "cell_type": "code",
   "execution_count": null,
   "id": "1570b71b-e7df-4104-8127-21faeae6530b",
   "metadata": {},
   "outputs": [],
   "source": [
    "def GenPointer(Nx, Ny):\n",
    "    iu = np.nan*np.ones((nx,ny))\n",
    "    xi=0.5*np.linspace(0, Nx+1, num=Nx+2)\n",
    "    xi=np.insert(np.insert(xi, 0, -0.5),0,-1)\n",
    "    xj=0.5*np.linspace(0, Ny+1, num=Ny+2)\n",
    "    xj=np.insert(np.insert(xj, 0, -0.5),0,-1)\n",
    "    ## Memory allocation\n",
    "    id_u = 0  # index to be used in vector variable u = [ux; uy]\n",
    "    for i in xi:\n",
    "        for j in xj:\n",
    "            iu[i, j] = id_u\n",
    "            id_u = id_u + 1\n"
   ]
  },
  {
   "cell_type": "code",
   "execution_count": 16,
   "id": "725160b6-7d3b-4150-be7b-071e132563bf",
   "metadata": {},
   "outputs": [],
   "source": [
    "un=u_avg*np.ones(((Nx+4)*(Ny+4) ))\n",
    "us=np.zeros(((Nx+4)*(Ny+4) ))\n",
    "un1=np.zeros(((Nx+4)*(Ny+4) ))\n",
    "un_actual=un.reshape((Nx+4,Ny+4))"
   ]
  },
  {
   "cell_type": "code",
   "execution_count": 17,
   "id": "c7c52fda-5b51-4240-819a-705a18fbb150",
   "metadata": {},
   "outputs": [],
   "source": [
    "###\n",
    "def iu(i,j,u=un,p=p):\n",
    "    ix=np.argwhere((p[:,0]==i) & (  p[:,1]==j))[0][0]\n",
    "    return ix"
   ]
  },
  {
   "cell_type": "code",
   "execution_count": 18,
   "id": "dae22f41-d394-4769-9d69-c3d62c01eb7d",
   "metadata": {},
   "outputs": [],
   "source": [
    "def diff(iu,un):\n",
    "    #qo = np.nan*np.ones((len(un)))\n",
    "    qo = np.zeros((len(un)))\n",
    "    for i in xi[3:Nx-1]:\n",
    "        for j in xj[3:Ny-1]:\n",
    "            qo[iu(i,j)] = (1/(h**2))*(un[iu(i+1,j)]+un[iu(i-1,j)]+un[iu(i,j+1)]+un[iu(i,j-1)]-4*un[iu(i,j)])\n",
    "    return qo"
   ]
  },
  {
   "cell_type": "code",
   "execution_count": 19,
   "id": "f21b3237-42a8-4e62-a735-e92bb14521b4",
   "metadata": {},
   "outputs": [],
   "source": [
    "\n",
    "\n",
    "for f in range(10):\n",
    "#predictor step:\n",
    "    us=un+dt*diff(iu,un)\n",
    "    us=BC_drich(us,Nx,Ny,0)\n",
    "    us=BC_period(us,Nx,Ny)\n",
    "    #corrector step:\n",
    "    for i in xi[3:Nx-1]:\n",
    "        for j in xj[3:Ny-1]:\n",
    "            un1[iu(i,j)]=us[iu(i,j)]-(1/rho)*(dt)*(gradP)\n",
    "    un1=BC_drich(un1,Nx,Ny,0)\n",
    "    un1=BC_period(un1,Nx,Ny)\n",
    "    un=un1\n",
    "un_actual=un.reshape((Nx+4,Ny+4))"
   ]
  },
  {
   "cell_type": "code",
   "execution_count": 20,
   "id": "5f539aaf-648d-414a-9301-7b56ac000f3e",
   "metadata": {},
   "outputs": [
    {
     "data": {
      "text/plain": [
       "<matplotlib.colorbar.Colorbar at 0x1308f3c10>"
      ]
     },
     "execution_count": 20,
     "metadata": {},
     "output_type": "execute_result"
    },
    {
     "data": {
      "image/png": "[encoded data removed]",
      "text/plain": [
       "<Figure size 640x480 with 2 Axes>"
      ]
     },
     "metadata": {},
     "output_type": "display_data"
    }
   ],
   "source": [
    "plt.imshow(np.flipud(un_actual.T),origin='lower')\n",
    "plt.colorbar()"
   ]
  },
  {
   "cell_type": "code",
   "execution_count": null,
   "id": "6eab113c-3a2a-4e84-bbf6-82541a3b3725",
   "metadata": {},
   "outputs": [],
   "source": [
    "pd.DataFrame(np.flipud(un_actual.T))"
   ]
  },
  {
   "cell_type": "code",
   "execution_count": null,
   "id": "9f04bbab-0912-4754-8968-98c9905fef01",
   "metadata": {},
   "outputs": [],
   "source": [
    "un.shape"
   ]
  },
  {
   "cell_type": "code",
   "execution_count": null,
   "id": "9784d950-b6f0-43c6-bcc0-4652209abbce",
   "metadata": {},
   "outputs": [],
   "source": [
    "(Nx+4)*(Ny+4)"
   ]
  },
  {
   "cell_type": "code",
   "execution_count": null,
   "id": "f9df9011-a693-47d9-869a-900613584c47",
   "metadata": {},
   "outputs": [],
   "source": []
  }
 ],
 "metadata": {
  "kernelspec": {
   "display_name": "Python 3 (ipykernel)",
   "language": "python",
   "name": "python3"
  },
  "language_info": {
   "codemirror_mode": {
    "name": "ipython",
    "version": 3
   },
   "file_extension": ".py",
   "mimetype": "text/x-python",
   "name": "python",
   "nbconvert_exporter": "python",
   "pygments_lexer": "ipython3",
   "version": "3.9.7"
  }
 },
 "nbformat": 4,
 "nbformat_minor": 5
}
