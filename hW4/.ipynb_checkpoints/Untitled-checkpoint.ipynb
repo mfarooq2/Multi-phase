{
 "cells": [
  {
   "cell_type": "code",
   "execution_count": null,
   "id": "ca4d182f-d86a-4b00-b0a4-3fab02a04d5e",
   "metadata": {},
   "outputs": [],
   "source": [
    "class HalfIndexedList(list):\n",
    "    def __getitem__(self, key):\n",
    "        c=super().__getitem__(int(key[0] * 2))\n",
    "        return c.__getitem__(int(key[1] * 2))"
   ]
  },
  {
   "cell_type": "code",
   "execution_count": null,
   "id": "f6801ace-733f-4694-969b-e2e365a42c15",
   "metadata": {},
   "outputs": [],
   "source": [
    "import numpy as np\n",
    "import pandas as pd"
   ]
  },
  {
   "cell_type": "code",
   "execution_count": null,
   "id": "2147f3c8-f353-487f-8054-a38002570659",
   "metadata": {},
   "outputs": [],
   "source": [
    "##Variables\n",
    "u_avg=0.0125\n"
   ]
  },
  {
   "cell_type": "code",
   "execution_count": null,
   "id": "eda0b78b-5d96-4f53-a389-3dfc58c45775",
   "metadata": {},
   "outputs": [],
   "source": [
    "x1=np.linspace(0, 0.04, num=2*nx+1)\n",
    "x2=np.linspace(0, 0.02, num=2*ny+1)"
   ]
  },
  {
   "cell_type": "code",
   "execution_count": null,
   "id": "d1709681-5c28-4dd7-830c-f7a207752404",
   "metadata": {},
   "outputs": [],
   "source": [
    "def BC_drich(vect,value):\n",
    "    y=[0,3]\n",
    "    for i in (xi[2:(2*nx-1)+4]):\n",
    "        for j in y:\n",
    "            ix=np.argwhere((p[:,0]==i) & (  p[:,1]==j))[0][0]\n",
    "            vect[ix]=value\n",
    "    return vect"
   ]
  },
  {
   "cell_type": "code",
   "execution_count": null,
   "id": "e12a0c67-3bb7-4d07-8d91-fad5d16ee29c",
   "metadata": {},
   "outputs": [],
   "source": [
    "def BC_period(vect):\n",
    "    x1=[0,5.5]\n",
    "    x2=[x1[0]+0.5,x1[1]+0.5]\n",
    "    for j in (xj[2:(2*ny-1)+4]):\n",
    "        ix1=np.argwhere( (p[:,0]==x1[0]) & (p[:,1]==j) )[0][0]\n",
    "        ix2=np.argwhere( (p[:,0]==x1[1]) & (p[:,1]==j) )[0][0]\n",
    "        ix3=np.argwhere( (p[:,0]==x2[0]) & (p[:,1]==j) )[0][0]\n",
    "        ix4=np.argwhere( (p[:,0]==x2[0]) & (p[:,1]==j) )[0][0]\n",
    "        vect[ix1]=vect[ix2]\n",
    "        vect[ix3]=vect[ix4]\n",
    "    return vect"
   ]
  },
  {
   "cell_type": "code",
   "execution_count": null,
   "id": "6c1378ac-9e29-439d-9519-7432e4663bdd",
   "metadata": {},
   "outputs": [],
   "source": [
    "def vect_value_adder(vect,idx,val,dom_x_s,dom_x_e):\n",
    "    ix=np.argwhere( (p[:,0]==idx))[:,0]\n",
    "    np.put(vect, ix, val*np.ones_like(ix))\n",
    "    return vect"
   ]
  },
  {
   "cell_type": "code",
   "execution_count": null,
   "id": "24f6c2bb-85eb-45db-8b0b-0506eb9886b6",
   "metadata": {},
   "outputs": [],
   "source": [
    "np.take(a, indices)"
   ]
  },
  {
   "cell_type": "code",
   "execution_count": null,
   "id": "1890d8cc-0d13-4cee-bfed-1ac8325dc820",
   "metadata": {},
   "outputs": [],
   "source": [
    "nx=6\n",
    "ny=3\n",
    "xij=[]\n",
    "xi=0.5*np.linspace(0, 2*nx+2, num=2*nx+3)\n",
    "xi=np.insert(np.insert(xi, 0, -0.5),0,-1)\n",
    "xj=0.5*np.linspace(0, 2*ny+2, num=2*ny+3)\n",
    "xj=np.insert(np.insert(xj, 0, -0.5),0,-1)\n",
    "for i in range(len(xi)):\n",
    "    for j in range(len(xj)):\n",
    "        xij.append([xi[i],xj[j]])\n",
    "p=np.array(xij)"
   ]
  },
  {
   "cell_type": "code",
   "execution_count": null,
   "id": "3b694aac-f86f-4359-93c6-089570d8324b",
   "metadata": {},
   "outputs": [],
   "source": [
    "un=np.zeros(((2*nx+5)*(2*ny+5) ))\n",
    "\n",
    "i=5.5\n",
    "val=-3\n",
    "un=vect_value_adder(un,i,val,2,(2*ny-1)+3)\n",
    "#un=BC_period(un)\n",
    "un_actual=un.reshape((2*nx+5,2*ny+5))"
   ]
  },
  {
   "cell_type": "code",
   "execution_count": null,
   "id": "553b3b36-2f20-4e43-b23e-75e5598c512f",
   "metadata": {},
   "outputs": [],
   "source": [
    "ix=np.argwhere((p[:,0]==i))\n",
    "ix=ix.reshape(len(ix))"
   ]
  },
  {
   "cell_type": "code",
   "execution_count": null,
   "id": "c2ed15ea-7011-4882-89b0-8aab05d0bfee",
   "metadata": {},
   "outputs": [],
   "source": [
    "un=np.zeros(((2*nx+5),(2*ny+5) ))"
   ]
  },
  {
   "cell_type": "code",
   "execution_count": null,
   "id": "8acf8dcf-9dfd-4d55-aebb-7f848356c214",
   "metadata": {},
   "outputs": [],
   "source": [
    "un.shape"
   ]
  },
  {
   "cell_type": "code",
   "execution_count": null,
   "id": "8661227e-89c8-4565-a511-ea5de97322d1",
   "metadata": {},
   "outputs": [],
   "source": [
    "un_actual=np.zeros(((2*nx+5),(2*ny+5) ))\n",
    "un_actual[3:2*nx+2,3:2*ny +2]=u_avg\n",
    "un_actual=un.reshape((2*nx+5,2*ny+5))"
   ]
  },
  {
   "cell_type": "code",
   "execution_count": null,
   "id": "7fdc7c06-bcba-45c6-bda3-96a9b1a3e4e9",
   "metadata": {},
   "outputs": [],
   "source": [
    "np.put(vect, ix, val*np.ones_like(ix))"
   ]
  },
  {
   "cell_type": "code",
   "execution_count": null,
   "id": "7378daad-cfa0-49b9-97ef-042bf96f2c24",
   "metadata": {},
   "outputs": [],
   "source": [
    "un=u_avg*np.ones(((2*nx+5)*(2*ny+5) ))\n",
    "us=np.zeros(((2*nx+5)*(2*ny+5) ))\n",
    "un=BC_drich(un,2)\n",
    "un=BC_period(un)\n",
    "un_actual=un.reshape((2*nx+5,2*ny+5))"
   ]
  },
  {
   "cell_type": "code",
   "execution_count": null,
   "id": "1014cf8b-a669-4131-a603-6050f95f8c69",
   "metadata": {},
   "outputs": [],
   "source": [
    "pd.DataFrame(np.flipud(un_actual.T))"
   ]
  },
  {
   "cell_type": "code",
   "execution_count": null,
   "id": "0f8b4a1b-11a3-4be8-9526-1d0e36bbfd81",
   "metadata": {},
   "outputs": [],
   "source": [
    "def Dif_x_n(i,j):\n",
    "    return (1/(h**2))*(cell_S_x_un[i+1,j]+cell_S_x_un[i-1,j]+cell_S_x_un[i,j+1]+cell_S_x_un[i,j-1]-4*cell_S_x_un[i,j])\n",
    "def Div(qi,np,nu,nx,ny,dx,dy,iu,iv,ip):\n",
    "    ## Initialize output\n",
    "    qo = np.nan*np.ones((np,1))\n",
    "    qo[ip[1:nx-1, 1:ny-1]] = ((- qi[iu[1:nx-1, 1:ny-1]] + qi[iu[2:nx, 1:ny-1]] ) / dx) + ((- qi[iv[1:nx-1, 1:ny-1]] + qi[iv[1:nx-1, 2:ny]] ) / dy)\n",
    "    return qo\n",
    "def Div(qi,np,nu,nx,ny,dx,dy,iu,iv,ip):\n",
    "    ## Initialize output\n",
    "    qo = np.nan*np.ones((np,1))\n",
    "    qo[ip[1:nx-1, 1:ny-1]] = ((- qi[iu[1:nx-1, 1:ny-1]] + qi[iu[2:nx, 1:ny-1]] ) / dx) + ((- qi[iv[1:nx-1, 1:ny-1]] + qi[iv[1:nx-1, 2:ny]] ) / dy)\n",
    "    return qo"
   ]
  },
  {
   "cell_type": "code",
   "execution_count": null,
   "id": "2d7b3f9f-3f92-4c67-85bc-45bdda73f853",
   "metadata": {},
   "outputs": [],
   "source": [
    "un_actual"
   ]
  },
  {
   "cell_type": "code",
   "execution_count": null,
   "id": "8fadaed8-d748-458c-b47f-1dae5ff4d20f",
   "metadata": {},
   "outputs": [],
   "source": [
    "while L_sq_r<1.01:\n",
    "    L_sq[0]=L_sq[1]\n",
    "#predictor step:\n",
    "    for i in (xi[3:(2*nx-1)+3]):\n",
    "        for j in (xj[3:(2*ny-1)+3]):\n",
    "            cell_S_x_us[i,j]=cell_S_x_un[i,j]+dt*(nu*Dif_x_n(i,j))\n",
    "            \n",
    "    \n",
    "# #B.C. update  \n",
    "    for j in range(0, Nx2+2):\n",
    "        cell_S_x_us[0,j]=cell_S_x_us[-2,j]\n",
    "        cell_S_x_us[-1,j]=cell_S_x_us[1,j]\n",
    "    for i in range(0, Nx1+2):\n",
    "        cell_S_x_us[i,0]=0\n",
    "        cell_S_x_us[i,-1]=0\n",
    "\n",
    " #corrector step:\n",
    "    for j in range(1, Nx2+1):\n",
    "        for i in range(1, Nx1+1):\n",
    "            cell_S_x_unn[i,j]=cell_S_x_us[i,j]-(1/rho)*(dt)*(gradP)\n",
    "\n",
    " #B.C. update  \n",
    "    for j in range(0, Nx2+2):\n",
    "        cell_S_x_unn[0,j]=cell_S_x_unn[-2,j]\n",
    "        cell_S_x_unn[-1,j]=cell_S_x_unn[1,j]\n",
    "    for i in range(0, Nx1+2):\n",
    "        cell_S_x_unn[i,0]=-cell_S_y_unn[i,1]\n",
    "        cell_S_x_unn[i,-1]=-cell_S_y_unn[i,-2]\n",
    "\n",
    "    for j in range(1, Nx2+1):\n",
    "        for i in range(1, Nx1+1):\n",
    "            cell_S_x_un[i,j]=cell_S_x_unn[i,j]\n",
    "    sq_sum_error=0\n",
    "    \n",
    "    for i in range(1,Nx2+1):\n",
    "        sq_sum_error+=(ref_S_u[i]-cell_S_x_un[50,i])**2\n",
    "    L_sq[1]=math.sqrt(sq_sum_error/(Nx2+1))\n",
    "\n",
    "    if n_iter%10000==0:\n",
    "        print(f'iter= {str(n_iter)}' + ', L_sq= {:.4e}'.format(L_sq[0]))\n",
    "        plt.plot(cell_S_x_un[50,1:Nx2+1],cell_S_x_coor_y[50,1:Nx2+1], color='navy',\n",
    "        label='numerical sol, $L^2$= {:10.4e}'.format(L_sq[0]))\n",
    "        plt.plot(ref_S_u[1:Nx2+1] ,cell_S_x_coor_y[50,1:Nx2+1], color='red',\n",
    "        label='reference')\n",
    "        plt.xlabel('$u_1$ ($m/s$)')\n",
    "        plt.ylabel('$x_2$ (m)')\n",
    "        plt.legend()\n",
    "\n",
    "        plt.grid()\n",
    "        plt.show()\n",
    "\n",
    "        plt.contourf(cell_cent_x[1:Nx1+1, 1:Nx2+1], cell_cent_y[1:Nx1+1, 1:Nx2+1],\n",
    "        cell_S_x_un[1:Nx1+1, 1:Nx2+1], 20, cmap='inferno')\n",
    "        plt.colorbar()\n",
    "        plt.xlabel('$x_1$ (m)')\n",
    "        plt.ylabel('$x_2$ (m)')\n",
    "        plt.title('domain $u_1$ contour ($m/s$)')\n",
    "        plt.show()\n",
    "    L_sq_r=L_sq[1]/L_sq[0]\n",
    "\n",
    "    n_iter+=1\n",
    "\n",
    "\n",
    "print(f'iter= {n_iter}' + ', L_sq= {:.4e}'.format(L_sq[0]))\n",
    "plt.plot(cell_S_x_un[50,1:Nx2+1],cell_S_x_coor_y[50,1:Nx2+1], color='navy',\n",
    "label='numerical sol, $L^2$= {:10.4e}'.format(L_sq[0]))\n",
    "plt.plot(ref_S_u[1:Nx2+1] ,cell_S_x_coor_y[50,1:Nx2+1], color='red', label='reference')\n",
    "plt.xlabel('$u_1$ ($m/s$)')\n",
    "plt.ylabel('$x_2$ (m)')\n",
    "plt.legend()\n",
    "plt.grid()\n",
    "plt.show()\n",
    "\n",
    "plt.contourf(cell_cent_x[1:Nx1+1, 1:Nx2+1], cell_cent_y[1:Nx1+1, 1:Nx2+1],\n",
    "cell_S_x_un[1:Nx1+1, 1:Nx2+1], 20, cmap='inferno')\n",
    "plt.colorbar()\n",
    "plt.xlabel('$x_1$ (m)')\n",
    "plt.ylabel('$x_2$ (m)')\n",
    "plt.title('domain $u_1$ contour ($m/s$)')\n",
    "plt.show()"
   ]
  },
  {
   "cell_type": "code",
   "execution_count": null,
   "id": "ee28413f-2b98-48a5-81dc-bab78c2e7bae",
   "metadata": {},
   "outputs": [],
   "source": [
    "a"
   ]
  },
  {
   "cell_type": "code",
   "execution_count": null,
   "id": "23e38aa9-5b55-4feb-afb1-642f1c86dd24",
   "metadata": {},
   "outputs": [],
   "source": []
  },
  {
   "cell_type": "code",
   "execution_count": null,
   "id": "69034cbd-3aca-4838-a54b-8733894338d3",
   "metadata": {},
   "outputs": [],
   "source": [
    "a"
   ]
  },
  {
   "cell_type": "code",
   "execution_count": null,
   "id": "f83e64bf-4f8a-4d2f-8b51-2feddc4ba859",
   "metadata": {},
   "outputs": [],
   "source": []
  }
 ],
 "metadata": {
  "kernelspec": {
   "display_name": "Python 3 (ipykernel)",
   "language": "python",
   "name": "python3"
  },
  "language_info": {
   "codemirror_mode": {
    "name": "ipython",
    "version": 3
   },
   "file_extension": ".py",
   "mimetype": "text/x-python",
   "name": "python",
   "nbconvert_exporter": "python",
   "pygments_lexer": "ipython3",
   "version": "3.9.7"
  }
 },
 "nbformat": 4,
 "nbformat_minor": 5
}
