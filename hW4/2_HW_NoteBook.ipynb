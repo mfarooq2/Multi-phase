{
 "cells": [
  {
   "cell_type": "code",
   "execution_count": 5,
   "id": "273a9480-7931-442a-a206-4aa643046348",
   "metadata": {},
   "outputs": [],
   "source": [
    "##Imports\n",
    "import matplotlib.pyplot as plt\n",
    "import numpy as np\n",
    "import pandas as pd"
   ]
  },
  {
   "cell_type": "code",
   "execution_count": 6,
   "id": "a44a79b9-94ac-40d0-b05e-b5251cd48c3e",
   "metadata": {},
   "outputs": [],
   "source": [
    "##Variables\n",
    "nu=1e-6\n",
    "mu=1e-3\n",
    "rho=1e+3\n",
    "dt=0.0001\n",
    "gradP=0.375\n",
    "u_avg=0.0125\n",
    "nx=6\n",
    "ny=3"
   ]
  },
  {
   "cell_type": "code",
   "execution_count": 7,
   "id": "2d986d5e-6686-47c9-9c6d-e0d8886edb46",
   "metadata": {},
   "outputs": [],
   "source": [
    "Nx=2*nx+1\n",
    "Ny=2*ny+1\n",
    "L=0.04\n",
    "H=0.02\n",
    "h=L/Nx\n",
    "L_sq=np.array([1.0,1.0])"
   ]
  },
  {
   "cell_type": "code",
   "execution_count": 8,
   "id": "a0e69480-067e-4558-b1d3-2df186a8c2ee",
   "metadata": {},
   "outputs": [],
   "source": [
    "x1=np.linspace(0, L, num=2*nx+1)\n",
    "x2=np.linspace(0, H, num=2*ny+1)\n",
    "xi=0.5*np.linspace(0, Nx, num=Nx+1)\n",
    "xi=np.insert(xi, 0, -0.5)\n",
    "xj=0.5*np.linspace(0, Ny, num=Ny+1)\n",
    "xj=np.insert(xj, 0, -0.5)"
   ]
  },
  {
   "cell_type": "code",
   "execution_count": 9,
   "id": "6bd3abb8-e477-46a8-95d3-20ddba214cef",
   "metadata": {},
   "outputs": [],
   "source": [
    "def p_creator(xi,xj,Nx,Ny):\n",
    "    xij=[]\n",
    "    for i in range(len(xi)):\n",
    "        for j in range(len(xj)):\n",
    "            xij.append([xi[i],xj[j]])\n",
    "    return np.array(xij)  \n",
    "p=p_creator(xi,xj,Nx,Ny)"
   ]
  },
  {
   "cell_type": "code",
   "execution_count": 47,
   "id": "279a4b90-c7fa-4c98-8741-99afe772f0c3",
   "metadata": {},
   "outputs": [
    {
     "data": {
      "text/plain": [
       "0.5"
      ]
     },
     "execution_count": 47,
     "metadata": {},
     "output_type": "execute_result"
    }
   ],
   "source": [
    "xj[2]"
   ]
  },
  {
   "cell_type": "code",
   "execution_count": 94,
   "id": "acd273a3-2f7a-4358-b765-b6ef86d11dfc",
   "metadata": {},
   "outputs": [],
   "source": [
    "#### Functions\n",
    "\n",
    "def BC_drich(vect,Nx,Ny,xi=xi,xj=xj,p=p):\n",
    "    y=[xj[2],xj[Ny+1]]\n",
    "    for i in xi[3:Nx-1]:\n",
    "        if (i.is_integer()==True):\n",
    "            ix1=np.argwhere((p[:,0]==i) & (  p[:,1]==xj[2]))[0][0]\n",
    "            ix1b=np.argwhere((p[:,0]==i) & (  p[:,1]==xj[0]))[0][0]\n",
    "            vect[ix1]=-vect[ix1b]\n",
    "            \n",
    "            ix2=np.argwhere((p[:,0]==i) & (  p[:,1]==xj[Ny-1]))[0][0]\n",
    "            ix2u=np.argwhere((p[:,0]==i) & (  p[:,1]==xj[Ny+1]))[0][0]\n",
    "            vect[ix2]=-vect[ix2u]\n",
    "    return vect\n",
    "\n",
    "def BC_period(vect,Nx,Ny,xi=xi,xj=xj,p=p):\n",
    "    x1=[xi[1],xi[Nx-2]]    \n",
    "    x2=[xi[3],xi[Nx]]\n",
    "    for j in (xj[2:(2*ny-1)+4]):\n",
    "        if (i.is_integer()==True):\n",
    "            ix1=np.argwhere( (p[:,0]==x1[0]) & (p[:,1]==j) )[0][0]\n",
    "            ix2=np.argwhere( (p[:,0]==x1[1]) & (p[:,1]==j) )[0][0]\n",
    "            ix3=np.argwhere( (p[:,0]==x2[0]) & (p[:,1]==j) )[0][0]\n",
    "            ix4=np.argwhere( (p[:,0]==x2[0]) & (p[:,1]==j) )[0][0]\n",
    "            vect[ix1]=vect[ix2]\n",
    "            vect[ix3]=vect[ix4]\n",
    "    return vect"
   ]
  },
  {
   "cell_type": "code",
   "execution_count": 53,
   "id": "8fc92f58-bbad-45e6-b171-85c53b7b7d4e",
   "metadata": {},
   "outputs": [
    {
     "data": {
      "text/plain": [
       "[0.0, 5.0]"
      ]
     },
     "execution_count": 53,
     "metadata": {},
     "output_type": "execute_result"
    }
   ],
   "source": [
    "[xi[1],xi[Nx-2]]    "
   ]
  },
  {
   "cell_type": "code",
   "execution_count": 52,
   "id": "e8aa6ca8-5c00-4791-8732-51583ff7491c",
   "metadata": {},
   "outputs": [
    {
     "data": {
      "text/plain": [
       "array([0.5, 1. , 1.5, 2. , 2.5, 3. , 3.5])"
      ]
     },
     "execution_count": 52,
     "metadata": {},
     "output_type": "execute_result"
    }
   ],
   "source": [
    "(xj[2:(2*ny-1)+4])"
   ]
  },
  {
   "cell_type": "code",
   "execution_count": 95,
   "id": "cfd01fcd-8cac-45d6-bf15-22d10dbd7022",
   "metadata": {},
   "outputs": [
    {
     "data": {
      "text/plain": [
       "<matplotlib.colorbar.Colorbar at 0x11be32970>"
      ]
     },
     "execution_count": 95,
     "metadata": {},
     "output_type": "execute_result"
    },
    {
     "data": {
      "image/png": "[encoded data removed]",
      "text/plain": [
       "<Figure size 640x480 with 2 Axes>"
      ]
     },
     "metadata": {},
     "output_type": "display_data"
    }
   ],
   "source": [
    "un=u_avg*np.ones(((Nx+2)*(Ny+2) ))\n",
    "qo= BC_drich(un,Nx,Ny)\n",
    "un_actual=qo.reshape((Nx+2,Ny+2))\n",
    "plt.imshow(np.flipud(un_actual.T),origin='lower')\n",
    "plt.colorbar()\n",
    "# s=pd.DataFrame(np.flipud(un_actual.T))\n",
    "# s.columns=(s.columns/2) -0.5\n",
    "# s.index=(s.index/2) -0.5\n",
    "# s = s.iloc[::-1]\n",
    "# s.loc[3.5]=0\n",
    "# s.loc[-0.5]=0\n"
   ]
  },
  {
   "cell_type": "code",
   "execution_count": 93,
   "id": "8751c54e-aeee-48d1-a771-d051e22e39ad",
   "metadata": {},
   "outputs": [
    {
     "data": {
      "text/html": [
       "<div>\n",
       "<style scoped>\n",
       "    .dataframe tbody tr th:only-of-type {\n",
       "        vertical-align: middle;\n",
       "    }\n",
       "\n",
       "    .dataframe tbody tr th {\n",
       "        vertical-align: top;\n",
       "    }\n",
       "\n",
       "    .dataframe thead th {\n",
       "        text-align: right;\n",
       "    }\n",
       "</style>\n",
       "<table border=\"1\" class=\"dataframe\">\n",
       "  <thead>\n",
       "    <tr style=\"text-align: right;\">\n",
       "      <th></th>\n",
       "      <th>-0.5</th>\n",
       "      <th>0.0</th>\n",
       "      <th>0.5</th>\n",
       "      <th>1.0</th>\n",
       "      <th>1.5</th>\n",
       "      <th>2.0</th>\n",
       "      <th>2.5</th>\n",
       "      <th>3.0</th>\n",
       "      <th>3.5</th>\n",
       "      <th>4.0</th>\n",
       "      <th>4.5</th>\n",
       "      <th>5.0</th>\n",
       "      <th>5.5</th>\n",
       "      <th>6.0</th>\n",
       "      <th>6.5</th>\n",
       "    </tr>\n",
       "  </thead>\n",
       "  <tbody>\n",
       "    <tr>\n",
       "      <th>3.5</th>\n",
       "      <td>0.0000</td>\n",
       "      <td>0.0000</td>\n",
       "      <td>0.0000</td>\n",
       "      <td>0.0000</td>\n",
       "      <td>0.0000</td>\n",
       "      <td>0.0000</td>\n",
       "      <td>0.0000</td>\n",
       "      <td>0.0000</td>\n",
       "      <td>0.0000</td>\n",
       "      <td>0.0000</td>\n",
       "      <td>0.0000</td>\n",
       "      <td>0.0000</td>\n",
       "      <td>0.0000</td>\n",
       "      <td>0.0000</td>\n",
       "      <td>0.0000</td>\n",
       "    </tr>\n",
       "    <tr>\n",
       "      <th>3.0</th>\n",
       "      <td>0.0125</td>\n",
       "      <td>0.0125</td>\n",
       "      <td>0.0125</td>\n",
       "      <td>0.0125</td>\n",
       "      <td>0.0125</td>\n",
       "      <td>0.0125</td>\n",
       "      <td>0.0125</td>\n",
       "      <td>0.0125</td>\n",
       "      <td>0.0125</td>\n",
       "      <td>0.0125</td>\n",
       "      <td>0.0125</td>\n",
       "      <td>0.0125</td>\n",
       "      <td>0.0125</td>\n",
       "      <td>0.0125</td>\n",
       "      <td>0.0125</td>\n",
       "    </tr>\n",
       "    <tr>\n",
       "      <th>2.5</th>\n",
       "      <td>0.0125</td>\n",
       "      <td>0.0125</td>\n",
       "      <td>0.0125</td>\n",
       "      <td>-0.0125</td>\n",
       "      <td>0.0125</td>\n",
       "      <td>-0.0125</td>\n",
       "      <td>0.0125</td>\n",
       "      <td>-0.0125</td>\n",
       "      <td>0.0125</td>\n",
       "      <td>-0.0125</td>\n",
       "      <td>0.0125</td>\n",
       "      <td>-0.0125</td>\n",
       "      <td>0.0125</td>\n",
       "      <td>0.0125</td>\n",
       "      <td>0.0125</td>\n",
       "    </tr>\n",
       "    <tr>\n",
       "      <th>2.0</th>\n",
       "      <td>0.0125</td>\n",
       "      <td>0.0125</td>\n",
       "      <td>0.0125</td>\n",
       "      <td>0.0125</td>\n",
       "      <td>0.0125</td>\n",
       "      <td>0.0125</td>\n",
       "      <td>0.0125</td>\n",
       "      <td>0.0125</td>\n",
       "      <td>0.0125</td>\n",
       "      <td>0.0125</td>\n",
       "      <td>0.0125</td>\n",
       "      <td>0.0125</td>\n",
       "      <td>0.0125</td>\n",
       "      <td>0.0125</td>\n",
       "      <td>0.0125</td>\n",
       "    </tr>\n",
       "    <tr>\n",
       "      <th>1.5</th>\n",
       "      <td>0.0125</td>\n",
       "      <td>0.0125</td>\n",
       "      <td>0.0125</td>\n",
       "      <td>0.0125</td>\n",
       "      <td>0.0125</td>\n",
       "      <td>0.0125</td>\n",
       "      <td>0.0125</td>\n",
       "      <td>0.0125</td>\n",
       "      <td>0.0125</td>\n",
       "      <td>0.0125</td>\n",
       "      <td>0.0125</td>\n",
       "      <td>0.0125</td>\n",
       "      <td>0.0125</td>\n",
       "      <td>0.0125</td>\n",
       "      <td>0.0125</td>\n",
       "    </tr>\n",
       "    <tr>\n",
       "      <th>1.0</th>\n",
       "      <td>0.0125</td>\n",
       "      <td>0.0125</td>\n",
       "      <td>0.0125</td>\n",
       "      <td>0.0125</td>\n",
       "      <td>0.0125</td>\n",
       "      <td>0.0125</td>\n",
       "      <td>0.0125</td>\n",
       "      <td>0.0125</td>\n",
       "      <td>0.0125</td>\n",
       "      <td>0.0125</td>\n",
       "      <td>0.0125</td>\n",
       "      <td>0.0125</td>\n",
       "      <td>0.0125</td>\n",
       "      <td>0.0125</td>\n",
       "      <td>0.0125</td>\n",
       "    </tr>\n",
       "    <tr>\n",
       "      <th>0.5</th>\n",
       "      <td>0.0125</td>\n",
       "      <td>0.0125</td>\n",
       "      <td>0.0125</td>\n",
       "      <td>-0.0125</td>\n",
       "      <td>0.0125</td>\n",
       "      <td>-0.0125</td>\n",
       "      <td>0.0125</td>\n",
       "      <td>-0.0125</td>\n",
       "      <td>0.0125</td>\n",
       "      <td>-0.0125</td>\n",
       "      <td>0.0125</td>\n",
       "      <td>-0.0125</td>\n",
       "      <td>0.0125</td>\n",
       "      <td>0.0125</td>\n",
       "      <td>0.0125</td>\n",
       "    </tr>\n",
       "    <tr>\n",
       "      <th>0.0</th>\n",
       "      <td>0.0125</td>\n",
       "      <td>0.0125</td>\n",
       "      <td>0.0125</td>\n",
       "      <td>0.0125</td>\n",
       "      <td>0.0125</td>\n",
       "      <td>0.0125</td>\n",
       "      <td>0.0125</td>\n",
       "      <td>0.0125</td>\n",
       "      <td>0.0125</td>\n",
       "      <td>0.0125</td>\n",
       "      <td>0.0125</td>\n",
       "      <td>0.0125</td>\n",
       "      <td>0.0125</td>\n",
       "      <td>0.0125</td>\n",
       "      <td>0.0125</td>\n",
       "    </tr>\n",
       "    <tr>\n",
       "      <th>-0.5</th>\n",
       "      <td>0.0000</td>\n",
       "      <td>0.0000</td>\n",
       "      <td>0.0000</td>\n",
       "      <td>0.0000</td>\n",
       "      <td>0.0000</td>\n",
       "      <td>0.0000</td>\n",
       "      <td>0.0000</td>\n",
       "      <td>0.0000</td>\n",
       "      <td>0.0000</td>\n",
       "      <td>0.0000</td>\n",
       "      <td>0.0000</td>\n",
       "      <td>0.0000</td>\n",
       "      <td>0.0000</td>\n",
       "      <td>0.0000</td>\n",
       "      <td>0.0000</td>\n",
       "    </tr>\n",
       "  </tbody>\n",
       "</table>\n",
       "</div>"
      ],
      "text/plain": [
       "        -0.5     0.0     0.5     1.0     1.5     2.0     2.5     3.0     3.5  \\\n",
       " 3.5  0.0000  0.0000  0.0000  0.0000  0.0000  0.0000  0.0000  0.0000  0.0000   \n",
       " 3.0  0.0125  0.0125  0.0125  0.0125  0.0125  0.0125  0.0125  0.0125  0.0125   \n",
       " 2.5  0.0125  0.0125  0.0125 -0.0125  0.0125 -0.0125  0.0125 -0.0125  0.0125   \n",
       " 2.0  0.0125  0.0125  0.0125  0.0125  0.0125  0.0125  0.0125  0.0125  0.0125   \n",
       " 1.5  0.0125  0.0125  0.0125  0.0125  0.0125  0.0125  0.0125  0.0125  0.0125   \n",
       " 1.0  0.0125  0.0125  0.0125  0.0125  0.0125  0.0125  0.0125  0.0125  0.0125   \n",
       " 0.5  0.0125  0.0125  0.0125 -0.0125  0.0125 -0.0125  0.0125 -0.0125  0.0125   \n",
       " 0.0  0.0125  0.0125  0.0125  0.0125  0.0125  0.0125  0.0125  0.0125  0.0125   \n",
       "-0.5  0.0000  0.0000  0.0000  0.0000  0.0000  0.0000  0.0000  0.0000  0.0000   \n",
       "\n",
       "         4.0     4.5     5.0     5.5     6.0     6.5  \n",
       " 3.5  0.0000  0.0000  0.0000  0.0000  0.0000  0.0000  \n",
       " 3.0  0.0125  0.0125  0.0125  0.0125  0.0125  0.0125  \n",
       " 2.5 -0.0125  0.0125 -0.0125  0.0125  0.0125  0.0125  \n",
       " 2.0  0.0125  0.0125  0.0125  0.0125  0.0125  0.0125  \n",
       " 1.5  0.0125  0.0125  0.0125  0.0125  0.0125  0.0125  \n",
       " 1.0  0.0125  0.0125  0.0125  0.0125  0.0125  0.0125  \n",
       " 0.5 -0.0125  0.0125 -0.0125  0.0125  0.0125  0.0125  \n",
       " 0.0  0.0125  0.0125  0.0125  0.0125  0.0125  0.0125  \n",
       "-0.5  0.0000  0.0000  0.0000  0.0000  0.0000  0.0000  "
      ]
     },
     "execution_count": 93,
     "metadata": {},
     "output_type": "execute_result"
    }
   ],
   "source": [
    "s[]"
   ]
  },
  {
   "cell_type": "code",
   "execution_count": 89,
   "id": "2de60ba4-bc3d-4223-96d9-b5614ef73499",
   "metadata": {},
   "outputs": [],
   "source": [
    "s.loc[-0.5]=0"
   ]
  },
  {
   "cell_type": "code",
   "execution_count": 90,
   "id": "67315521-0b55-48c4-b605-e7130fc9f2ea",
   "metadata": {},
   "outputs": [
    {
     "data": {
      "text/html": [
       "<div>\n",
       "<style scoped>\n",
       "    .dataframe tbody tr th:only-of-type {\n",
       "        vertical-align: middle;\n",
       "    }\n",
       "\n",
       "    .dataframe tbody tr th {\n",
       "        vertical-align: top;\n",
       "    }\n",
       "\n",
       "    .dataframe thead th {\n",
       "        text-align: right;\n",
       "    }\n",
       "</style>\n",
       "<table border=\"1\" class=\"dataframe\">\n",
       "  <thead>\n",
       "    <tr style=\"text-align: right;\">\n",
       "      <th></th>\n",
       "      <th>-0.5</th>\n",
       "      <th>0.0</th>\n",
       "      <th>0.5</th>\n",
       "      <th>1.0</th>\n",
       "      <th>1.5</th>\n",
       "      <th>2.0</th>\n",
       "      <th>2.5</th>\n",
       "      <th>3.0</th>\n",
       "      <th>3.5</th>\n",
       "      <th>4.0</th>\n",
       "      <th>4.5</th>\n",
       "      <th>5.0</th>\n",
       "      <th>5.5</th>\n",
       "      <th>6.0</th>\n",
       "      <th>6.5</th>\n",
       "    </tr>\n",
       "  </thead>\n",
       "  <tbody>\n",
       "    <tr>\n",
       "      <th>3.5</th>\n",
       "      <td>0.0125</td>\n",
       "      <td>0.0125</td>\n",
       "      <td>0.0125</td>\n",
       "      <td>0.0125</td>\n",
       "      <td>0.0125</td>\n",
       "      <td>0.0125</td>\n",
       "      <td>0.0125</td>\n",
       "      <td>0.0125</td>\n",
       "      <td>0.0125</td>\n",
       "      <td>0.0125</td>\n",
       "      <td>0.0125</td>\n",
       "      <td>0.0125</td>\n",
       "      <td>0.0125</td>\n",
       "      <td>0.0125</td>\n",
       "      <td>0.0125</td>\n",
       "    </tr>\n",
       "    <tr>\n",
       "      <th>3.0</th>\n",
       "      <td>0.0125</td>\n",
       "      <td>0.0125</td>\n",
       "      <td>0.0125</td>\n",
       "      <td>0.0125</td>\n",
       "      <td>0.0125</td>\n",
       "      <td>0.0125</td>\n",
       "      <td>0.0125</td>\n",
       "      <td>0.0125</td>\n",
       "      <td>0.0125</td>\n",
       "      <td>0.0125</td>\n",
       "      <td>0.0125</td>\n",
       "      <td>0.0125</td>\n",
       "      <td>0.0125</td>\n",
       "      <td>0.0125</td>\n",
       "      <td>0.0125</td>\n",
       "    </tr>\n",
       "    <tr>\n",
       "      <th>2.5</th>\n",
       "      <td>0.0125</td>\n",
       "      <td>0.0125</td>\n",
       "      <td>0.0125</td>\n",
       "      <td>-0.0125</td>\n",
       "      <td>0.0125</td>\n",
       "      <td>-0.0125</td>\n",
       "      <td>0.0125</td>\n",
       "      <td>-0.0125</td>\n",
       "      <td>0.0125</td>\n",
       "      <td>-0.0125</td>\n",
       "      <td>0.0125</td>\n",
       "      <td>-0.0125</td>\n",
       "      <td>0.0125</td>\n",
       "      <td>0.0125</td>\n",
       "      <td>0.0125</td>\n",
       "    </tr>\n",
       "    <tr>\n",
       "      <th>2.0</th>\n",
       "      <td>0.0125</td>\n",
       "      <td>0.0125</td>\n",
       "      <td>0.0125</td>\n",
       "      <td>0.0125</td>\n",
       "      <td>0.0125</td>\n",
       "      <td>0.0125</td>\n",
       "      <td>0.0125</td>\n",
       "      <td>0.0125</td>\n",
       "      <td>0.0125</td>\n",
       "      <td>0.0125</td>\n",
       "      <td>0.0125</td>\n",
       "      <td>0.0125</td>\n",
       "      <td>0.0125</td>\n",
       "      <td>0.0125</td>\n",
       "      <td>0.0125</td>\n",
       "    </tr>\n",
       "    <tr>\n",
       "      <th>1.5</th>\n",
       "      <td>0.0125</td>\n",
       "      <td>0.0125</td>\n",
       "      <td>0.0125</td>\n",
       "      <td>0.0125</td>\n",
       "      <td>0.0125</td>\n",
       "      <td>0.0125</td>\n",
       "      <td>0.0125</td>\n",
       "      <td>0.0125</td>\n",
       "      <td>0.0125</td>\n",
       "      <td>0.0125</td>\n",
       "      <td>0.0125</td>\n",
       "      <td>0.0125</td>\n",
       "      <td>0.0125</td>\n",
       "      <td>0.0125</td>\n",
       "      <td>0.0125</td>\n",
       "    </tr>\n",
       "    <tr>\n",
       "      <th>1.0</th>\n",
       "      <td>0.0125</td>\n",
       "      <td>0.0125</td>\n",
       "      <td>0.0125</td>\n",
       "      <td>0.0125</td>\n",
       "      <td>0.0125</td>\n",
       "      <td>0.0125</td>\n",
       "      <td>0.0125</td>\n",
       "      <td>0.0125</td>\n",
       "      <td>0.0125</td>\n",
       "      <td>0.0125</td>\n",
       "      <td>0.0125</td>\n",
       "      <td>0.0125</td>\n",
       "      <td>0.0125</td>\n",
       "      <td>0.0125</td>\n",
       "      <td>0.0125</td>\n",
       "    </tr>\n",
       "    <tr>\n",
       "      <th>0.5</th>\n",
       "      <td>0.0125</td>\n",
       "      <td>0.0125</td>\n",
       "      <td>0.0125</td>\n",
       "      <td>-0.0125</td>\n",
       "      <td>0.0125</td>\n",
       "      <td>-0.0125</td>\n",
       "      <td>0.0125</td>\n",
       "      <td>-0.0125</td>\n",
       "      <td>0.0125</td>\n",
       "      <td>-0.0125</td>\n",
       "      <td>0.0125</td>\n",
       "      <td>-0.0125</td>\n",
       "      <td>0.0125</td>\n",
       "      <td>0.0125</td>\n",
       "      <td>0.0125</td>\n",
       "    </tr>\n",
       "    <tr>\n",
       "      <th>0.0</th>\n",
       "      <td>0.0125</td>\n",
       "      <td>0.0125</td>\n",
       "      <td>0.0125</td>\n",
       "      <td>0.0125</td>\n",
       "      <td>0.0125</td>\n",
       "      <td>0.0125</td>\n",
       "      <td>0.0125</td>\n",
       "      <td>0.0125</td>\n",
       "      <td>0.0125</td>\n",
       "      <td>0.0125</td>\n",
       "      <td>0.0125</td>\n",
       "      <td>0.0125</td>\n",
       "      <td>0.0125</td>\n",
       "      <td>0.0125</td>\n",
       "      <td>0.0125</td>\n",
       "    </tr>\n",
       "    <tr>\n",
       "      <th>-0.5</th>\n",
       "      <td>0.0000</td>\n",
       "      <td>0.0000</td>\n",
       "      <td>0.0000</td>\n",
       "      <td>0.0000</td>\n",
       "      <td>0.0000</td>\n",
       "      <td>0.0000</td>\n",
       "      <td>0.0000</td>\n",
       "      <td>0.0000</td>\n",
       "      <td>0.0000</td>\n",
       "      <td>0.0000</td>\n",
       "      <td>0.0000</td>\n",
       "      <td>0.0000</td>\n",
       "      <td>0.0000</td>\n",
       "      <td>0.0000</td>\n",
       "      <td>0.0000</td>\n",
       "    </tr>\n",
       "  </tbody>\n",
       "</table>\n",
       "</div>"
      ],
      "text/plain": [
       "        -0.5     0.0     0.5     1.0     1.5     2.0     2.5     3.0     3.5  \\\n",
       " 3.5  0.0125  0.0125  0.0125  0.0125  0.0125  0.0125  0.0125  0.0125  0.0125   \n",
       " 3.0  0.0125  0.0125  0.0125  0.0125  0.0125  0.0125  0.0125  0.0125  0.0125   \n",
       " 2.5  0.0125  0.0125  0.0125 -0.0125  0.0125 -0.0125  0.0125 -0.0125  0.0125   \n",
       " 2.0  0.0125  0.0125  0.0125  0.0125  0.0125  0.0125  0.0125  0.0125  0.0125   \n",
       " 1.5  0.0125  0.0125  0.0125  0.0125  0.0125  0.0125  0.0125  0.0125  0.0125   \n",
       " 1.0  0.0125  0.0125  0.0125  0.0125  0.0125  0.0125  0.0125  0.0125  0.0125   \n",
       " 0.5  0.0125  0.0125  0.0125 -0.0125  0.0125 -0.0125  0.0125 -0.0125  0.0125   \n",
       " 0.0  0.0125  0.0125  0.0125  0.0125  0.0125  0.0125  0.0125  0.0125  0.0125   \n",
       "-0.5  0.0000  0.0000  0.0000  0.0000  0.0000  0.0000  0.0000  0.0000  0.0000   \n",
       "\n",
       "         4.0     4.5     5.0     5.5     6.0     6.5  \n",
       " 3.5  0.0125  0.0125  0.0125  0.0125  0.0125  0.0125  \n",
       " 3.0  0.0125  0.0125  0.0125  0.0125  0.0125  0.0125  \n",
       " 2.5 -0.0125  0.0125 -0.0125  0.0125  0.0125  0.0125  \n",
       " 2.0  0.0125  0.0125  0.0125  0.0125  0.0125  0.0125  \n",
       " 1.5  0.0125  0.0125  0.0125  0.0125  0.0125  0.0125  \n",
       " 1.0  0.0125  0.0125  0.0125  0.0125  0.0125  0.0125  \n",
       " 0.5 -0.0125  0.0125 -0.0125  0.0125  0.0125  0.0125  \n",
       " 0.0  0.0125  0.0125  0.0125  0.0125  0.0125  0.0125  \n",
       "-0.5  0.0000  0.0000  0.0000  0.0000  0.0000  0.0000  "
      ]
     },
     "execution_count": 90,
     "metadata": {},
     "output_type": "execute_result"
    }
   ],
   "source": [
    "s"
   ]
  },
  {
   "cell_type": "code",
   "execution_count": 12,
   "id": "1570b71b-e7df-4104-8127-21faeae6530b",
   "metadata": {},
   "outputs": [],
   "source": [
    "def GenPointer(Nx, Ny):\n",
    "    iu = np.nan*np.ones((nx,ny))\n",
    "    xi=0.5*np.linspace(0, Nx+1, num=Nx+2)\n",
    "    xi=np.insert(np.insert(xi, 0, -0.5),0,-1)\n",
    "    xj=0.5*np.linspace(0, Ny+1, num=Ny+2)\n",
    "    xj=np.insert(np.insert(xj, 0, -0.5),0,-1)\n",
    "    ## Memory allocation\n",
    "    id_u = 0  # index to be used in vector variable u = [ux; uy]\n",
    "    for i in xi:\n",
    "        for j in xj:\n",
    "            iu[i, j] = id_u\n",
    "            id_u = id_u + 1\n"
   ]
  },
  {
   "cell_type": "code",
   "execution_count": 14,
   "id": "c7c52fda-5b51-4240-819a-705a18fbb150",
   "metadata": {},
   "outputs": [],
   "source": [
    "###\n",
    "def iu(i,j,p=p):\n",
    "    ix=np.argwhere((p[:,0]==i) & (  p[:,1]==j))[0][0]\n",
    "    return ix"
   ]
  },
  {
   "cell_type": "code",
   "execution_count": 46,
   "id": "dae22f41-d394-4769-9d69-c3d62c01eb7d",
   "metadata": {},
   "outputs": [],
   "source": [
    "def diff(iu,un):\n",
    "    #qo = np.nan*np.ones((len(un)))\n",
    "    qo = np.zeros((len(un)))\n",
    "    for i in xi[3:Nx-1]:\n",
    "        for j in xj[2:Ny-1]:\n",
    "            if (i.is_integer()==True and j.is_integer()==False):\n",
    "                qo[iu(i,j)] = (1/(h**2))*(un[iu(i+1,j)]+un[iu(i-1,j)]+un[iu(i,j+1)]+un[iu(i,j-1)]-4*un[iu(i,j)])\n",
    "                print( qo[iu(i,j)])\n",
    "    return qo"
   ]
  },
  {
   "cell_type": "code",
   "execution_count": 20,
   "id": "0bb81125-ec07-4383-989c-726fe54aedea",
   "metadata": {},
   "outputs": [],
   "source": [
    "un=u_avg*np.ones(((Nx+2)*(Ny+2) ))\n",
    "# un_actual=un.reshape((Nx+2,Ny+2))\n",
    "# plt.imshow(np.flipud(un_actual.T),origin='lower')\n",
    "# plt.colorbar()\n",
    "# pd.DataFrame(np.flipud(un_actual.T))"
   ]
  },
  {
   "cell_type": "code",
   "execution_count": 22,
   "id": "86a72954-d247-4882-aa9d-90f8c5c44ae4",
   "metadata": {},
   "outputs": [],
   "source": [
    "i=1\n",
    "j=0.5"
   ]
  },
  {
   "cell_type": "code",
   "execution_count": 26,
   "id": "77f722df-5bda-403d-880c-1e17e4eba2b9",
   "metadata": {},
   "outputs": [
    {
     "data": {
      "text/plain": [
       "array([-0.5,  0. ,  0.5,  1. ,  1.5,  2. ,  2.5,  3. ,  3.5,  4. ,  4.5,\n",
       "        5. ,  5.5,  6. ,  6.5])"
      ]
     },
     "execution_count": 26,
     "metadata": {},
     "output_type": "execute_result"
    }
   ],
   "source": [
    "xi"
   ]
  },
  {
   "cell_type": "code",
   "execution_count": 27,
   "id": "27430957-186f-4fbe-b318-8a1830f108fe",
   "metadata": {},
   "outputs": [
    {
     "data": {
      "text/plain": [
       "array([-0.5,  0. ,  0.5,  1. ,  1.5,  2. ,  2.5,  3. ,  3.5])"
      ]
     },
     "execution_count": 27,
     "metadata": {},
     "output_type": "execute_result"
    }
   ],
   "source": [
    "xj"
   ]
  },
  {
   "cell_type": "code",
   "execution_count": 45,
   "id": "5b918d62-ffcb-4b3b-b387-9aa4ad8b4ea4",
   "metadata": {},
   "outputs": [
    {
     "name": "stdout",
     "output_type": "stream",
     "text": [
      "2.0 1.5\n",
      "3.0 1.5\n",
      "4.0 1.5\n"
     ]
    }
   ],
   "source": [
    "un=u_avg*np.ones(((Nx+2)*(Ny+2) ))\n",
    "qo = np.zeros((len(un)))\n",
    "bi=0\n",
    "for i in xi[5:Nx-3]:\n",
    "    for j in xj[3:Ny-1]:\n",
    "        if (i.is_integer()==True and j.is_integer()==False):\n",
    "            mult=(un[iu(i+1,j)]+un[iu(i-1,j)]+un[iu(i,j+1)]+un[iu(i,j-1)]-4*un[iu(i,j)])\n",
    "            print(i,j)\n",
    "            qo[iu(i,j)] = (1/(h**2))*mult"
   ]
  },
  {
   "cell_type": "code",
   "execution_count": 42,
   "id": "cfeb6519-f10d-4ffb-bbc3-ae6e6c0ce6ee",
   "metadata": {},
   "outputs": [
    {
     "data": {
      "text/plain": [
       "array([2. , 2.5, 3. , 3.5, 4. ])"
      ]
     },
     "execution_count": 42,
     "metadata": {},
     "output_type": "execute_result"
    }
   ],
   "source": [
    "xi[5:Nx-3]"
   ]
  },
  {
   "cell_type": "code",
   "execution_count": null,
   "id": "4611c521-2865-4cc4-8639-7aac1edf24fa",
   "metadata": {},
   "outputs": [],
   "source": [
    "ix=np.argwhere((p[:,0]==1.5) & (  p[:,1]==j))]"
   ]
  },
  {
   "cell_type": "code",
   "execution_count": null,
   "id": "2ad8b6bf-6e40-4661-b680-c4037ad2a46d",
   "metadata": {},
   "outputs": [],
   "source": [
    "i+1"
   ]
  },
  {
   "cell_type": "code",
   "execution_count": null,
   "id": "01331b48-e481-4c0a-b4b6-dbcc165a3b05",
   "metadata": {},
   "outputs": [],
   "source": [
    "(0%2==0 and 1%2!=0)"
   ]
  },
  {
   "cell_type": "code",
   "execution_count": null,
   "id": "80de8d53-c46c-4dc7-a721-8cf5ddc759b6",
   "metadata": {},
   "outputs": [],
   "source": [
    "1%2!=0"
   ]
  },
  {
   "cell_type": "code",
   "execution_count": null,
   "id": "46110463-d96b-4c05-8584-5474fe809dc3",
   "metadata": {},
   "outputs": [],
   "source": [
    "0%2==0"
   ]
  },
  {
   "cell_type": "code",
   "execution_count": null,
   "id": "8ae898c4-5ae9-4d37-9834-d329b538f976",
   "metadata": {},
   "outputs": [],
   "source": [
    "un=u_avg*np.ones(((Nx+2)*(Ny+2) ))\n",
    "us=np.zeros(((Nx+2)*(Ny+2) ))\n",
    "un1=np.zeros(((Nx+2)*(Ny+2) ))\n",
    "un_actual=un.reshape((Nx+2,Ny+2))"
   ]
  },
  {
   "cell_type": "code",
   "execution_count": null,
   "id": "d9fcce8b-4957-4cd7-8c0f-eb32359794d7",
   "metadata": {},
   "outputs": [],
   "source": [
    "#un=u_avg*np.ones(((Nx+2)*(Ny+2) ))\n",
    "us=us+dt*diff(iu,us)"
   ]
  },
  {
   "cell_type": "code",
   "execution_count": null,
   "id": "5e28ed89-32be-482c-97a6-ea7a4f5a8aa5",
   "metadata": {},
   "outputs": [],
   "source": [
    "us"
   ]
  },
  {
   "cell_type": "code",
   "execution_count": null,
   "id": "f21b3237-42a8-4e62-a735-e92bb14521b4",
   "metadata": {},
   "outputs": [],
   "source": [
    "for f in range(10):\n",
    "#predictor step:\n",
    "    us=un+dt*diff(iu,un)\n",
    "    #us=BC_drich(us,Nx,Ny)\n",
    "    #us=BC_period(us,Nx,Ny)\n",
    "    #corrector step:\n",
    "    # ci=0\n",
    "    # cj=0\n",
    "    # for i in xi[3:Nx-1]:\n",
    "    #     for j in xj[2:Ny-1]:\n",
    "    #         print(ci,cj)\n",
    "    #         if (cj%2==0 & ci%2!=0):\n",
    "    #             un1[iu(i,j)]=us[iu(i,j)]-(1/rho)*(dt)*(gradP)\n",
    "    #             print(un1)\n",
    "    #         cj=cj+1\n",
    "    #     ci=ci+1\n",
    "    # un1=BC_drich(un1,Nx,Ny)\n",
    "    # un1=BC_period(un1,Nx,Ny)\n",
    "    # un=un1\n",
    "un_actual=un.reshape((Nx+2,Ny+2))"
   ]
  },
  {
   "cell_type": "code",
   "execution_count": null,
   "id": "5f539aaf-648d-414a-9301-7b56ac000f3e",
   "metadata": {},
   "outputs": [],
   "source": [
    "#us=diff(iu,un)\n",
    "un_actual=us.reshape((Nx+2,Ny+2))\n",
    "plt.imshow(np.flipud(un_actual.T),origin='lower')\n",
    "plt.colorbar()"
   ]
  },
  {
   "cell_type": "code",
   "execution_count": null,
   "id": "6eab113c-3a2a-4e84-bbf6-82541a3b3725",
   "metadata": {},
   "outputs": [],
   "source": [
    "pd.DataFrame(np.flipud(un_actual.T))"
   ]
  },
  {
   "cell_type": "code",
   "execution_count": null,
   "id": "9f04bbab-0912-4754-8968-98c9905fef01",
   "metadata": {},
   "outputs": [],
   "source": [
    "un.shape"
   ]
  },
  {
   "cell_type": "code",
   "execution_count": null,
   "id": "9784d950-b6f0-43c6-bcc0-4652209abbce",
   "metadata": {},
   "outputs": [],
   "source": [
    "(Nx+4)*(Ny+4)"
   ]
  },
  {
   "cell_type": "code",
   "execution_count": null,
   "id": "f9df9011-a693-47d9-869a-900613584c47",
   "metadata": {},
   "outputs": [],
   "source": []
  }
 ],
 "metadata": {
  "kernelspec": {
   "display_name": "Python 3 (ipykernel)",
   "language": "python",
   "name": "python3"
  },
  "language_info": {
   "codemirror_mode": {
    "name": "ipython",
    "version": 3
   },
   "file_extension": ".py",
   "mimetype": "text/x-python",
   "name": "python",
   "nbconvert_exporter": "python",
   "pygments_lexer": "ipython3",
   "version": "3.9.7"
  }
 },
 "nbformat": 4,
 "nbformat_minor": 5
}
