{
 "cells": [
  {
   "cell_type": "code",
   "execution_count": 23,
   "id": "82e3982d-5fe0-44df-b4c3-28b01b1876ee",
   "metadata": {},
   "outputs": [],
   "source": [
    "import numpy as np\n",
    "import math\n",
    "import matplotlib.pyplot as plt\n",
    "#problem constants\n",
    "nu=1e-6\n",
    "mu=1e-3\n",
    "rho=1e+3\n",
    "dt=0.0001\n",
    "gradP=-2.4\n",
    "n_iter=0\n",
    "'''\n",
    "node generation section\n",
    "'''\n",
    "#domain length\n",
    "\n",
    "Lx1=0.02\n",
    "Lx2=0.01\n",
    "\n",
    "#number of cells on each direction\n",
    "Nx1=6\n",
    "Nx2=3\n",
    "\n",
    "#mesh spacing\n",
    "h=Lx1/Nx1\n",
    "u_avg=0.0125\n",
    "\n",
    "def Adv_x_n(i,j):\n",
    "    return (1/h)*((0.5*(cell_S_x_un[i,j]+cell_S_x_un[i+1,j]))**2-(0.5*(cell_S_x_un[i,j]+cell_S_x_un[i-1,j]))**2+(0.5*(cell_S_x_un[i,j+1]+cell_S_x_un[i,j]))*(cell_S_y_vn[i,j+1]+cell_S_y_vn[i+1,j+1])-(0.5*(cell_S_x_un[i,j]+cell_S_x_un[i,j-1]))*(0.5*(cell_S_y_vn[i,j]+cell_S_y_vn[i+1,j])))\n",
    "\n",
    "def Dif_x_n(i,j):\n",
    "    return (1/(h**2))*(cell_S_x_un[i+1,j]+cell_S_x_un[i-1,j]+cell_S_x_un[i,j+1]+cell_S_x_un[i,j-1]-4*cell_S_x_un[i,j])\n",
    "\n",
    "def ref_vel_prof(x2):\n",
    "    return -1200*((x2-0.005)**2)+0.03\n",
    "\n"
   ]
  },
  {
   "cell_type": "code",
   "execution_count": 24,
   "id": "3601967a-de5b-473e-b819-6775d72831ad",
   "metadata": {},
   "outputs": [],
   "source": [
    "\n",
    "#cell centroid coor\n",
    "#the +2 stands for ghost cells on each direction\n",
    "cell_cent_x=np.zeros([Nx1+2,Nx2+2])\n",
    "cell_cent_y=np.zeros([Nx1+2,Nx2+2])\n",
    "\n",
    "cell_cent_un=np.zeros([Nx1+2,Nx2+2])\n",
    "cell_cent_us=np.zeros([Nx1+2,Nx2+2])\n",
    "cell_cent_unn=np.zeros([Nx1+2,Nx2+2])\n",
    "\n",
    "#cell corner coor\n",
    "cell_cor_x=np.zeros([Nx1+3,Nx2+3])\n",
    "cell_cor_y=np.zeros([Nx1+3,Nx2+3])\n",
    "\n",
    "#surface velocities\n",
    "cell_S_x_un=np.zeros([Nx1+2,Nx2+2])\n",
    "cell_S_x_us=np.zeros([Nx1+2,Nx2+2])\n",
    "cell_S_x_unn=np.zeros([Nx1+2,Nx2+2])\n",
    "\n",
    "cell_S_x_vn=np.zeros([Nx1+2,Nx2+2])\n",
    "cell_S_x_vs=np.zeros([Nx1+2,Nx2+2])\n",
    "cell_S_x_vnn=np.zeros([Nx1+2,Nx2+2])\n",
    "\n",
    "cell_S_y_un=np.zeros([Nx1+2,Nx2+2])\n",
    "cell_S_y_us=np.zeros([Nx1+2,Nx2+2])\n",
    "cell_S_y_unn=np.zeros([Nx1+2,Nx2+2])\n",
    "\n",
    "cell_S_y_vn=np.zeros([Nx1+2,Nx2+2])\n",
    "cell_S_y_vs=np.zeros([Nx1+2,Nx2+2])\n",
    "cell_S_y_vnn=np.zeros([Nx1+2,Nx2+2])\n",
    "\n",
    "#reference velocity profile\n",
    "ref_S_u=np.zeros([Nx2+2])\n",
    "L_sq=np.array([1.0,1.0])\n",
    "\n",
    "\n"
   ]
  },
  {
   "cell_type": "code",
   "execution_count": 25,
   "id": "5c2c850a-ec9a-4b67-9af0-012b5332ccd4",
   "metadata": {},
   "outputs": [],
   "source": [
    "#corner coor initialization\n",
    "for j in range(0,Nx2+3):\n",
    "    for i in range(0, Nx1+3):\n",
    "        cell_cor_x[i,j]=(Lx1/Nx1)*(i-1)\n",
    "        cell_cor_y[i,j]=(Lx2/Nx2)*(j-1)"
   ]
  },
  {
   "cell_type": "code",
   "execution_count": 26,
   "id": "72b618ba-a935-44f5-a79c-2df6e9bf3eed",
   "metadata": {},
   "outputs": [
    {
     "data": {
      "text/plain": [
       "0.02"
      ]
     },
     "execution_count": 26,
     "metadata": {},
     "output_type": "execute_result"
    }
   ],
   "source": [
    "Lx1"
   ]
  },
  {
   "cell_type": "code",
   "execution_count": 30,
   "id": "0888857f-4d06-4d0c-ac7d-e4dc2a0f1ae5",
   "metadata": {},
   "outputs": [],
   "source": [
    "#cell cent coor storage\n",
    "for j in range(0, Nx2+2):\n",
    "    for i in range(0, Nx1+2):\n",
    "        cell_cent_x[i,j]='{:10.6e}'.format(0.5*(cell_cor_x[i,j]+cell_cor_x[i+1,j]))\n",
    "        cell_cent_y[i,j]='{:10.6e}'.format(0.5*(cell_cor_y[i,j+1]+cell_cor_y[i+1,j+1]))\n",
    "\n",
    "        #initial conditions\n",
    "        cell_S_x_un[i,j]=u_avg\n",
    "        cell_S_y_un[i,j]=0.00"
   ]
  },
  {
   "cell_type": "code",
   "execution_count": 31,
   "id": "af0f8f7a-9412-4e03-ac47-b8135fb79efd",
   "metadata": {},
   "outputs": [],
   "source": [
    "\n",
    "#predictor step:\n",
    "for j in range(1, Nx2+1):\n",
    "    for i in range(1, Nx1+1):\n",
    "        cell_S_x_us[i,j]=cell_S_x_un[i,j]+dt*(nu*Dif_x_n(i,j))\n",
    "# #B.C. update  \n",
    "for j in range(0, Nx2+2):\n",
    "    cell_S_x_us[0,j]=cell_S_x_us[-2,j]\n",
    "    cell_S_x_us[-1,j]=cell_S_x_us[1,j]\n",
    "for i in range(0, Nx1+2):\n",
    "    cell_S_x_us[i,0]=-cell_S_y_unn[i,1]\n",
    "    cell_S_x_us[i,-1]=-cell_S_y_unn[i,-2]\n",
    "\n",
    "#corrector step:\n",
    "for j in range(1, Nx2+1):\n",
    "    for i in range(1, Nx1+1):\n",
    "        cell_S_x_unn[i,j]=cell_S_x_us[i,j]-(1/rho)*(dt)*(gradP)\n",
    "\n",
    "#B.C. update  \n",
    "for j in range(0, Nx2+2):\n",
    "    cell_S_x_unn[0,j]=cell_S_x_unn[-2,j]\n",
    "    cell_S_x_unn[-1,j]=cell_S_x_unn[1,j]\n",
    "for i in range(0, Nx1+2):\n",
    "    cell_S_x_unn[i,0]=-cell_S_y_unn[i,1]\n",
    "    cell_S_x_unn[i,-1]=-cell_S_y_unn[i,-2]\n",
    "\n",
    "for j in range(1, Nx2+1):\n",
    "    for i in range(1, Nx1+1):\n",
    "        cell_S_x_un[i,j]=cell_S_x_unn[i,j]"
   ]
  },
  {
   "cell_type": "code",
   "execution_count": 38,
   "id": "ffb0c253-5802-4e11-8d08-459a5d2abce8",
   "metadata": {},
   "outputs": [
    {
     "data": {
      "text/plain": [
       "array([[0.0125    , 0.0125    , 0.0125    , 0.0125    , 0.0125    ],\n",
       "       [0.0125    , 0.01250024, 0.01250024, 0.01250024, 0.0125    ],\n",
       "       [0.0125    , 0.01250024, 0.01250024, 0.01250024, 0.0125    ],\n",
       "       [0.0125    , 0.01250024, 0.01250024, 0.01250024, 0.0125    ],\n",
       "       [0.0125    , 0.01250024, 0.01250024, 0.01250024, 0.0125    ],\n",
       "       [0.0125    , 0.01250024, 0.01250024, 0.01250024, 0.0125    ],\n",
       "       [0.0125    , 0.01250024, 0.01250024, 0.01250024, 0.0125    ],\n",
       "       [0.0125    , 0.0125    , 0.0125    , 0.0125    , 0.0125    ]])"
      ]
     },
     "execution_count": 38,
     "metadata": {},
     "output_type": "execute_result"
    }
   ],
   "source": [
    "cell_S_x_un"
   ]
  },
  {
   "cell_type": "code",
   "execution_count": 7,
   "id": "18f85f17-1392-4513-af40-70a08006366f",
   "metadata": {},
   "outputs": [
    {
     "data": {
      "image/png": "[encoded data removed]",
      "text/plain": [
       "<Figure size 640x480 with 2 Axes>"
      ]
     },
     "metadata": {},
     "output_type": "display_data"
    }
   ],
   "source": [
    "plt.contourf(cell_cent_x[1:Nx1+1, 1:Nx2+1], cell_cent_y[1:Nx1+1, 1:Nx2+1],\n",
    "cell_S_x_un[1:Nx1+1, 1:Nx2+1], 20, cmap='inferno')\n",
    "plt.colorbar()\n",
    "plt.show()\n"
   ]
  },
  {
   "cell_type": "code",
   "execution_count": null,
   "id": "299f90e8-b215-460e-abc9-17928b097ac4",
   "metadata": {},
   "outputs": [],
   "source": [
    "cell_S_x_coor_y.shape"
   ]
  },
  {
   "cell_type": "code",
   "execution_count": null,
   "id": "3404aea3-2646-4f3a-961b-7644bf1dc44d",
   "metadata": {},
   "outputs": [],
   "source": [
    "plt.plot(cell_S_x_un[50,:])"
   ]
  },
  {
   "cell_type": "code",
   "execution_count": 39,
   "id": "959cfb8c-1f98-4066-9318-f7a085a5777b",
   "metadata": {},
   "outputs": [
    {
     "ename": "IndexError",
     "evalue": "index 50 is out of bounds for axis 0 with size 8",
     "output_type": "error",
     "traceback": [
      "\u001b[0;31m---------------------------------------------------------------------------\u001b[0m",
      "\u001b[0;31mIndexError\u001b[0m                                Traceback (most recent call last)",
      "Cell \u001b[0;32mIn[39], line 34\u001b[0m\n\u001b[1;32m     31\u001b[0m sq_sum_error\u001b[38;5;241m=\u001b[39m\u001b[38;5;241m0\u001b[39m\n\u001b[1;32m     33\u001b[0m \u001b[38;5;28;01mfor\u001b[39;00m i \u001b[38;5;129;01min\u001b[39;00m \u001b[38;5;28mrange\u001b[39m(\u001b[38;5;241m1\u001b[39m,Nx2\u001b[38;5;241m+\u001b[39m\u001b[38;5;241m1\u001b[39m):\n\u001b[0;32m---> 34\u001b[0m     sq_sum_error\u001b[38;5;241m+\u001b[39m\u001b[38;5;241m=\u001b[39m(ref_S_u[i]\u001b[38;5;241m-\u001b[39m\u001b[43mcell_S_x_un\u001b[49m\u001b[43m[\u001b[49m\u001b[38;5;241;43m50\u001b[39;49m\u001b[43m,\u001b[49m\u001b[43mi\u001b[49m\u001b[43m]\u001b[49m)\u001b[38;5;241m*\u001b[39m\u001b[38;5;241m*\u001b[39m\u001b[38;5;241m2\u001b[39m\n\u001b[1;32m     35\u001b[0m L_sq[\u001b[38;5;241m1\u001b[39m]\u001b[38;5;241m=\u001b[39mmath\u001b[38;5;241m.\u001b[39msqrt(sq_sum_error\u001b[38;5;241m/\u001b[39m(Nx2\u001b[38;5;241m+\u001b[39m\u001b[38;5;241m1\u001b[39m))\n\u001b[1;32m     37\u001b[0m \u001b[38;5;28;01mif\u001b[39;00m n_iter\u001b[38;5;241m%\u001b[39m\u001b[38;5;241m10000\u001b[39m\u001b[38;5;241m==\u001b[39m\u001b[38;5;241m0\u001b[39m:\n",
      "\u001b[0;31mIndexError\u001b[0m: index 50 is out of bounds for axis 0 with size 8"
     ]
    }
   ],
   "source": [
    "\n",
    "\n",
    "while L_sq_r<1.01:\n",
    "    L_sq[0]=L_sq[1]\n",
    "#predictor step:\n",
    "    for j in range(1, Nx2+1):\n",
    "        for i in range(1, Nx1+1):\n",
    "            cell_S_x_us[i,j]=cell_S_x_un[i,j]+dt*(nu*Dif_x_n(i,j))\n",
    "# #B.C. update  \n",
    "    for j in range(0, Nx2+2):\n",
    "        cell_S_x_us[0,j]=cell_S_x_us[-2,j]\n",
    "        cell_S_x_us[-1,j]=cell_S_x_us[1,j]\n",
    "    for i in range(0, Nx1+2):\n",
    "        cell_S_x_us[i,0]=0\n",
    "        cell_S_x_us[i,-1]=0\n",
    "\n",
    " #corrector step:\n",
    "    for j in range(1, Nx2+1):\n",
    "        for i in range(1, Nx1+1):\n",
    "            cell_S_x_unn[i,j]=cell_S_x_us[i,j]-(1/rho)*(dt)*(gradP)\n",
    "\n",
    " #B.C. update  \n",
    "    for j in range(0, Nx2+2):\n",
    "        cell_S_x_unn[0,j]=cell_S_x_unn[-2,j]\n",
    "        cell_S_x_unn[-1,j]=cell_S_x_unn[1,j]\n",
    "    for i in range(0, Nx1+2):\n",
    "        cell_S_x_unn[i,0]=-cell_S_y_unn[i,1]\n",
    "        cell_S_x_unn[i,-1]=-cell_S_y_unn[i,-2]\n",
    "\n",
    "    for j in range(1, Nx2+1):\n",
    "        for i in range(1, Nx1+1):\n",
    "            cell_S_x_un[i,j]=cell_S_x_unn[i,j]\n",
    "    sq_sum_error=0\n",
    "    \n",
    "    for i in range(1,Nx2+1):\n",
    "        sq_sum_error+=(ref_S_u[i]-cell_S_x_un[50,i])**2\n",
    "    L_sq[1]=math.sqrt(sq_sum_error/(Nx2+1))\n",
    "\n",
    "    if n_iter%10000==0:\n",
    "        print(f'iter= {str(n_iter)}' + ', L_sq= {:.4e}'.format(L_sq[0]))\n",
    "        plt.plot(cell_S_x_un[50,1:Nx2+1],cell_S_x_coor_y[50,1:Nx2+1], color='navy',\n",
    "        label='numerical sol, $L^2$= {:10.4e}'.format(L_sq[0]))\n",
    "        plt.plot(ref_S_u[1:Nx2+1] ,cell_S_x_coor_y[50,1:Nx2+1], color='red',\n",
    "        label='reference')\n",
    "        plt.xlabel('$u_1$ ($m/s$)')\n",
    "        plt.ylabel('$x_2$ (m)')\n",
    "        plt.legend()\n",
    "\n",
    "        plt.grid()\n",
    "        plt.show()\n",
    "\n",
    "        plt.contourf(cell_cent_x[1:Nx1+1, 1:Nx2+1], cell_cent_y[1:Nx1+1, 1:Nx2+1],\n",
    "        cell_S_x_un[1:Nx1+1, 1:Nx2+1], 20, cmap='inferno')\n",
    "        plt.colorbar()\n",
    "        plt.xlabel('$x_1$ (m)')\n",
    "        plt.ylabel('$x_2$ (m)')\n",
    "        plt.title('domain $u_1$ contour ($m/s$)')\n",
    "        plt.show()\n",
    "    L_sq_r=L_sq[1]/L_sq[0]\n",
    "\n",
    "    n_iter+=1\n",
    "\n",
    "\n",
    "print(f'iter= {n_iter}' + ', L_sq= {:.4e}'.format(L_sq[0]))\n",
    "plt.plot(cell_S_x_un[50,1:Nx2+1],cell_S_x_coor_y[50,1:Nx2+1], color='navy',\n",
    "label='numerical sol, $L^2$= {:10.4e}'.format(L_sq[0]))\n",
    "plt.plot(ref_S_u[1:Nx2+1] ,cell_S_x_coor_y[50,1:Nx2+1], color='red', label='reference')\n",
    "plt.xlabel('$u_1$ ($m/s$)')\n",
    "plt.ylabel('$x_2$ (m)')\n",
    "plt.legend()\n",
    "plt.grid()\n",
    "plt.show()\n",
    "\n",
    "plt.contourf(cell_cent_x[1:Nx1+1, 1:Nx2+1], cell_cent_y[1:Nx1+1, 1:Nx2+1],\n",
    "cell_S_x_un[1:Nx1+1, 1:Nx2+1], 20, cmap='inferno')\n",
    "plt.colorbar()\n",
    "plt.xlabel('$x_1$ (m)')\n",
    "plt.ylabel('$x_2$ (m)')\n",
    "plt.title('domain $u_1$ contour ($m/s$)')\n",
    "plt.show()"
   ]
  },
  {
   "cell_type": "code",
   "execution_count": null,
   "id": "8a142266-2f87-4eb7-b8e6-dcb5584a958b",
   "metadata": {},
   "outputs": [],
   "source": []
  }
 ],
 "metadata": {
  "kernelspec": {
   "display_name": "Python 3 (ipykernel)",
   "language": "python",
   "name": "python3"
  },
  "language_info": {
   "codemirror_mode": {
    "name": "ipython",
    "version": 3
   },
   "file_extension": ".py",
   "mimetype": "text/x-python",
   "name": "python",
   "nbconvert_exporter": "python",
   "pygments_lexer": "ipython3",
   "version": "3.9.7"
  }
 },
 "nbformat": 4,
 "nbformat_minor": 5
}
