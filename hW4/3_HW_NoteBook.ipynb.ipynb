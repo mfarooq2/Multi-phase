{
 "cells": [
  {
   "cell_type": "code",
   "execution_count": 77,
   "id": "8f1c4653-0da4-4fd6-b7fd-cb19b299a3ed",
   "metadata": {},
   "outputs": [],
   "source": [
    "##Imports\n",
    "import matplotlib.pyplot as plt\n",
    "import numpy as np\n",
    "import pandas as pd\n",
    "from tqdm import tqdm\n",
    "##Variables\n",
    "nu=1e-6\n",
    "mu=1e-3\n",
    "rho=1e+3\n",
    "dt=0.01\n",
    "gradP=-0.375\n",
    "u_avg=0.0125\n",
    "nx=60\n",
    "ny=30"
   ]
  },
  {
   "cell_type": "code",
   "execution_count": 78,
   "id": "08d6216f-f90c-416a-979e-dab4912457a8",
   "metadata": {},
   "outputs": [],
   "source": [
    "def ref_vel_prof(x2):\n",
    "    return -1200*((x2-0.005)**2)+0.03"
   ]
  },
  {
   "cell_type": "code",
   "execution_count": 79,
   "id": "4839d27e-10f2-4b82-ae92-9ff69246e2f8",
   "metadata": {},
   "outputs": [],
   "source": [
    "Nx=2*nx+1\n",
    "Ny=2*ny+1\n",
    "L=0.04\n",
    "H=0.02\n",
    "h=L/nx\n",
    "L_sq=np.array([1.0,1.0])"
   ]
  },
  {
   "cell_type": "code",
   "execution_count": 80,
   "id": "73b73e68-183a-4442-9e5d-cfa853d7e0b9",
   "metadata": {},
   "outputs": [],
   "source": [
    "x1=np.linspace(0, L, num=2*nx+1)\n",
    "x2=np.linspace(0, H, num=2*ny+1)\n",
    "xi=0.5*np.linspace(0, Nx, num=Nx+1)\n",
    "xi=np.insert(xi, 0, -0.5)\n",
    "xj=0.5*np.linspace(0, Ny, num=Ny+1)\n",
    "xj=np.insert(xj, 0, -0.5)"
   ]
  },
  {
   "cell_type": "code",
   "execution_count": 81,
   "id": "3e77a64a-0e28-4f18-b66e-b611108f55ac",
   "metadata": {},
   "outputs": [],
   "source": [
    "un=u_avg*np.ones(((Nx+2)*(Ny+2) ))\n",
    "un_actual=un.reshape((Nx+2,Ny+2))\n",
    "s=pd.DataFrame(np.flipud(un_actual.T))\n",
    "s.columns=(s.columns/2) -0.5\n",
    "s.index=(s.index/2) -0.5\n",
    "s = s.iloc[::-1]\n",
    "# s.loc[ny+0.5]=0\n",
    "# s.loc[-0.5]=0\n",
    "# s[-0.5]=float(0)\n",
    "# s[nx+0.5]=float(0)\n",
    "\n",
    "\n"
   ]
  },
  {
   "cell_type": "code",
   "execution_count": 82,
   "id": "56ba5146-ccb9-4abf-96ff-eeb722498c57",
   "metadata": {},
   "outputs": [],
   "source": [
    "def BC_drich(s):\n",
    "    #s.loc[0.5]=-s.loc[-0.5]\n",
    "    s.loc[-0.5]=-s.loc[0.5]\n",
    "    #s.loc[ny-0.5]=-s.loc[ny+0.5]\n",
    "    s.loc[ny+0.5]=-s.loc[ny-0.5]\n",
    "    return s"
   ]
  },
  {
   "cell_type": "code",
   "execution_count": 83,
   "id": "2a49dec6-22ee-46f3-9060-703ae8aff3d8",
   "metadata": {},
   "outputs": [],
   "source": [
    "a=BC_drich(s)"
   ]
  },
  {
   "cell_type": "code",
   "execution_count": 84,
   "id": "d8cfc459-7939-4f5e-9652-066fca9b85e1",
   "metadata": {},
   "outputs": [
    {
     "data": {
      "text/html": [
       "<div>\n",
       "<style scoped>\n",
       "    .dataframe tbody tr th:only-of-type {\n",
       "        vertical-align: middle;\n",
       "    }\n",
       "\n",
       "    .dataframe tbody tr th {\n",
       "        vertical-align: top;\n",
       "    }\n",
       "\n",
       "    .dataframe thead th {\n",
       "        text-align: right;\n",
       "    }\n",
       "</style>\n",
       "<table border=\"1\" class=\"dataframe\">\n",
       "  <thead>\n",
       "    <tr style=\"text-align: right;\">\n",
       "      <th></th>\n",
       "      <th>-0.5</th>\n",
       "      <th>0.0</th>\n",
       "      <th>0.5</th>\n",
       "      <th>1.0</th>\n",
       "      <th>1.5</th>\n",
       "      <th>2.0</th>\n",
       "      <th>2.5</th>\n",
       "      <th>3.0</th>\n",
       "      <th>3.5</th>\n",
       "      <th>4.0</th>\n",
       "      <th>...</th>\n",
       "      <th>56.0</th>\n",
       "      <th>56.5</th>\n",
       "      <th>57.0</th>\n",
       "      <th>57.5</th>\n",
       "      <th>58.0</th>\n",
       "      <th>58.5</th>\n",
       "      <th>59.0</th>\n",
       "      <th>59.5</th>\n",
       "      <th>60.0</th>\n",
       "      <th>60.5</th>\n",
       "    </tr>\n",
       "  </thead>\n",
       "  <tbody>\n",
       "    <tr>\n",
       "      <th>30.5</th>\n",
       "      <td>-0.0125</td>\n",
       "      <td>-0.0125</td>\n",
       "      <td>-0.0125</td>\n",
       "      <td>-0.0125</td>\n",
       "      <td>-0.0125</td>\n",
       "      <td>-0.0125</td>\n",
       "      <td>-0.0125</td>\n",
       "      <td>-0.0125</td>\n",
       "      <td>-0.0125</td>\n",
       "      <td>-0.0125</td>\n",
       "      <td>...</td>\n",
       "      <td>-0.0125</td>\n",
       "      <td>-0.0125</td>\n",
       "      <td>-0.0125</td>\n",
       "      <td>-0.0125</td>\n",
       "      <td>-0.0125</td>\n",
       "      <td>-0.0125</td>\n",
       "      <td>-0.0125</td>\n",
       "      <td>-0.0125</td>\n",
       "      <td>-0.0125</td>\n",
       "      <td>-0.0125</td>\n",
       "    </tr>\n",
       "    <tr>\n",
       "      <th>30.0</th>\n",
       "      <td>0.0125</td>\n",
       "      <td>0.0125</td>\n",
       "      <td>0.0125</td>\n",
       "      <td>0.0125</td>\n",
       "      <td>0.0125</td>\n",
       "      <td>0.0125</td>\n",
       "      <td>0.0125</td>\n",
       "      <td>0.0125</td>\n",
       "      <td>0.0125</td>\n",
       "      <td>0.0125</td>\n",
       "      <td>...</td>\n",
       "      <td>0.0125</td>\n",
       "      <td>0.0125</td>\n",
       "      <td>0.0125</td>\n",
       "      <td>0.0125</td>\n",
       "      <td>0.0125</td>\n",
       "      <td>0.0125</td>\n",
       "      <td>0.0125</td>\n",
       "      <td>0.0125</td>\n",
       "      <td>0.0125</td>\n",
       "      <td>0.0125</td>\n",
       "    </tr>\n",
       "    <tr>\n",
       "      <th>29.5</th>\n",
       "      <td>0.0125</td>\n",
       "      <td>0.0125</td>\n",
       "      <td>0.0125</td>\n",
       "      <td>0.0125</td>\n",
       "      <td>0.0125</td>\n",
       "      <td>0.0125</td>\n",
       "      <td>0.0125</td>\n",
       "      <td>0.0125</td>\n",
       "      <td>0.0125</td>\n",
       "      <td>0.0125</td>\n",
       "      <td>...</td>\n",
       "      <td>0.0125</td>\n",
       "      <td>0.0125</td>\n",
       "      <td>0.0125</td>\n",
       "      <td>0.0125</td>\n",
       "      <td>0.0125</td>\n",
       "      <td>0.0125</td>\n",
       "      <td>0.0125</td>\n",
       "      <td>0.0125</td>\n",
       "      <td>0.0125</td>\n",
       "      <td>0.0125</td>\n",
       "    </tr>\n",
       "    <tr>\n",
       "      <th>29.0</th>\n",
       "      <td>0.0125</td>\n",
       "      <td>0.0125</td>\n",
       "      <td>0.0125</td>\n",
       "      <td>0.0125</td>\n",
       "      <td>0.0125</td>\n",
       "      <td>0.0125</td>\n",
       "      <td>0.0125</td>\n",
       "      <td>0.0125</td>\n",
       "      <td>0.0125</td>\n",
       "      <td>0.0125</td>\n",
       "      <td>...</td>\n",
       "      <td>0.0125</td>\n",
       "      <td>0.0125</td>\n",
       "      <td>0.0125</td>\n",
       "      <td>0.0125</td>\n",
       "      <td>0.0125</td>\n",
       "      <td>0.0125</td>\n",
       "      <td>0.0125</td>\n",
       "      <td>0.0125</td>\n",
       "      <td>0.0125</td>\n",
       "      <td>0.0125</td>\n",
       "    </tr>\n",
       "    <tr>\n",
       "      <th>28.5</th>\n",
       "      <td>0.0125</td>\n",
       "      <td>0.0125</td>\n",
       "      <td>0.0125</td>\n",
       "      <td>0.0125</td>\n",
       "      <td>0.0125</td>\n",
       "      <td>0.0125</td>\n",
       "      <td>0.0125</td>\n",
       "      <td>0.0125</td>\n",
       "      <td>0.0125</td>\n",
       "      <td>0.0125</td>\n",
       "      <td>...</td>\n",
       "      <td>0.0125</td>\n",
       "      <td>0.0125</td>\n",
       "      <td>0.0125</td>\n",
       "      <td>0.0125</td>\n",
       "      <td>0.0125</td>\n",
       "      <td>0.0125</td>\n",
       "      <td>0.0125</td>\n",
       "      <td>0.0125</td>\n",
       "      <td>0.0125</td>\n",
       "      <td>0.0125</td>\n",
       "    </tr>\n",
       "    <tr>\n",
       "      <th>...</th>\n",
       "      <td>...</td>\n",
       "      <td>...</td>\n",
       "      <td>...</td>\n",
       "      <td>...</td>\n",
       "      <td>...</td>\n",
       "      <td>...</td>\n",
       "      <td>...</td>\n",
       "      <td>...</td>\n",
       "      <td>...</td>\n",
       "      <td>...</td>\n",
       "      <td>...</td>\n",
       "      <td>...</td>\n",
       "      <td>...</td>\n",
       "      <td>...</td>\n",
       "      <td>...</td>\n",
       "      <td>...</td>\n",
       "      <td>...</td>\n",
       "      <td>...</td>\n",
       "      <td>...</td>\n",
       "      <td>...</td>\n",
       "      <td>...</td>\n",
       "    </tr>\n",
       "    <tr>\n",
       "      <th>1.5</th>\n",
       "      <td>0.0125</td>\n",
       "      <td>0.0125</td>\n",
       "      <td>0.0125</td>\n",
       "      <td>0.0125</td>\n",
       "      <td>0.0125</td>\n",
       "      <td>0.0125</td>\n",
       "      <td>0.0125</td>\n",
       "      <td>0.0125</td>\n",
       "      <td>0.0125</td>\n",
       "      <td>0.0125</td>\n",
       "      <td>...</td>\n",
       "      <td>0.0125</td>\n",
       "      <td>0.0125</td>\n",
       "      <td>0.0125</td>\n",
       "      <td>0.0125</td>\n",
       "      <td>0.0125</td>\n",
       "      <td>0.0125</td>\n",
       "      <td>0.0125</td>\n",
       "      <td>0.0125</td>\n",
       "      <td>0.0125</td>\n",
       "      <td>0.0125</td>\n",
       "    </tr>\n",
       "    <tr>\n",
       "      <th>1.0</th>\n",
       "      <td>0.0125</td>\n",
       "      <td>0.0125</td>\n",
       "      <td>0.0125</td>\n",
       "      <td>0.0125</td>\n",
       "      <td>0.0125</td>\n",
       "      <td>0.0125</td>\n",
       "      <td>0.0125</td>\n",
       "      <td>0.0125</td>\n",
       "      <td>0.0125</td>\n",
       "      <td>0.0125</td>\n",
       "      <td>...</td>\n",
       "      <td>0.0125</td>\n",
       "      <td>0.0125</td>\n",
       "      <td>0.0125</td>\n",
       "      <td>0.0125</td>\n",
       "      <td>0.0125</td>\n",
       "      <td>0.0125</td>\n",
       "      <td>0.0125</td>\n",
       "      <td>0.0125</td>\n",
       "      <td>0.0125</td>\n",
       "      <td>0.0125</td>\n",
       "    </tr>\n",
       "    <tr>\n",
       "      <th>0.5</th>\n",
       "      <td>0.0125</td>\n",
       "      <td>0.0125</td>\n",
       "      <td>0.0125</td>\n",
       "      <td>0.0125</td>\n",
       "      <td>0.0125</td>\n",
       "      <td>0.0125</td>\n",
       "      <td>0.0125</td>\n",
       "      <td>0.0125</td>\n",
       "      <td>0.0125</td>\n",
       "      <td>0.0125</td>\n",
       "      <td>...</td>\n",
       "      <td>0.0125</td>\n",
       "      <td>0.0125</td>\n",
       "      <td>0.0125</td>\n",
       "      <td>0.0125</td>\n",
       "      <td>0.0125</td>\n",
       "      <td>0.0125</td>\n",
       "      <td>0.0125</td>\n",
       "      <td>0.0125</td>\n",
       "      <td>0.0125</td>\n",
       "      <td>0.0125</td>\n",
       "    </tr>\n",
       "    <tr>\n",
       "      <th>0.0</th>\n",
       "      <td>0.0125</td>\n",
       "      <td>0.0125</td>\n",
       "      <td>0.0125</td>\n",
       "      <td>0.0125</td>\n",
       "      <td>0.0125</td>\n",
       "      <td>0.0125</td>\n",
       "      <td>0.0125</td>\n",
       "      <td>0.0125</td>\n",
       "      <td>0.0125</td>\n",
       "      <td>0.0125</td>\n",
       "      <td>...</td>\n",
       "      <td>0.0125</td>\n",
       "      <td>0.0125</td>\n",
       "      <td>0.0125</td>\n",
       "      <td>0.0125</td>\n",
       "      <td>0.0125</td>\n",
       "      <td>0.0125</td>\n",
       "      <td>0.0125</td>\n",
       "      <td>0.0125</td>\n",
       "      <td>0.0125</td>\n",
       "      <td>0.0125</td>\n",
       "    </tr>\n",
       "    <tr>\n",
       "      <th>-0.5</th>\n",
       "      <td>-0.0125</td>\n",
       "      <td>-0.0125</td>\n",
       "      <td>-0.0125</td>\n",
       "      <td>-0.0125</td>\n",
       "      <td>-0.0125</td>\n",
       "      <td>-0.0125</td>\n",
       "      <td>-0.0125</td>\n",
       "      <td>-0.0125</td>\n",
       "      <td>-0.0125</td>\n",
       "      <td>-0.0125</td>\n",
       "      <td>...</td>\n",
       "      <td>-0.0125</td>\n",
       "      <td>-0.0125</td>\n",
       "      <td>-0.0125</td>\n",
       "      <td>-0.0125</td>\n",
       "      <td>-0.0125</td>\n",
       "      <td>-0.0125</td>\n",
       "      <td>-0.0125</td>\n",
       "      <td>-0.0125</td>\n",
       "      <td>-0.0125</td>\n",
       "      <td>-0.0125</td>\n",
       "    </tr>\n",
       "  </tbody>\n",
       "</table>\n",
       "<p>63 rows × 123 columns</p>\n",
       "</div>"
      ],
      "text/plain": [
       "        -0.5     0.0     0.5     1.0     1.5     2.0     2.5     3.0     3.5   \\\n",
       " 30.5 -0.0125 -0.0125 -0.0125 -0.0125 -0.0125 -0.0125 -0.0125 -0.0125 -0.0125   \n",
       " 30.0  0.0125  0.0125  0.0125  0.0125  0.0125  0.0125  0.0125  0.0125  0.0125   \n",
       " 29.5  0.0125  0.0125  0.0125  0.0125  0.0125  0.0125  0.0125  0.0125  0.0125   \n",
       " 29.0  0.0125  0.0125  0.0125  0.0125  0.0125  0.0125  0.0125  0.0125  0.0125   \n",
       " 28.5  0.0125  0.0125  0.0125  0.0125  0.0125  0.0125  0.0125  0.0125  0.0125   \n",
       "...       ...     ...     ...     ...     ...     ...     ...     ...     ...   \n",
       " 1.5   0.0125  0.0125  0.0125  0.0125  0.0125  0.0125  0.0125  0.0125  0.0125   \n",
       " 1.0   0.0125  0.0125  0.0125  0.0125  0.0125  0.0125  0.0125  0.0125  0.0125   \n",
       " 0.5   0.0125  0.0125  0.0125  0.0125  0.0125  0.0125  0.0125  0.0125  0.0125   \n",
       " 0.0   0.0125  0.0125  0.0125  0.0125  0.0125  0.0125  0.0125  0.0125  0.0125   \n",
       "-0.5  -0.0125 -0.0125 -0.0125 -0.0125 -0.0125 -0.0125 -0.0125 -0.0125 -0.0125   \n",
       "\n",
       "         4.0   ...    56.0    56.5    57.0    57.5    58.0    58.5    59.0  \\\n",
       " 30.5 -0.0125  ... -0.0125 -0.0125 -0.0125 -0.0125 -0.0125 -0.0125 -0.0125   \n",
       " 30.0  0.0125  ...  0.0125  0.0125  0.0125  0.0125  0.0125  0.0125  0.0125   \n",
       " 29.5  0.0125  ...  0.0125  0.0125  0.0125  0.0125  0.0125  0.0125  0.0125   \n",
       " 29.0  0.0125  ...  0.0125  0.0125  0.0125  0.0125  0.0125  0.0125  0.0125   \n",
       " 28.5  0.0125  ...  0.0125  0.0125  0.0125  0.0125  0.0125  0.0125  0.0125   \n",
       "...       ...  ...     ...     ...     ...     ...     ...     ...     ...   \n",
       " 1.5   0.0125  ...  0.0125  0.0125  0.0125  0.0125  0.0125  0.0125  0.0125   \n",
       " 1.0   0.0125  ...  0.0125  0.0125  0.0125  0.0125  0.0125  0.0125  0.0125   \n",
       " 0.5   0.0125  ...  0.0125  0.0125  0.0125  0.0125  0.0125  0.0125  0.0125   \n",
       " 0.0   0.0125  ...  0.0125  0.0125  0.0125  0.0125  0.0125  0.0125  0.0125   \n",
       "-0.5  -0.0125  ... -0.0125 -0.0125 -0.0125 -0.0125 -0.0125 -0.0125 -0.0125   \n",
       "\n",
       "         59.5    60.0    60.5  \n",
       " 30.5 -0.0125 -0.0125 -0.0125  \n",
       " 30.0  0.0125  0.0125  0.0125  \n",
       " 29.5  0.0125  0.0125  0.0125  \n",
       " 29.0  0.0125  0.0125  0.0125  \n",
       " 28.5  0.0125  0.0125  0.0125  \n",
       "...       ...     ...     ...  \n",
       " 1.5   0.0125  0.0125  0.0125  \n",
       " 1.0   0.0125  0.0125  0.0125  \n",
       " 0.5   0.0125  0.0125  0.0125  \n",
       " 0.0   0.0125  0.0125  0.0125  \n",
       "-0.5  -0.0125 -0.0125 -0.0125  \n",
       "\n",
       "[63 rows x 123 columns]"
      ]
     },
     "execution_count": 84,
     "metadata": {},
     "output_type": "execute_result"
    }
   ],
   "source": [
    "a"
   ]
  },
  {
   "cell_type": "code",
   "execution_count": 85,
   "id": "84386a34-46b7-4fa9-b8a2-6d0a74357b71",
   "metadata": {},
   "outputs": [],
   "source": [
    "def BC_period(s):\n",
    "    s[0]=s[nx-1]\n",
    "    s[nx]=s[1]\n",
    "    return s"
   ]
  },
  {
   "cell_type": "code",
   "execution_count": 86,
   "id": "d37fdc96-2ab6-4fbd-8032-fbf0c8bf5d90",
   "metadata": {},
   "outputs": [],
   "source": [
    "def diff(s):\n",
    "    qo = s.copy()\n",
    "    for x1 in s.columns:\n",
    "        for x2 in s.index:\n",
    "            if ((x1>1) and (x1<nx-1) and (x1.is_integer()==True) ):\n",
    "                if ((x2>1) and (x2<ny-1) and (x2.is_integer()==False)):\n",
    "                    qo[x1][x2] = (1/(h**2))*(s[x1+1][x2]+s[x1-1][x2]+s[x1][x2+1]+s[x1][x2-1]-4*s[x1][x2])\n",
    "    return qo"
   ]
  },
  {
   "cell_type": "code",
   "execution_count": 87,
   "id": "afe3aee5-f61a-4d74-9739-3a8c922f52db",
   "metadata": {},
   "outputs": [],
   "source": [
    "def corrector_step(s):\n",
    "    qo = s.copy()\n",
    "    for x1 in s.columns:\n",
    "        for x2 in s.index:\n",
    "            if ((x1>1) and (x1<nx-1) and (x1.is_integer()==True) ):\n",
    "                if ((x2>1) and (x2<ny-1) and (x2.is_integer()==False)):\n",
    "                    qo[x1][x2] = s[x1][x2]-(1/rho)*(dt)*(gradP)\n",
    "    return qo"
   ]
  },
  {
   "cell_type": "code",
   "execution_count": 95,
   "id": "604cd957-e251-4fc2-9e13-6c7bd11cbb42",
   "metadata": {},
   "outputs": [
    {
     "name": "stderr",
     "output_type": "stream",
     "text": [
      "100%|██████████████████████████████████████████████████████████████████████████| 1000/1000 [02:58<00:00,  5.61it/s]\n"
     ]
    }
   ],
   "source": [
    "#un=s.copy()\n",
    "for step in tqdm(range(1000)):\n",
    "    us=un+dt*nu*diff(un)\n",
    "    us=BC_drich(us)\n",
    "    us=BC_period(us)\n",
    "    un_1=corrector_step(us)\n",
    "    un_1=BC_drich(un_1)\n",
    "    un_1=BC_period(un_1)\n",
    "    un=un_1"
   ]
  },
  {
   "cell_type": "code",
   "execution_count": 90,
   "id": "92ade0d5-ddd7-4e74-ba81-c4ab63b2cc40",
   "metadata": {},
   "outputs": [],
   "source": [
    "ucont=np.array(un)"
   ]
  },
  {
   "cell_type": "code",
   "execution_count": 96,
   "id": "67e3d43f-c248-4fc5-ab51-883d4b1198f1",
   "metadata": {},
   "outputs": [
    {
     "data": {
      "text/plain": [
       "<matplotlib.colorbar.Colorbar at 0x110285070>"
      ]
     },
     "execution_count": 96,
     "metadata": {},
     "output_type": "execute_result"
    },
    {
     "data": {
      "image/png": "[encoded data removed]",
      "text/plain": [
       "<Figure size 640x480 with 2 Axes>"
      ]
     },
     "metadata": {},
     "output_type": "display_data"
    }
   ],
   "source": [
    "plt.imshow(ucont,origin='lower')\n",
    "plt.colorbar()"
   ]
  },
  {
   "cell_type": "code",
   "execution_count": 68,
   "id": "a1433aad-9f91-4afe-bd38-9144eeb80cc9",
   "metadata": {},
   "outputs": [
    {
     "data": {
      "text/plain": [
       "(32, 62)"
      ]
     },
     "execution_count": 68,
     "metadata": {},
     "output_type": "execute_result"
    }
   ],
   "source": []
  },
  {
   "cell_type": "code",
   "execution_count": 97,
   "id": "0f604e6e-f9d3-43ed-8b62-c4f6a9ae0ea6",
   "metadata": {},
   "outputs": [
    {
     "data": {
      "text/plain": [
       "[<matplotlib.lines.Line2D at 0x11129f3d0>]"
      ]
     },
     "execution_count": 97,
     "metadata": {},
     "output_type": "execute_result"
    },
    {
     "data": {
      "image/png": "[encoded data removed]",
      "text/plain": [
       "<Figure size 640x480 with 1 Axes>"
      ]
     },
     "metadata": {},
     "output_type": "display_data"
    }
   ],
   "source": [
    "plt.plot(np.array(un[58])[0::2])"
   ]
  },
  {
   "cell_type": "code",
   "execution_count": 36,
   "id": "f7f4056a-4465-4519-8f9b-b53974160290",
   "metadata": {},
   "outputs": [
    {
     "data": {
      "text/plain": [
       "array([ 0.01250013,  0.01250013, -0.01250013,  0.01250013,  0.00041937,\n",
       "        0.01250013,  0.00569208,  0.01250013,  0.00828803,  0.01250013,\n",
       "        0.00978488,  0.01250013,  0.01075199,  0.01250013,  0.01142431,\n",
       "        0.01250013,  0.0119122 ,  0.01250013,  0.01227407,  0.01250013,\n",
       "        0.01254417,  0.01250013,  0.01274441,  0.01250013,  0.01288969,\n",
       "        0.01250013,  0.01299043,  0.01250013,  0.0130538 ,  0.01250013,\n",
       "        0.01308437,  0.01250013,  0.01308437,  0.01250013,  0.0130538 ,\n",
       "        0.01250013,  0.01299043,  0.01250013,  0.01288969,  0.01250013,\n",
       "        0.01274441,  0.01250013,  0.01254417,  0.01250013,  0.01227407,\n",
       "        0.01250013,  0.0119122 ,  0.01250013,  0.01142431,  0.01250013,\n",
       "        0.01075199,  0.01250013,  0.00978488,  0.01250013,  0.00828803,\n",
       "        0.01250013,  0.00569208,  0.01250013,  0.00041937,  0.01250013,\n",
       "       -0.01250013,  0.01250013,  0.01250013])"
      ]
     },
     "execution_count": 36,
     "metadata": {},
     "output_type": "execute_result"
    }
   ],
   "source": [
    "u_vel"
   ]
  },
  {
   "cell_type": "code",
   "execution_count": 45,
   "id": "0de3a2f6-9b85-4d81-951e-6f91f0d7e9b2",
   "metadata": {},
   "outputs": [
    {
     "data": {
      "text/plain": [
       "[<matplotlib.lines.Line2D at 0x14c9352e0>]"
      ]
     },
     "execution_count": 45,
     "metadata": {},
     "output_type": "execute_result"
    },
    {
     "data": {
      "image/png": "[encoded data removed]",
      "text/plain": [
       "<Figure size 640x480 with 1 Axes>"
      ]
     },
     "metadata": {},
     "output_type": "display_data"
    }
   ],
   "source": []
  },
  {
   "cell_type": "code",
   "execution_count": null,
   "id": "d755fd19-0519-4f72-8139-e557da3a57ef",
   "metadata": {},
   "outputs": [],
   "source": []
  }
 ],
 "metadata": {
  "kernelspec": {
   "display_name": "Python 3 (ipykernel)",
   "language": "python",
   "name": "python3"
  },
  "language_info": {
   "codemirror_mode": {
    "name": "ipython",
    "version": 3
   },
   "file_extension": ".py",
   "mimetype": "text/x-python",
   "name": "python",
   "nbconvert_exporter": "python",
   "pygments_lexer": "ipython3",
   "version": "3.9.7"
  }
 },
 "nbformat": 4,
 "nbformat_minor": 5
}
