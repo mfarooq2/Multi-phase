{
 "cells": [
  {
   "cell_type": "code",
   "execution_count": null,
   "id": "d2867fd6-3631-4a60-b5da-4589e6ec92cc",
   "metadata": {},
   "outputs": [],
   "source": [
    "[1:Nx1+1,1:Nx2+1]"
   ]
  },
  {
   "cell_type": "code",
   "execution_count": null,
   "id": "e9b5839b-b0d7-46c8-aa55-5a8560681d21",
   "metadata": {},
   "outputs": [],
   "source": [
    "[1+1:Nx1+1+1,1-1:Nx2+1-1]"
   ]
  },
  {
   "cell_type": "code",
   "execution_count": null,
   "id": "8dad271c-f0d1-4d44-bf75-1d841f9cb729",
   "metadata": {},
   "outputs": [],
   "source": [
    "\n",
    "\n",
    "\n",
    "\n",
    "    grad_phi_xhpp= (cell_cent_phin[1+1:Nx1+1+1,1+1:Nx2+1+1]+cell_cent_phin[1+1:Nx1+1+1,1:Nx2+1]-cell_cent_phin[1:Nx1+1,1+1:Nx2+1+1]-cell_cent_phin[1:Nx1+1,1:Nx2+1])/(2*h)\n",
    "\n",
    "\n",
    "    grad_phi_xhpm= (cell_cent_phin[1+1:Nx1+1+1,1:Nx2+1]+cell_cent_phin[1+1:Nx1+1+1,1-1:Nx2+1-1]-cell_cent_phin[1:Nx1+1,1:Nx2+1]-cell_cent_phin[1:Nx1+1,1-1:Nx2+1-1])/(2*h)\n",
    "\n",
    "\n",
    "    grad_phi_xhmp= (cell_cent_phin[1:Nx1+1,1+1:Nx2+1+1]+cell_cent_phin[1:Nx1+1,1:Nx2+1]-cell_cent_phin[1-1:Nx1+1-1,1+1:Nx2+1+1]-cell_cent_phin[1-1:Nx1+1-1,1:Nx2+1])/(2*h)\n",
    "\n",
    "    grad_phi_xhmm= (cell_cent_phin[1:Nx1+1,1:Nx2+1]+cell_cent_phin[1:Nx1+1,1-1:Nx2+1-1]-cell_cent_phin[1-1:Nx1+1-1,1:Nx2+1]-cell_cent_phin[1-1:Nx1+1-1,1-1:Nx2+1-1])/(2*h)\n",
    "\n",
    "    grad_phi_yhpp= (cell_cent_phin[1+1:Nx1+1+1,1+1:Nx2+1+1]-cell_cent_phin[1+1:Nx1+1+1,1:Nx2+1]+cell_cent_phin[1:Nx1+1,1+1:Nx2+1+1]-cell_cent_phin[1:Nx1+1,1:Nx2+1])/(2*h)\n",
    "\n",
    "    grad_phi_yhpm= (cell_cent_phin[1+1:Nx1+1+1,1:Nx2+1]-cell_cent_phin[1+1:Nx1+1+1,1-1:Nx2+1-1]+cell_cent_phin[1:Nx1+1,1:Nx2+1]-cell_cent_phin[1:Nx1+1,1-1:Nx2+1-1])/(2*h)\n",
    "\n",
    "    grad_phi_yhmp= (cell_cent_phin[1:Nx1+1,1+1:Nx2+1+1]-cell_cent_phin[1:Nx1+1,1:Nx2+1]+cell_cent_phin[1-1:Nx1+1-1,1+1:Nx2+1+1]-cell_cent_phin[1-1:Nx1+1-1,1:Nx2+1])/(2*h)\n",
    "\n",
    "    grad_phi_yhmm= (cell_cent_phin[1:Nx1+1,1:Nx2+1]-cell_cent_phin[1:Nx1+1,1-1:Nx2+1-1]+cell_cent_phin[1-1:Nx1+1-1,1:Nx2+1]+cell_cent_phin[1-1:Nx1+1-1,1-1:Nx2+1-1])/(2*h)\n",
    "\n",
    "    grad_phi_mag_hpp= (grad_phi_xhpp(i,j)**2+grad_phi_yhpp(i,j)**2)**0.5\n",
    "\n",
    "    grad_phi_mag_hpm= (grad_phi_xhpm(i,j)**2+grad_phi_yhpm(i,j)**2)**0.5\n",
    "\n",
    "    grad_phi_mag_hmp= (grad_phi_xhmp(i,j)**2+grad_phi_yhmp(i,j)**2)**0.5\n",
    "\n",
    "    grad_phi_mag_hmm= (grad_phi_xhmm(i,j)**2+grad_phi_yhmm(i,j)**2)**0.5\n",
    "\n",
    "def kappa(i,j):\n",
    "    return ((grad_phi_xhpp(i,j)/grad_phi_mag_hpp(i,j))+(grad_phi_xhpm(i,j)/grad_phi_mag_hpm(i,j))-(grad_phi_xhmp(i,j)/grad_phi_mag_hmp(i,j))-(grad_phi_xhmm(i,j)/grad_phi_mag_hmm(i,j))+(grad_phi_yhpp(i,j)/grad_phi_mag_hpp(i,j))-(grad_phi_yhpm(i,j)/grad_phi_mag_hpm(i,j))+(grad_phi_yhmp(i,j)/grad_phi_mag_hmp(i,j))-(grad_phi_yhmm(i,j)/grad_phi_mag_hmm(i,j)))\n",
    "\n"
   ]
  }
 ],
 "metadata": {
  "kernelspec": {
   "display_name": "Python 3 (ipykernel)",
   "language": "python",
   "name": "python3"
  },
  "language_info": {
   "codemirror_mode": {
    "name": "ipython",
    "version": 3
   },
   "file_extension": ".py",
   "mimetype": "text/x-python",
   "name": "python",
   "nbconvert_exporter": "python",
   "pygments_lexer": "ipython3",
   "version": "3.9.7"
  }
 },
 "nbformat": 4,
 "nbformat_minor": 5
}
