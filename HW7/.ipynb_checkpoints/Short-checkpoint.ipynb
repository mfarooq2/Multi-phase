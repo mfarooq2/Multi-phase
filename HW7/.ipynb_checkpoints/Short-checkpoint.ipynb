{
 "cells": [
  {
   "cell_type": "code",
   "execution_count": 1,
   "id": "ee830f10-a50c-43c8-9448-afeb31a20fd0",
   "metadata": {},
   "outputs": [],
   "source": [
    "import itertools\n",
    "import numpy as np\n",
    "import matplotlib.pyplot as plt\n",
    "#from util_tools.operators import *\n",
    "from util_tools.ops import *\n",
    "\n",
    "from util_tools.update_funcs import *\n",
    "#problem constants\n",
    "var_dict = {}\n",
    "nu_c=var_dict['nu_c']=1e-6\n",
    "mu_c=var_dict['mu_c']=1e-3\n",
    "rho_c=var_dict['rho_c']=1e+3\n",
    "st_coef=0.06\n",
    "#real timestep\n",
    "dt=0.000001\n",
    "gradP=-2.4\n",
    "from tqdm import tqdm\n",
    "n_iter=0\n",
    "global epstot\n",
    "'''\n",
    "node generation section\n",
    "'''\n",
    "#domain length\n",
    "Lx1=0.02;Lx2=0.01;r_dpl=Lx2/4;M=3.0;u1_ave=0.02;nx1=100;nx2=50;np_=nx1*nx2;nu=2*nx1*nx2-nx1-nx2\n",
    "h=Lx1/nx1\n",
    "ip,iu=GenPointer(nx1, nx2)\n",
    "UNx1,UNx2,PNx1,PNx2=nx1+1,nx2+2,nx1,nx2\n",
    "var_dict = {'Lx1' : Lx1, 'Lx2' : Lx2, 'r_dpl': r_dpl,'h': h,'u1_ave'  : u1_ave,'M' : M,'nx1':nx1,'nx2':nx2,'np_':np_,'nu':nu,'ip':ip,'iu':iu,\n",
    "           'UNx1':UNx1,'UNx2':UNx2, 'PNx1':PNx1,'PNx2':PNx2,'dt':dt,'gradP':gradP,'st_coef':st_coef,'nu_c':nu_c,'mu_c':mu_c,'rho_c':rho_c}\n",
    "\n",
    "\n",
    "#Initialization\n",
    "un=np.zeros([UNx1,UNx2])\n",
    "us=np.zeros([UNx1,UNx2])\n",
    "unn=np.zeros([UNx1,UNx2])\n",
    "u_ref=np.zeros([UNx1+1,UNx2])\n",
    "\n",
    "vn=np.zeros([UNx1,UNx2])\n",
    "vs=np.zeros([UNx1,UNx2])\n",
    "vnn=np.zeros([UNx1,UNx2])\n",
    "#u_ref=np.zeros([UNx1+1,UNx2])\n",
    "\n",
    "qi = np.zeros((nu,1))\n",
    "pn=np.zeros([PNx1,PNx2])\n",
    "pn=np.zeros([PNx1,PNx2])\n",
    "pnn=np.zeros([PNx1,PNx2])\n",
    "rho=np.zeros([PNx1,PNx2])\n",
    "mu=np.zeros([PNx1,PNx2])\n",
    "phin=np.zeros([PNx1,PNx2])\n",
    "phis=np.zeros([PNx1,PNx2])\n",
    "phinn=np.zeros([PNx1,PNx2])\n",
    "\n",
    "\n",
    "#half_index_grid\n",
    "hig_x, hig_y = np.meshgrid(np.linspace(0, Lx1, num=UNx1),np.linspace(0-h, Lx2,UNx2),indexing='ij')\n",
    "# #full_index_grid\n",
    "xi, xj = np.meshgrid(np.round(np.linspace(0+h/2, Lx1-h/2, num=PNx1),4),np.round(np.linspace(0+h/2, Lx2-h/2,PNx2),4),indexing='ij')\n",
    "\n",
    "# #lvlset init\n",
    "phin=lvlset_init(xi, xj,var_dict)\n",
    "rho=rho_distr(phin,var_dict)\n",
    "mu=mu_distr(phin,var_dict)\n",
    "un=ref_vel_prof(hig_y)"
   ]
  },
  {
   "cell_type": "code",
   "execution_count": null,
   "id": "4329fbba-feb1-461d-8f3d-e6fe9b524ff1",
   "metadata": {},
   "outputs": [],
   "source": [
    "!pwd"
   ]
  },
  {
   "cell_type": "code",
   "execution_count": 3,
   "id": "469e7deb-fd0c-4223-988a-05d623fe7c2f",
   "metadata": {},
   "outputs": [],
   "source": [
    "u=Adv_x_n_new(qi,var_dict)"
   ]
  },
  {
   "cell_type": "code",
   "execution_count": 5,
   "id": "88bd98dc-8a76-438c-b862-1c9a422fed7b",
   "metadata": {},
   "outputs": [
    {
     "data": {
      "text/plain": [
       "(9850, 1)"
      ]
     },
     "execution_count": 5,
     "metadata": {},
     "output_type": "execute_result"
    }
   ],
   "source": [
    "u.reshape()"
   ]
  },
  {
   "cell_type": "code",
   "execution_count": 7,
   "id": "fe9e27cc-3db9-4dcd-8ed4-4f26d7cf2517",
   "metadata": {},
   "outputs": [
    {
     "data": {
      "text/plain": [
       "197.0"
      ]
     },
     "execution_count": 7,
     "metadata": {},
     "output_type": "execute_result"
    }
   ],
   "source": [
    "9850/nx2"
   ]
  },
  {
   "cell_type": "code",
   "execution_count": null,
   "id": "76be7bf1-eb6e-4300-8547-b992f4414159",
   "metadata": {},
   "outputs": [],
   "source": [
    "ip.shape"
   ]
  },
  {
   "cell_type": "code",
   "execution_count": null,
   "id": "773bfb22-1159-46b5-9755-5d58eb734ce6",
   "metadata": {},
   "outputs": [],
   "source": [
    "res2=1000\n",
    "for yt in tqdm(range(30)):\n",
    "    us=predictor(un,vn, mu, rho, us,var_dict)\n",
    "    us=BC_looper(us)\n",
    "    res=1000\n",
    "    kl=0\n",
    "    while res>1e-3:\n",
    "        kl=kl+1\n",
    "        pnn=projector( us, vs, pn,rho, pnn,var_dict)\n",
    "        q=LA.norm(pnn-pn)\n",
    "        if abs(res-q)<=0.0001:\n",
    "            break\n",
    "        res=q\n",
    "        pn=pnn.copy()\n",
    "    unn=corrector(us, pnn, unn, rho,var_dict)\n",
    "    unn=BC_looper(unn)\n",
    "    q1=LA.norm(unn-un)\n",
    "    if abs(res2-q1)<=1e-5:\n",
    "        break\n",
    "    res2=LA.norm(unn-un)\n",
    "    un=unn.copy()"
   ]
  },
  {
   "cell_type": "code",
   "execution_count": null,
   "id": "466c8f4b-7fb2-4516-9f91-9f8e9565cefa",
   "metadata": {},
   "outputs": [],
   "source": [
    "plt.imshow(un.T)"
   ]
  },
  {
   "cell_type": "code",
   "execution_count": null,
   "id": "943e64f6-df95-4d7d-8d1f-2ceb382c75cc",
   "metadata": {},
   "outputs": [],
   "source": [
    "plt.imshow(pnn.T)"
   ]
  },
  {
   "cell_type": "code",
   "execution_count": null,
   "id": "0e791fd6-59ea-486d-9329-be7638acb7de",
   "metadata": {},
   "outputs": [],
   "source": [
    "LA.norm(pnn-pn)"
   ]
  },
  {
   "cell_type": "code",
   "execution_count": null,
   "id": "c4b0e531-1298-4fb7-97e5-62a5c521e7a1",
   "metadata": {},
   "outputs": [],
   "source": [
    "us=predictor(un,vn, mu, rho, us,var_dict)\n",
    "us=BC_looper(us)\n",
    "res=1000\n",
    "kl=0\n",
    "while res>1e-4:\n",
    "    kl=kl+1\n",
    "    pnn=projector( us, vs, pn,rho, pnn,var_dict)\n",
    "    q=LA.norm(pnn-pn)\n",
    "    if abs(res-q)<=0.0001:\n",
    "        break\n",
    "    res=q\n",
    "    pn=pnn.copy()\n",
    "unn=corrector(us, pnn, unn, rho,var_dict)\n",
    "unn=BC_looper(unn)\n",
    "q1=LA.norm(unn-un)\n",
    "res2=LA.norm(unn-un)\n",
    "un=unn.copy()"
   ]
  },
  {
   "cell_type": "code",
   "execution_count": null,
   "id": "eab16b71-0383-4e8f-a60b-93b3f76070d0",
   "metadata": {},
   "outputs": [],
   "source": [
    "L_phi_s,phis=phis_predictor(phis,phin,un,vn,var_dict)"
   ]
  },
  {
   "cell_type": "code",
   "execution_count": null,
   "id": "280983db-6de5-4a53-b8a8-e4faf1e71c79",
   "metadata": {},
   "outputs": [],
   "source": [
    "q1"
   ]
  },
  {
   "cell_type": "code",
   "execution_count": null,
   "id": "a5d91ce7-98a7-437d-8dc7-d5a5060681c3",
   "metadata": {},
   "outputs": [],
   "source": [
    "plt.imshow(unn.T)"
   ]
  },
  {
   "cell_type": "code",
   "execution_count": null,
   "id": "885b85a1-98e7-49a7-a706-10ec40269caa",
   "metadata": {},
   "outputs": [],
   "source": [
    "plt.imshow(us.T)"
   ]
  },
  {
   "cell_type": "code",
   "execution_count": null,
   "id": "dc9fb27a-9f53-4a8d-83e4-5a7eeadfdf85",
   "metadata": {},
   "outputs": [],
   "source": []
  }
 ],
 "metadata": {
  "kernelspec": {
   "display_name": "Python 3 (ipykernel)",
   "language": "python",
   "name": "python3"
  },
  "language_info": {
   "codemirror_mode": {
    "name": "ipython",
    "version": 3
   },
   "file_extension": ".py",
   "mimetype": "text/x-python",
   "name": "python",
   "nbconvert_exporter": "python",
   "pygments_lexer": "ipython3",
   "version": "3.9.7"
  }
 },
 "nbformat": 4,
 "nbformat_minor": 5
}
