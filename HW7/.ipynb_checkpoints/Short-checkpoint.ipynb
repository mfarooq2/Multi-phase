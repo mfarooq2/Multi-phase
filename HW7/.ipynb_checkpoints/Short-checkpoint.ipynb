{
 "cells": [
  {
   "cell_type": "code",
   "execution_count": 2,
   "id": "dc9fb27a-9f53-4a8d-83e4-5a7eeadfdf85",
   "metadata": {},
   "outputs": [],
   "source": [
    "import itertools\n",
    "import numpy as np\n",
    "from util_tools.helper import *\n",
    "import matplotlib.pyplot as plt\n",
    "from util_tools.operators import *\n",
    "from util_tools.update_funcs import *\n",
    "#problem constants\n",
    "var_dict = {}\n",
    "nu_c=var_dict['nu_c']=1e-6\n",
    "mu_c=var_dict['mu_c']=1e-3\n",
    "rho_c=var_dict['rho_c']=1e+3\n",
    "st_coef=0.06\n",
    "#real timestep\n",
    "dt=0.0000000001\n",
    "gradP=-2.4\n",
    "from tqdm import tqdm\n",
    "n_iter=0\n",
    "global epstot\n",
    "'''\n",
    "node generation section\n",
    "'''\n",
    "#domain length\n",
    "\n",
    "Lx1=0.04;Lx2=0.02;r_dpl=Lx2/4;M=3.0;u1_ave=0.0125;nx1=100;nx2=50;Nx1=nx1+1;Nx2=nx2+2\n",
    "h=Lx1/nx1\n",
    "var_dict = {'Lx1' : Lx1, 'Lx2' : Lx2, 'r_dpl': r_dpl,'h': h,'u1_ave':u1_ave,'Nx1':Nx1,'Nx2':Nx2,'M' : M,'nx1':nx1,'nx2':nx2,'dt':dt,'gradP':gradP,'st_coef':st_coef,'nu_c':nu_c,'mu_c':mu_c,'rho_c':rho_c}\n",
    "\n",
    "#Initialization\n",
    "un=np.zeros([Nx1,Nx2])\n",
    "us=np.zeros([Nx1,Nx2])\n",
    "unn=np.zeros([Nx1,Nx2])\n",
    "u_ref=np.zeros([Nx1,Nx2])\n",
    "\n",
    "vn=np.zeros([Nx1,Nx2])\n",
    "vs=np.zeros([Nx1,Nx2])\n",
    "vnn=np.zeros([Nx1,Nx2])\n",
    "\n",
    "pn=np.zeros([nx1,nx2])\n",
    "pnn=np.zeros([nx1,nx2])\n",
    "\n",
    "\n",
    "rho=np.zeros([nx1,nx2])\n",
    "mu=np.zeros([nx1,nx2])\n",
    "\n",
    "\n",
    "\n",
    "phin=np.zeros( [nx1,nx2] )\n",
    "phis=np.zeros([nx1,nx2])\n",
    "phinn=np.zeros([nx1,nx2])\n",
    "\n",
    "Tx1,Tx2=17,15\n",
    "\n",
    "#half_index_grid\n",
    "hig_x, hig_y = np.meshgrid(np.linspace(-Lx1/2, Lx1/2, num=Nx1),np.linspace(-Lx2/2, Lx2/2,Nx2),indexing='ij')\n",
    "xi=np.round(inter_polator(hig_x,var_dict),4)\n",
    "xj=np.round(inter_polator(hig_y,var_dict),4)\n",
    "\n",
    "# #full_index_grid\n",
    "#xi, xj = np.meshgrid(np.round(np.linspace(0+h/2, Lx1-h/2, num=nx1),4),np.round(np.linspace(0+h/2, Lx2-h/2,nx2),4),indexing='ij')\n",
    "\n",
    "# #lvlset init\n",
    "phin_int=lvlset_init(xi, xj,var_dict)\n",
    "phin=phin_int.copy()\n",
    "\n",
    "rho_int=rho_distr(phin,var_dict)\n",
    "rho=rho_int.copy()\n",
    "\n",
    "mu_int=mu_distr(phin,var_dict)\n",
    "mu=mu_int.copy()\n",
    "\n",
    "u=ref_vel_prof(hig_y[0])\n",
    "\n",
    "#un[:]\n",
    "#u=inter_polator(un,var_dict)"
   ]
  },
  {
   "cell_type": "code",
   "execution_count": null,
   "id": "7951a98a-82c1-462b-84cf-f7545d3e9856",
   "metadata": {},
   "outputs": [],
   "source": []
  },
  {
   "cell_type": "code",
   "execution_count": 16,
   "id": "ebab38a8-9351-4aa8-aa63-3772983d041e",
   "metadata": {},
   "outputs": [],
   "source": []
  },
  {
   "cell_type": "code",
   "execution_count": null,
   "id": "c47b17d8-58e3-4437-9c5b-d446de1d0f68",
   "metadata": {},
   "outputs": [],
   "source": [
    "plt.contourf(xi, xj, u, 50, cmap='inferno')\n",
    "plt.colorbar()\n",
    "plt.xlabel('$x_1$ (m)')\n",
    "plt.ylabel('$x_2$ (m)')\n",
    "plt.title('domain $u$ contour ($m/s$)')\n",
    "plt.gca().set_aspect('equal')\n",
    "plt.show()"
   ]
  },
  {
   "cell_type": "code",
   "execution_count": null,
   "id": "9ee6aa49-1ed5-4dce-ba21-e00a4a0c4314",
   "metadata": {},
   "outputs": [],
   "source": [
    "for _ in tqdm(range(10)):\n",
    "    us=predictor(un,vn, mu, rho, us,var_dict)\n",
    "    us=BC_looper(us)\n",
    "    res=1000\n",
    "    while res>1e-3:\n",
    "        pnn=projector( us, vs, pn,rho, pnn,var_dict)\n",
    "        res1=res\n",
    "        res=LA.norm(pnn-pn)\n",
    "        if abs(res-res1)<1e-5:\n",
    "            break\n",
    "        pn=pnn.copy()\n",
    "    unn=corrector(us, pnn, unn, rho,var_dict)\n",
    "    unn=BC_looper(unn)\n",
    "\n",
    "    L_phi_s,phis=phis_predictor(phis,phin,un,vn,var_dict)\n",
    "    phis=BC_looper(phis)\n",
    "\n",
    "    phinn=phinn_corrector(L_phi_s,phinn,phin,un,vn,var_dict)\n",
    "    phinn=BC_looper(phinn)\n",
    "\n",
    "    phin=phinn.copy()\n",
    "    rho=rho_distr(phin,var_dict)\n",
    "    mu=mu_distr(phin,var_dict)\n",
    "    tr=np.where(unn==0,0.0001,unn)\n",
    "    tr=np.where(tr<=1e5,tr,False)\n",
    "    if np.all(tr)==False:\n",
    "        break\n",
    "    un=unn.copy()\n",
    "    #var_dict['dt']=var_dict['dt']/5 \n",
    "u=inter_polator(un,var_dict)"
   ]
  },
  {
   "cell_type": "code",
   "execution_count": null,
   "id": "459eb45c-cbd6-4e8a-ab11-3a7a271099be",
   "metadata": {},
   "outputs": [],
   "source": [
    "un"
   ]
  },
  {
   "cell_type": "code",
   "execution_count": null,
   "id": "16835fa9-a3fd-4ff0-a1a6-ae3ad80b7253",
   "metadata": {},
   "outputs": [],
   "source": [
    "plt.contourf(xi, xj, u, 20, cmap='inferno')\n",
    "plt.colorbar()\n",
    "plt.xlabel('$x_1$ (m)')\n",
    "plt.ylabel('$x_2$ (m)')\n",
    "plt.title('domain $u$ contour ($m/s$)')\n",
    "plt.gca().set_aspect('equal')\n",
    "plt.show()"
   ]
  },
  {
   "cell_type": "code",
   "execution_count": null,
   "id": "f3ed2b17-0237-43db-bf59-00f75ccdf43f",
   "metadata": {},
   "outputs": [],
   "source": [
    "plt.contourf(xi, xj, pos_dist, 20, cmap='inferno')\n",
    "plt.colorbar()\n",
    "plt.xlabel('$x_1$ (m)')\n",
    "plt.ylabel('$x_2$ (m)')\n",
    "plt.title('domain $p$ contour ($m/s$)')\n",
    "plt.gca().set_aspect('equal')\n",
    "plt.show()"
   ]
  },
  {
   "cell_type": "code",
   "execution_count": null,
   "id": "b0b38fab-91ae-457f-ac5f-cfab971c1d4c",
   "metadata": {},
   "outputs": [],
   "source": [
    "pos_dist=np.where(phin>0,phin,0)"
   ]
  },
  {
   "cell_type": "code",
   "execution_count": null,
   "id": "4838e935-255a-4db4-9637-a65b13b872c9",
   "metadata": {},
   "outputs": [],
   "source": [
    "pos_dist"
   ]
  },
  {
   "cell_type": "code",
   "execution_count": null,
   "id": "b18af713-2012-42d3-9493-6281930bb6b4",
   "metadata": {},
   "outputs": [],
   "source": [
    "cols=pd.DataFrame(phin.T).columns\n",
    "new_cols=[]"
   ]
  },
  {
   "cell_type": "code",
   "execution_count": null,
   "id": "e76ea270-a3d7-41a0-87f8-69b4393cd2f5",
   "metadata": {},
   "outputs": [],
   "source": [
    "phin_df=pd.DataFrame(phin.T)"
   ]
  },
  {
   "cell_type": "code",
   "execution_count": null,
   "id": "53466699-b8af-4cbb-9984-edfdec9f831d",
   "metadata": {},
   "outputs": [],
   "source": [
    "type(cols[1])"
   ]
  },
  {
   "cell_type": "code",
   "execution_count": null,
   "id": "4f0298ce-00b2-4d83-a286-c001d4f550e9",
   "metadata": {},
   "outputs": [],
   "source": [
    "for _ in range(len(cols)):\n",
    "    new_cols.append('col'+ str(cols[_]))"
   ]
  },
  {
   "cell_type": "code",
   "execution_count": null,
   "id": "9e5d2466-44bc-482f-98c6-26b542a12eae",
   "metadata": {},
   "outputs": [],
   "source": [
    "phin_df.columns=new_cols"
   ]
  },
  {
   "cell_type": "code",
   "execution_count": null,
   "id": "654ca401-a892-4794-bd60-886d3290fa9a",
   "metadata": {},
   "outputs": [],
   "source": [
    "np.all(np.where(tr>=1e5,tr,False))"
   ]
  },
  {
   "cell_type": "code",
   "execution_count": null,
   "id": "87caab91-ade8-4587-87d9-22f4c4d4d192",
   "metadata": {},
   "outputs": [],
   "source": [
    "from mpl_toolkits.mplot3d import axes3d\n",
    "import matplotlib.pyplot as plt"
   ]
  },
  {
   "cell_type": "code",
   "execution_count": null,
   "id": "45cd8d62-23e7-422b-bc06-93d49f535d35",
   "metadata": {},
   "outputs": [],
   "source": [
    "ax = plt.figure().add_subplot(projection='3d')\n",
    "# Plot the 3D surface\n",
    "#ax.plot_surface(xi, xj, phin_int, edgecolor='royalblue', lw=0.1, alpha=0.3)\n",
    "#ax.contourf(xi, xj, phin, zdir='y', offset=0.004, cmap='coolwarm')\n",
    "#ax.contourf(xi, xj, phin, zdir='z', cmap='coolwarm')\n",
    "ax.contourf(xi, xj, phin, zdir='z', cmap='coolwarm')\n",
    "#ax.contourf(xi, xj, phin, zdir='x',offset=0.01, cmap='coolwarm')\n",
    "ax.set(xlim=(0, 0.04), ylim=(0, 0.02),zlim=(-0.005, 0.005),xlabel='X', ylabel='Y', zlabel='Z')\n",
    "plt.show()"
   ]
  },
  {
   "cell_type": "code",
   "execution_count": null,
   "id": "2bddb663-790e-4bdd-97cb-baf664ee3be7",
   "metadata": {},
   "outputs": [],
   "source": [
    "ax = plt.figure().add_subplot(projection='3d')\n",
    "# Plot the 3D surface\n",
    "ax.plot_surface(xi, xj, phin_int, edgecolor='royalblue', lw=0.1, alpha=0.3)\n",
    "#ax.contourf(xi, xj, phin, zdir='y', offset=0.004, cmap='coolwarm')\n",
    "ax.contourf(xi, xj, phin_int, zdir='z', offset=0, cmap='coolwarm')\n",
    "#ax.contogurf(xi, xj, phin_int, zdir='x',offset=0.01, cmap='coolwarm')\n",
    "#ax.colorbar()\n"
   ]
  },
  {
   "cell_type": "code",
   "execution_count": null,
   "id": "52031e14-d795-41c7-baec-45d5ff2dd1c7",
   "metadata": {},
   "outputs": [],
   "source": [
    "phin[0]"
   ]
  },
  {
   "cell_type": "code",
   "execution_count": null,
   "id": "fd6f89ed-0ece-4324-b16b-e5121ab19857",
   "metadata": {},
   "outputs": [],
   "source": []
  },
  {
   "cell_type": "code",
   "execution_count": null,
   "id": "1f3b0387-bc66-4d17-9558-95ee8cbdb2ca",
   "metadata": {},
   "outputs": [],
   "source": [
    "phin_int[0]"
   ]
  },
  {
   "cell_type": "code",
   "execution_count": null,
   "id": "7b9a1729-74d6-4752-8057-1e1b92d1262b",
   "metadata": {},
   "outputs": [],
   "source": [
    "phin_int[1,:]"
   ]
  },
  {
   "cell_type": "code",
   "execution_count": null,
   "id": "a6ff3569-17e3-4a71-a3f8-4613a96d5cac",
   "metadata": {},
   "outputs": [],
   "source": [
    "phin_int[:,0]"
   ]
  },
  {
   "cell_type": "code",
   "execution_count": null,
   "id": "cca98009-0ec2-4d5e-894e-901d4e86a266",
   "metadata": {},
   "outputs": [],
   "source": [
    "phin_int[:,:]"
   ]
  },
  {
   "cell_type": "code",
   "execution_count": null,
   "id": "31ac04e2-c7ad-418f-873b-d269834fe3ca",
   "metadata": {},
   "outputs": [],
   "source": [
    "phin_int[:,4].shape"
   ]
  },
  {
   "cell_type": "code",
   "execution_count": null,
   "id": "f3ad3e60-ec15-40f3-a804-3edcc9bc038e",
   "metadata": {},
   "outputs": [],
   "source": []
  }
 ],
 "metadata": {
  "kernelspec": {
   "display_name": "Python 3 (ipykernel)",
   "language": "python",
   "name": "python3"
  },
  "language_info": {
   "codemirror_mode": {
    "name": "ipython",
    "version": 3
   },
   "file_extension": ".py",
   "mimetype": "text/x-python",
   "name": "python",
   "nbconvert_exporter": "python",
   "pygments_lexer": "ipython3",
   "version": "3.9.7"
  }
 },
 "nbformat": 4,
 "nbformat_minor": 5
}
