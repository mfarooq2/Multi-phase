{
 "cells": [
  {
   "cell_type": "code",
   "execution_count": 102,
   "id": "dc9fb27a-9f53-4a8d-83e4-5a7eeadfdf85",
   "metadata": {},
   "outputs": [],
   "source": [
    "import numpy as np\n",
    "from numpy import linalg as LA\n",
    "from util_tools.helper import *\n",
    "import matplotlib.pyplot as plt\n",
    "from util_tools.operators import *\n",
    "from util_tools.update_funcs import *\n",
    "#problem constants\n",
    "var_dict = {}\n",
    "nu_c=var_dict['nu_c']=1e-6\n",
    "mu_c=var_dict['mu_c']=1e-3\n",
    "rho_c=var_dict['rho_c']=1e+3\n",
    "st_coef=0.06\n",
    "#real timestep\n",
    "dt=0.006\n",
    "gradP=-2.4\n",
    "from tqdm import tqdm\n",
    "n_iter=0\n",
    "\n",
    "#domain length\n",
    "nx2=100\n",
    "Lx1=0.04;Lx2=0.02;r_dpl=Lx2/4;M=3.0;u1_ave=0.0125;nx1=nx2*2;Nx1=nx1+1;Nx2=nx2+2\n",
    "h=Lx1/nx1\n",
    "var_dict = {'Lx1' : Lx1, 'Lx2' : Lx2, 'r_dpl': r_dpl,'h': h,'u1_ave':u1_ave,'Nx1':Nx1,'Nx2':Nx2,'M' : M,'nx1':nx1,'nx2':nx2,'dt':dt,'gradP':gradP,'st_coef':st_coef,'nu_c':nu_c,'mu_c':mu_c,'rho_c':rho_c}\n",
    "\n",
    "#Initialization\n",
    "un=np.zeros([Nx1,Nx2])\n",
    "us=np.zeros([Nx1,Nx2])\n",
    "unn=np.zeros([Nx1,Nx2])\n",
    "u_ref=np.zeros([Nx1,Nx2])\n",
    "\n",
    "vn=np.zeros([Nx1,Nx2])\n",
    "vs=np.zeros([Nx1,Nx2])\n",
    "vnn=np.zeros([Nx1,Nx2])\n",
    "\n",
    "pn=np.zeros([nx1,nx2])\n",
    "pnn=np.zeros([nx1,nx2])\n",
    "\n",
    "\n",
    "rho=np.zeros([nx1,nx2])\n",
    "mu=np.zeros([nx1,nx2])\n",
    "\n",
    "\n",
    "\n",
    "phin=np.zeros( [nx1,nx2] )\n",
    "phis=np.zeros([nx1,nx2])\n",
    "phinn=np.zeros([nx1,nx2])\n",
    "\n",
    "Tx1,Tx2=17,15\n",
    "\n",
    "#half_index_grid\n",
    "hig_x, hig_y = np.meshgrid(np.linspace(-Lx1/2, Lx1/2, num=Nx1),np.linspace(-Lx2/2, Lx2/2,Nx2),indexing='ij')\n",
    "xi=np.round(inter_polator(hig_x,var_dict),4)\n",
    "xj=np.round(inter_polator(hig_y,var_dict),4)\n",
    "\n",
    "# #full_index_grid\n",
    "#xi, xj = np.meshgrid(np.round(np.linspace(0+h/2, Lx1-h/2, num=nx1),4),np.round(np.linspace(0+h/2, Lx2-h/2,nx2),4),indexing='ij')\n",
    "\n",
    "# #lvlset init\n",
    "phin_int=lvlset_init(xi, xj,var_dict)\n",
    "phin=phin_int.copy()\n",
    "\n",
    "rho_int=rho_distr(phin,var_dict)\n",
    "rho=rho_int.copy()\n",
    "\n",
    "mu_int=mu_distr(phin,var_dict)\n",
    "mu=mu_int.copy()\n",
    "\n",
    "u=ref_vel_prof(hig_y[0])\n",
    "for _ in range(Nx1):\n",
    "    un[_,:]=u\n",
    "#un[:]\n",
    "u_inter=inter_polator(un,var_dict)\n",
    "umax=np.max(u_inter)\n",
    "CFL=umax*dt/h"
   ]
  },
  {
   "cell_type": "code",
   "execution_count": 103,
   "id": "0487e17d-a537-4e07-bcf0-78d0f1ab6117",
   "metadata": {},
   "outputs": [
    {
     "data": {
      "text/plain": [
       "0.5624448583472208"
      ]
     },
     "execution_count": 103,
     "metadata": {},
     "output_type": "execute_result"
    }
   ],
   "source": [
    "CFL"
   ]
  },
  {
   "cell_type": "code",
   "execution_count": 104,
   "id": "a4e8ba9f-1c1d-4795-825f-b2d969343b5a",
   "metadata": {},
   "outputs": [
    {
     "name": "stderr",
     "output_type": "stream",
     "text": [
      " 40%|█████████████████████████████████████████████████▌                                                                          | 4/10 [00:01<00:02,  2.40it/s]\n"
     ]
    }
   ],
   "source": [
    "for _ in tqdm(range(10)):\n",
    "    us=predictor(un,vn, mu, rho,var_dict)\n",
    "    us=BC_looper(us)\n",
    "    pn=projector( us, vs, pn,rho,var_dict)\n",
    "    pn[0,:]=pn[-2,:]\n",
    "    pn[-1,:]=pn[1,:]\n",
    "    unn=corrector(us, pn, unn, rho,var_dict)\n",
    "    unn=BC_looper(unn)\n",
    "\n",
    "    L_phi_n,phis=phis_predictor(phin,un,vn,var_dict)\n",
    "\n",
    "    phinn=phinn_corrector(L_phi_n,phin,phis,un,vn,var_dict)\n",
    "\n",
    "    \n",
    "    rho=rho_distr(phinn,var_dict)\n",
    "    mu=mu_distr(phinn,var_dict)\n",
    "    tr=np.where(unn==0,0.0001,unn)\n",
    "    tr=np.where((tr<=1e5)&(tr>=-1e5),tr,False)\n",
    "    if np.all(tr)==False:\n",
    "        break\n",
    "    tr=np.where(pnn==0,0.0001,pnn)\n",
    "    tr=np.where((tr<=1e5)&(tr>=-1e5),tr,False)\n",
    "    if np.all(tr)==False:\n",
    "        break\n",
    "    un=unn.copy()\n",
    "    phin=phinn.copy()\n",
    "    #var_dict['dt']=var_dict['dt']/5 \n",
    "u=inter_polator(un,var_dict)\n",
    "\n",
    "drop_elem = np.where(phin <0,np.min(phin),0)\n",
    "drop_elem_int = np.where(phin_int<0,np.min(phin_int),0)\n",
    "\n",
    "#phin[np.where(phin > 0)]"
   ]
  },
  {
   "cell_type": "code",
   "execution_count": 105,
   "id": "f59b2ca9-4c43-494b-81fa-04b95e67790c",
   "metadata": {},
   "outputs": [
    {
     "data": {
      "text/plain": [
       "array([[-0.02  , -0.02  , -0.02  , ..., -0.02  , -0.02  , -0.02  ],\n",
       "       [-0.0198, -0.0198, -0.0198, ..., -0.0198, -0.0198, -0.0198],\n",
       "       [-0.0196, -0.0196, -0.0196, ..., -0.0196, -0.0196, -0.0196],\n",
       "       ...,\n",
       "       [ 0.0196,  0.0196,  0.0196, ...,  0.0196,  0.0196,  0.0196],\n",
       "       [ 0.0198,  0.0198,  0.0198, ...,  0.0198,  0.0198,  0.0198],\n",
       "       [ 0.02  ,  0.02  ,  0.02  , ...,  0.02  ,  0.02  ,  0.02  ]])"
      ]
     },
     "execution_count": 105,
     "metadata": {},
     "output_type": "execute_result"
    }
   ],
   "source": [
    "hig_x"
   ]
  },
  {
   "cell_type": "code",
   "execution_count": 92,
   "id": "464177a6-06bb-49f4-bbc3-9d4dc967c11b",
   "metadata": {},
   "outputs": [
    {
     "data": {
      "text/plain": [
       "array([[-0.0198, -0.0198, -0.0198, ..., -0.0198, -0.0198, -0.0198],\n",
       "       [-0.0194, -0.0194, -0.0194, ..., -0.0194, -0.0194, -0.0194],\n",
       "       [-0.019 , -0.019 , -0.019 , ..., -0.019 , -0.019 , -0.019 ],\n",
       "       ...,\n",
       "       [ 0.019 ,  0.019 ,  0.019 , ...,  0.019 ,  0.019 ,  0.019 ],\n",
       "       [ 0.0194,  0.0194,  0.0194, ...,  0.0194,  0.0194,  0.0194],\n",
       "       [ 0.0198,  0.0198,  0.0198, ...,  0.0198,  0.0198,  0.0198]])"
      ]
     },
     "execution_count": 92,
     "metadata": {},
     "output_type": "execute_result"
    }
   ],
   "source": [
    "xi"
   ]
  },
  {
   "cell_type": "code",
   "execution_count": 94,
   "id": "2155f9c7-4168-4020-9ff6-9ef361126ae7",
   "metadata": {},
   "outputs": [
    {
     "data": {
      "text/plain": [
       "0.0199"
      ]
     },
     "execution_count": 94,
     "metadata": {},
     "output_type": "execute_result"
    }
   ],
   "source": [
    "(0.02+0.0198)/2"
   ]
  },
  {
   "cell_type": "code",
   "execution_count": 108,
   "id": "513dbc92-b9b0-4e06-ba42-c4f9825a20fa",
   "metadata": {},
   "outputs": [
    {
     "data": {
      "image/png": "[encoded data removed]",
      "text/plain": [
       "<Figure size 1000x500 with 2 Axes>"
      ]
     },
     "metadata": {},
     "output_type": "display_data"
    }
   ],
   "source": [
    "fig, ax=plt.subplots(figsize=(10, 5))\n",
    "plt.plot([i for i in xi[:,0]],[0 for i in xi[:,0]])\n",
    "plt.plot([0 for i in xj[0,:]],[i for i in xj[0,:]])\n",
    "plt.contourf(xi, xj,u, 20, cmap='inferno')\n",
    "\n",
    "#plt.contourf(xi, xj,u, 20, cmap='coolwarm')\n",
    "#ax.add_patch(plt.Circle((0, 0), radius=r_dpl, color='black', fill=False))\n",
    "plt.colorbar()\n",
    "plt.xlabel('$x1$ (m)')\n",
    "plt.ylabel('$x2$ (m)')\n",
    "#plt.title('domain $u$ contour ($m/s$)')\n",
    "plt.title(f\"Variable density Ny = {nx2}\")\n",
    "plt.gca().set_aspect('equal')\n",
    "plt.show()"
   ]
  },
  {
   "cell_type": "code",
   "execution_count": 78,
   "id": "5eece874-469b-4733-9083-053a85a0a44f",
   "metadata": {},
   "outputs": [
    {
     "data": {
      "text/plain": [
       "[<matplotlib.lines.Line2D at 0x12f901d00>]"
      ]
     },
     "execution_count": 78,
     "metadata": {},
     "output_type": "execute_result"
    },
    {
     "data": {
      "image/png": "[encoded data removed]",
      "text/plain": [
       "<Figure size 640x480 with 1 Axes>"
      ]
     },
     "metadata": {},
     "output_type": "display_data"
    }
   ],
   "source": [
    "\n",
    "#plt.plot([0+ 50 for i in range(50)],[i for i in range(50)])"
   ]
  },
  {
   "cell_type": "code",
   "execution_count": 75,
   "id": "30b91268-f4f4-4750-a97a-369396e53bd9",
   "metadata": {},
   "outputs": [
    {
     "data": {
      "text/plain": [
       "array([-0.0096, -0.0092, -0.0088, -0.0084, -0.008 , -0.0076, -0.0073,\n",
       "       -0.0069, -0.0065, -0.0061, -0.0057, -0.0053, -0.0049, -0.0045,\n",
       "       -0.0041, -0.0037, -0.0033, -0.0029, -0.0025, -0.0022, -0.0018,\n",
       "       -0.0014, -0.001 , -0.0006, -0.0002,  0.0002,  0.0006,  0.001 ,\n",
       "        0.0014,  0.0018,  0.0022,  0.0025,  0.0029,  0.0033,  0.0037,\n",
       "        0.0041,  0.0045,  0.0049,  0.0053,  0.0057,  0.0061,  0.0065,\n",
       "        0.0069,  0.0073,  0.0076,  0.008 ,  0.0084,  0.0088,  0.0092,\n",
       "        0.0096])"
      ]
     },
     "execution_count": 75,
     "metadata": {},
     "output_type": "execute_result"
    }
   ],
   "source": [
    "xj[0,:]"
   ]
  },
  {
   "cell_type": "code",
   "execution_count": 76,
   "id": "f6fc59d5-7b50-4250-b0a1-d867caeb284c",
   "metadata": {},
   "outputs": [
    {
     "data": {
      "text/plain": [
       "0.0002"
      ]
     },
     "execution_count": 76,
     "metadata": {},
     "output_type": "execute_result"
    }
   ],
   "source": [
    "h/2"
   ]
  },
  {
   "cell_type": "code",
   "execution_count": 74,
   "id": "ecda1a7c-4a77-49df-ae68-463f4efe6971",
   "metadata": {},
   "outputs": [
    {
     "data": {
      "text/plain": [
       "0.02"
      ]
     },
     "execution_count": 74,
     "metadata": {},
     "output_type": "execute_result"
    }
   ],
   "source": [
    "Lx2"
   ]
  },
  {
   "cell_type": "code",
   "execution_count": null,
   "id": "13a23877-8d79-4a21-8a06-e67db29a4526",
   "metadata": {},
   "outputs": [],
   "source": [
    "for _ in tqdm(range(1)):\n",
    "    us=predictor(un,vn, mu, rho,var_dict)\n",
    "    us=BC_looper(us)\n",
    "    res=1000\n",
    "    while res>1e-3:\n",
    "        pnn=projector( us, vs, pn,rho,var_dict)\n",
    "        res1=res\n",
    "        res=LA.norm(pnn-pn)\n",
    "        if abs(res-res1)<1e-5:\n",
    "            break\n",
    "        pn=pnn.copy()\n",
    "    unn=corrector(us, pnn, unn, rho,var_dict)\n",
    "    unn=BC_looper(unn)\n",
    "\n",
    "    L_phi_n,phis=phis_predictor(phin,un,vn,var_dict)\n",
    "\n",
    "    phinn=phinn_corrector(L_phi_n,phin,phis,un,vn,var_dict)\n",
    "\n",
    "    \n",
    "    rho=rho_distr(phinn,var_dict)\n",
    "    mu=mu_distr(phinn,var_dict)\n",
    "    tr=np.where(unn==0,0.0001,unn)\n",
    "    tr=np.where((tr<=1e5)&(tr>=-1e5),tr,False)\n",
    "    if np.all(tr)==False:\n",
    "        break\n",
    "    tr=np.where(pnn==0,0.0001,pnn)\n",
    "    tr=np.where((tr<=1e5)&(tr>=-1e5),tr,False)\n",
    "    if np.all(tr)==False:\n",
    "        break\n",
    "    un=unn.copy()\n",
    "    phin=phinn.copy()\n",
    "    #var_dict['dt']=var_dict['dt']/5 \n",
    "u=inter_polator(un,var_dict)\n",
    "\n",
    "drop_elem = np.where(phin <0,np.min(phin),0)\n",
    "drop_elem_int = np.where(phin_int<0,np.min(phin_int),0)\n",
    "\n",
    "#phin[np.where(phin > 0)]"
   ]
  },
  {
   "cell_type": "code",
   "execution_count": null,
   "id": "a657d89d-de21-4073-8341-95b1ea40eaa2",
   "metadata": {},
   "outputs": [],
   "source": [
    "np.sum(abs(phin-phin_int))"
   ]
  },
  {
   "cell_type": "code",
   "execution_count": null,
   "id": "b039ef7b-a8c3-43e7-a928-a57df7b9cfca",
   "metadata": {},
   "outputs": [],
   "source": [
    "fig, ax=plt.subplots(figsize=(10, 5))\n",
    "plt.contourf(xi, xj,u, 20, cmap='inferno')\n",
    "#ax.add_patch(plt.Circle((0, 0), radius=r_dpl, color='black', fill=False))\n",
    "plt.colorbar()\n",
    "plt.xlabel('$x1$ (m)')\n",
    "plt.ylabel('$x2$ (m)')\n",
    "#plt.title('domain $u$ contour ($m/s$)')\n",
    "plt.title(f\"Variable density Ny = {nx2}\")\n",
    "plt.gca().set_aspect('equal')\n",
    "plt.show()"
   ]
  },
  {
   "cell_type": "code",
   "execution_count": null,
   "id": "0f55d72f-d779-4eab-816a-f046c6fe32ce",
   "metadata": {},
   "outputs": [],
   "source": [
    "fig, ax=plt.subplots(figsize=(10, 5))\n",
    "plt.contourf(xi, xj, phin, 20, cmap='inferno')\n",
    "ax.add_patch(plt.Circle((0, 0), radius=r_dpl, color='black', fill=False))\n",
    "plt.colorbar()\n",
    "plt.xlabel('$x1$ (m)')\n",
    "plt.ylabel('$x2$ (m)')\n",
    "#plt.title('domain $u$ contour ($m/s$)')\n",
    "plt.title(f\"Variable density Ny = {nx2}\")\n",
    "plt.gca().set_aspect('equal')\n",
    "plt.show()"
   ]
  },
  {
   "cell_type": "code",
   "execution_count": null,
   "id": "a8a09ace-75be-4f2e-aa93-cd2232b2e4f1",
   "metadata": {},
   "outputs": [],
   "source": [
    "ax = plt.figure(figsize=(20, 10)).add_subplot(projection='3d')\n",
    "# Plot the 3D surface\n",
    "ax.plot_surface(xi, xj, phinn, edgecolor='black')\n",
    "#ax.contourf(xi, xj, phin, zdir='y', offset=0.004, cmap='coolwarm')\n",
    "#ax.contourf(xi, xj, phin, zdir='z', cmap='coolwarm')\n",
    "#ax.contourf(xi, xj, drop_elem, zdir='z', cmap='inferno')\n",
    "#ax.contourf(xi, xj, phin, zdir='z',offset=np.max(phin-phin_int), cmap='coolwarm')\n",
    "#ax.contourf(xi, xj, phi_diff, zdir='z', cmap='coolwarm')\n",
    "#ax.contourf(xi, xj, phi_diff, zdir='y', cmap='coolwarm')\n",
    "#ax.set(xlim=(-0.02, 0.02), ylim=(-0.01, 0.01),xlabel='X', ylabel='Y', zlabel='Z')\n",
    "\n",
    "#ax.scatter(xi, xj, zs=drop_elem_int, zdir='z', c='g', label='points in (x, y)')\n",
    "#ax.scatter(xi, xj, zs=drop_elem, zdir='z', c='r', label='points in (x, z)')\n",
    "ax.set(xlim=(-0.02, 0.02), ylim=(-0.01, 0.01),xlabel='X', ylabel='Y', zlabel='Phi')\n",
    "#ax.view_init(azim=0, roll=0)\n",
    "ax.set_title('3d Surface Plot Initial Level Set')\n",
    "plt.show()"
   ]
  },
  {
   "cell_type": "code",
   "execution_count": null,
   "id": "9890b53b-4d8d-4111-984c-270ee86d701b",
   "metadata": {},
   "outputs": [],
   "source": [
    "res=100\n",
    "us=predictor(un,vn, mu, rho,var_dict)\n",
    "us=BC_looper(us)\n",
    "while res>0.5e-3:\n",
    "    pnn=projector( us, vs, pn,rho,var_dict)\n",
    "    res1=res\n",
    "    res=LA.norm(pnn-pn)\n",
    "    pn=pnn.copy()\n",
    "unn=corrector(us, pnn, unn, rho,var_dict)"
   ]
  },
  {
   "cell_type": "code",
   "execution_count": null,
   "id": "adde033e-f6c6-4c6d-90d8-177326dd539b",
   "metadata": {},
   "outputs": [],
   "source": [
    "fig, ax=plt.subplots()\n",
    "plt.contourf(xi, xj, pnn, 2,cmap='coolwarm')\n",
    "ax.add_patch(plt.Circle((0, 0), radius=r_dpl, color='yellow', fill=False))\n",
    "\n",
    "plt.colorbar()\n",
    "plt.xlabel('$x_1$ (m)')\n",
    "plt.ylabel('$x_2$ (m)')\n",
    "plt.title('domain initial level-set, ', fontsize=9) \n",
    "plt.gca().set_aspect('equal') "
   ]
  },
  {
   "cell_type": "code",
   "execution_count": null,
   "id": "2184a1e9-3a13-4e03-ba46-48ad368eb61e",
   "metadata": {},
   "outputs": [],
   "source": [
    "fig, ax=plt.subplots()\n",
    "plt.contourf(xi, xj, phin_int, 2,cmap='coolwarm')\n",
    "ax.add_patch(plt.Circle((0, 0), radius=r_dpl, color='yellow', fill=False))\n",
    "\n",
    "plt.colorbar()\n",
    "plt.xlabel('$x_1$ (m)')\n",
    "plt.ylabel('$x_2$ (m)')\n",
    "plt.title('domain initial level-set, ', fontsize=9) \n",
    "plt.gca().set_aspect('equal') "
   ]
  },
  {
   "cell_type": "code",
   "execution_count": null,
   "id": "9ee6aa49-1ed5-4dce-ba21-e00a4a0c4314",
   "metadata": {},
   "outputs": [],
   "source": [
    "for _ in tqdm(range(6)):\n",
    "    us=predictor(un,vn, mu, rho,var_dict)\n",
    "    us=BC_looper(us)\n",
    "    res=1000\n",
    "    while res>0.5e-3:\n",
    "        pnn=projector( us, vs, pn,rho,var_dict)\n",
    "        res1=res\n",
    "        res=LA.norm(pnn-pn)\n",
    "        pn=pnn.copy()\n",
    "    unn=corrector(us, pnn, unn, rho,var_dict)\n",
    "    unn=BC_looper(unn)\n",
    "\n",
    "    L_phi_n,phis=phis_predictor(phin,un,vn,var_dict)\n",
    "\n",
    "    phinn=phinn_corrector(L_phi_n,phin,phis,un,vn,var_dict)\n",
    "\n",
    "    \n",
    "    rho=rho_distr(phin,var_dict)\n",
    "    mu=mu_distr(phin,var_dict)\n",
    "    tr=np.where(unn==0,0.0001,unn)\n",
    "    tr=np.where((tr<=1e5)&(tr>=-1e5),tr,False)\n",
    "    if np.all(tr)==False:\n",
    "        break\n",
    "    tr=np.where(pnn==0,0.0001,pnn)\n",
    "    tr=np.where((tr<=1e5)&(tr>=-1e5),tr,False)\n",
    "    if np.all(tr)==False:\n",
    "        break\n",
    "    un=unn.copy()\n",
    "    phin=phinn.copy()\n",
    "    #var_dict['dt']=var_dict['dt']/5 \n",
    "u=inter_polator(un,var_dict)\n",
    "\n",
    "drop_elem = np.where(phin <0,np.min(phin),0)\n",
    "drop_elem_int = np.where(phin_int<0,np.min(phin_int),0)\n",
    "\n",
    "#phin[np.where(phin > 0)]"
   ]
  },
  {
   "cell_type": "code",
   "execution_count": null,
   "id": "aefd63dc-8257-43f9-9880-dfc6ca264612",
   "metadata": {},
   "outputs": [],
   "source": [
    "plt.imshow(rho.T)\n",
    "plt.colorbar()"
   ]
  },
  {
   "cell_type": "code",
   "execution_count": null,
   "id": "ecf651f3-31c7-4d1a-b516-aabc0f48dece",
   "metadata": {},
   "outputs": [],
   "source": [
    "np.allclose(rho,rho_int)"
   ]
  },
  {
   "cell_type": "code",
   "execution_count": null,
   "id": "65a0dfb8-8684-4d03-bcfc-5e63ac320b54",
   "metadata": {},
   "outputs": [],
   "source": [
    "fig, ax=plt.subplots()\n",
    "plt.contourf(xi, xj, u, 20,cmap='coolwarm')\n",
    "ax.add_patch(plt.Circle((0, 0), radius=r_dpl, color='yellow', fill=False))\n",
    "\n",
    "plt.colorbar()\n",
    "plt.xlabel('$x_1$ (m)')\n",
    "plt.ylabel('$x_2$ (m)')\n",
    "plt.title('domain initial level-set, ', fontsize=9) \n",
    "plt.gca().set_aspect('equal') "
   ]
  },
  {
   "cell_type": "code",
   "execution_count": null,
   "id": "23d28ea0-1063-4193-8931-34f9e0c4b9bc",
   "metadata": {},
   "outputs": [],
   "source": [
    "fig, ax=plt.subplots()\n",
    "plt.contourf(xi, xj, u_inter, 20,cmap='coolwarm')\n",
    "ax.add_patch(plt.Circle((0, 0), radius=r_dpl, color='yellow', fill=False))\n",
    "\n",
    "plt.colorbar()\n",
    "plt.xlabel('$x_1$ (m)')\n",
    "plt.ylabel('$x_2$ (m)')\n",
    "plt.title('domain initial level-set, ', fontsize=9) \n",
    "plt.gca().set_aspect('equal') "
   ]
  },
  {
   "cell_type": "code",
   "execution_count": null,
   "id": "aa2d5a62-dde2-4ffe-b23a-2388b5b71eb5",
   "metadata": {},
   "outputs": [],
   "source": [
    "fig, ax=plt.subplots()\n",
    "plt.contourf(xi, xj, rho_int, 2,cmap='coolwarm')\n",
    "ax.add_patch(plt.Circle((0, 0), radius=r_dpl, color='yellow', fill=False))\n",
    "\n",
    "plt.colorbar()\n",
    "plt.xlabel('$x_1$ (m)')\n",
    "plt.ylabel('$x_2$ (m)')\n",
    "plt.title('domain initial level-set, ', fontsize=9) \n",
    "plt.gca().set_aspect('equal') "
   ]
  },
  {
   "cell_type": "code",
   "execution_count": null,
   "id": "34d59ef1-a66a-417c-97da-516e97706687",
   "metadata": {},
   "outputs": [],
   "source": [
    "fig, ax=plt.subplots()\n",
    "plt.contourf(xi, xj, drop_elem_int, 3,cmap='coolwarm')\n",
    "ax.add_patch(plt.Circle((0, 0), radius=r_dpl, color='yellow', fill=False))\n",
    "\n",
    "plt.colorbar()\n",
    "plt.xlabel('$x_1$ (m)')\n",
    "plt.ylabel('$x_2$ (m)')\n",
    "plt.title('domain initial level-set, ', fontsize=9) \n",
    "plt.gca().set_aspect('equal') "
   ]
  },
  {
   "cell_type": "code",
   "execution_count": null,
   "id": "16835fa9-a3fd-4ff0-a1a6-ae3ad80b7253",
   "metadata": {},
   "outputs": [],
   "source": [
    "fig, ax=plt.subplots()\n",
    "plt.contourf(xi, xj, phin, 20, cmap='inferno')\n",
    "ax.add_patch(plt.Circle((0, 0), radius=r_dpl, color='black', fill=False))\n",
    "plt.colorbar()\n",
    "plt.xlabel('$x_1$ (m)')\n",
    "plt.ylabel('$x_2$ (m)')\n",
    "plt.title('domain $u$ contour ($m/s$)')\n",
    "plt.gca().set_aspect('equal')\n",
    "plt.show()"
   ]
  },
  {
   "cell_type": "code",
   "execution_count": null,
   "id": "429ece9a-1904-47ce-9270-c2ea0e90e6a5",
   "metadata": {},
   "outputs": [],
   "source": [
    "fig, ax=plt.subplots()\n",
    "plt.contourf(xi, xj, phin_int, 20, cmap='inferno')\n",
    "ax.add_patch(plt.Circle((0, 0), radius=r_dpl, color='black', fill=False))\n",
    "plt.colorbar()\n",
    "plt.xlabel('$x_1$ (m)')\n",
    "plt.ylabel('$x_2$ (m)')\n",
    "plt.title('domain $u$ contour ($m/s$)')\n",
    "plt.gca().set_aspect('equal')\n",
    "plt.show()"
   ]
  },
  {
   "cell_type": "code",
   "execution_count": null,
   "id": "d7e866e3-5cdd-42a4-9db9-f9b1fd101b2e",
   "metadata": {},
   "outputs": [],
   "source": [
    "plt.contourf(xi, xj, pn, 5, cmap='inferno')\n",
    "plt.colorbar()\n",
    "plt.xlabel('$x_1$ (m)')\n",
    "plt.ylabel('$x_2$ (m)')\n",
    "plt.title('domain $u$ contour ($m/s$)')\n",
    "plt.gca().set_aspect('equal')\n",
    "plt.show()"
   ]
  },
  {
   "cell_type": "code",
   "execution_count": null,
   "id": "199d9c8a-bba8-490b-b675-e12c9e06f20b",
   "metadata": {},
   "outputs": [],
   "source": [
    "drop_elem_int"
   ]
  },
  {
   "cell_type": "code",
   "execution_count": null,
   "id": "b0b38fab-91ae-457f-ac5f-cfab971c1d4c",
   "metadata": {},
   "outputs": [],
   "source": [
    "pos_dist=np.where(phin>0,phin,0)"
   ]
  },
  {
   "cell_type": "code",
   "execution_count": null,
   "id": "4838e935-255a-4db4-9637-a65b13b872c9",
   "metadata": {},
   "outputs": [],
   "source": [
    "pos_dist"
   ]
  },
  {
   "cell_type": "code",
   "execution_count": null,
   "id": "b18af713-2012-42d3-9493-6281930bb6b4",
   "metadata": {},
   "outputs": [],
   "source": [
    "cols=pd.DataFrame(phin.T).columns\n",
    "new_cols=[]"
   ]
  },
  {
   "cell_type": "code",
   "execution_count": null,
   "id": "e76ea270-a3d7-41a0-87f8-69b4393cd2f5",
   "metadata": {},
   "outputs": [],
   "source": [
    "phin_df=pd.DataFrame(phin.T)"
   ]
  },
  {
   "cell_type": "code",
   "execution_count": null,
   "id": "53466699-b8af-4cbb-9984-edfdec9f831d",
   "metadata": {},
   "outputs": [],
   "source": [
    "type(cols[1])"
   ]
  },
  {
   "cell_type": "code",
   "execution_count": null,
   "id": "4f0298ce-00b2-4d83-a286-c001d4f550e9",
   "metadata": {},
   "outputs": [],
   "source": [
    "for _ in range(len(cols)):\n",
    "    new_cols.append('col'+ str(cols[_]))"
   ]
  },
  {
   "cell_type": "code",
   "execution_count": null,
   "id": "4930c59a-c0c5-4b07-9875-a7b4ec24c7d9",
   "metadata": {},
   "outputs": [],
   "source": [
    "dist=np.where(phin>0,np.max(phin),0)\n",
    "dist_int=np.where(phin_int>0,np.max(phin_int),0)"
   ]
  },
  {
   "cell_type": "code",
   "execution_count": null,
   "id": "eb772819-60c9-4cdf-bb08-c8e5cd9d8b9a",
   "metadata": {},
   "outputs": [],
   "source": []
  },
  {
   "cell_type": "code",
   "execution_count": null,
   "id": "45cd8d62-23e7-422b-bc06-93d49f535d35",
   "metadata": {},
   "outputs": [],
   "source": [
    "ax = plt.figure().add_subplot(projection='3d')\n",
    "# Plot the 3D surface\n",
    "#ax.plot_surface(xi, xj, drop_elem, edgecolor='royalblue')\n",
    "#ax.contourf(xi, xj, phin, zdir='y', offset=0.004, cmap='coolwarm')\n",
    "#ax.contourf(xi, xj, phin, zdir='z', cmap='coolwarm')\n",
    "#ax.contourf(xi, xj, drop_elem, zdir='z', cmap='inferno')\n",
    "#ax.contourf(xi, xj, phin, zdir='z',offset=np.max(phin-phin_int), cmap='coolwarm')\n",
    "#ax.contourf(xi, xj, phi_diff, zdir='z', cmap='coolwarm')\n",
    "#ax.contourf(xi, xj, phi_diff, zdir='y', cmap='coolwarm')\n",
    "#ax.set(xlim=(-0.02, 0.02), ylim=(-0.01, 0.01),xlabel='X', ylabel='Y', zlabel='Z')\n",
    "\n",
    "ax.scatter(xi, xj, zs=drop_elem_int, zdir='z', c='g', label='points in (x, y)')\n",
    "ax.scatter(xi, xj, zs=drop_elem, zdir='z', c='r', label='points in (x, z)')\n",
    "ax.set(xlim=(-0.02, 0.02), ylim=(-0.01, 0.01),xlabel='X', ylabel='Y', zlabel='Z')\n",
    "plt.show()"
   ]
  },
  {
   "cell_type": "code",
   "execution_count": null,
   "id": "874b7da5-d51e-471e-83a3-f0fb6d3f8a77",
   "metadata": {},
   "outputs": [],
   "source": []
  },
  {
   "cell_type": "code",
   "execution_count": null,
   "id": "ad6a2376-7fbe-4396-a12a-3a570696be3b",
   "metadata": {},
   "outputs": [],
   "source": [
    "((rho[1:-1,1:-1]/(dt))@(us[2:-1,2:-2]-us[1:-2,2:-2]).T).shape"
   ]
  },
  {
   "cell_type": "code",
   "execution_count": null,
   "id": "324b59a4-407d-4c06-adf1-e08813280428",
   "metadata": {},
   "outputs": [],
   "source": [
    "(rho[1:-1,1:-1]/(dt)).shape"
   ]
  },
  {
   "cell_type": "code",
   "execution_count": null,
   "id": "63ef2108-e226-4b86-bd88-ef2a94a777d4",
   "metadata": {},
   "outputs": [],
   "source": [
    "(us[2:-1,2:-2]-us[1:-2,2:-2]).shape"
   ]
  },
  {
   "cell_type": "code",
   "execution_count": null,
   "id": "7092479b-94cc-48b0-9ab4-9eae3312ed67",
   "metadata": {},
   "outputs": [],
   "source": []
  }
 ],
 "metadata": {
  "kernelspec": {
   "display_name": "Python 3 (ipykernel)",
   "language": "python",
   "name": "python3"
  },
  "language_info": {
   "codemirror_mode": {
    "name": "ipython",
    "version": 3
   },
   "file_extension": ".py",
   "mimetype": "text/x-python",
   "name": "python",
   "nbconvert_exporter": "python",
   "pygments_lexer": "ipython3",
   "version": "3.9.7"
  }
 },
 "nbformat": 4,
 "nbformat_minor": 5
}
