{
 "cells": [
  {
   "cell_type": "code",
   "execution_count": 1,
   "id": "ab78e07d-229a-480c-a2d6-e9116dfcc36d",
   "metadata": {},
   "outputs": [],
   "source": [
    "# -*- coding: utf-8 -*-\n",
    "\"\"\"\n",
    "Created on Thu Apr  6 22:27:45 2023\n",
    "\n",
    "@author:\n",
    "\"\"\"\n",
    "\n",
    "import numpy as np\n",
    "import math\n",
    "import matplotlib.pyplot as plt\n",
    "import array\n",
    "import fractions    \n",
    "\n",
    "def Adv_x(i,j):\n",
    "    return (1/h) * ( ((u[i+1,j]+ u[i,j])/2)**2 - ((u[i,j] + u[i-1,j])/2)**2 )\n",
    "\n",
    "def Dif_x(i,j):\n",
    "    return (1/h**2) * (u[i+1,j]+u[i-1,j]+u[i,j+1]+u[i,j-1] - 4*u[i,j])\n",
    "\n",
    "def anal(y):\n",
    "    return -187.5*y**2 + 0.01875\n",
    "\n",
    "def levelset (x,y):\n",
    "    return radius - math.sqrt( (x-xd)**2 + (y - yd)**2 )  \n",
    "\n",
    "def heavy (phi, M):\n",
    "    if phi< -M*h:\n",
    "        return 0\n",
    "    elif abs(phi) <= M*h:\n",
    "        return 0.5 * (1+phi/(M*h) + (1/math.pi)*math.sin(math.pi*phi/(M*h)))  \n",
    "    elif phi > M*h:\n",
    "        return 1\n",
    "    \n",
    "def L (u, phi_plus, phi_minus):  # Recall this is the ad hoc method\n",
    "    return -u*(phi_plus - phi_minus)/(h)\n",
    "\n",
    " "
   ]
  },
  {
   "cell_type": "code",
   "execution_count": 2,
   "id": "dc7ac8d5-3ba0-43af-8b87-08a99007e912",
   "metadata": {},
   "outputs": [],
   "source": [
    "       \n",
    "# constants \n",
    "M = 3\n",
    "nu = 1e-6\n",
    "mul = 1e-3\n",
    "mug = 1e-5\n",
    "rhol = 1e3\n",
    "rhog = 1\n",
    "gradP = -0.375\n",
    "max_vel = 0.01875 # this is the max velocity of the analytical solution\n",
    "\n",
    "# building the domain\n",
    "L1 = 0.04 # x\n",
    "L2 = 0.02 # y\n",
    "Ny = 50\n",
    "Nx = int(Ny*2) \n",
    "h = L1/Nx\n",
    "\n",
    "# Set up CFL and dt\n",
    "cfl = 0.999\n",
    "dt = cfl*h/max_vel\n",
    "\n",
    "#droplet info\n",
    "radius = L2/4\n",
    "xd = 0.02\n",
    "yd = 0.01\n",
    "\n",
    "#Initialize the property grids\n",
    "phi = np.zeros([Nx+2,Ny])\n",
    "phi_star = np.zeros([Nx+2,Ny])\n",
    "phi_n1 = np.zeros([Nx+2,Ny])\n",
    "rho = np.zeros([Nx+2,Ny])\n",
    "mu = np.zeros([Nx+2,Ny])\n",
    "xlist = np.linspace(0,L1,Nx+2)\n",
    "ylist = np.linspace(0,L2, Ny)   # we crop out two rows of nodes because those are the ghost nodes that give us no slip BC\n",
    "grid_x = np.zeros([len(xlist),len(ylist)]) \n",
    "grid_y = np.zeros([len(xlist), len(ylist)])\n",
    "D_plus_grid = np.zeros([len(xlist), len(ylist)])\n",
    "D_minus_grid = np.zeros([len(xlist), len(ylist)])\n",
    "\n",
    "#Now let's build an analytical velocity grid, then define a discretized analytical velocity profile\n",
    "u = np.zeros([len(xlist), len(ylist)])\n",
    "analist= np.linspace(-L2/2,L2/2,Ny)\n",
    "for i in range(0, len(xlist)):\n",
    "    for j in range(0, len(ylist)):\n",
    "        u[i,j] = anal(analist[j])\n",
    "\n",
    "#Now let's set up constant grids that will be out of the advection for loop\n",
    "for i in range(0,len(xlist)):\n",
    "    for j in range(0,len(ylist)):\n",
    "        grid_y[i,:] = ylist\n",
    "        grid_x[:,j] = xlist\n",
    "        phi[i,j] = levelset(grid_x[i,j], grid_y[i,j])  #Now fill up phi, which in 7a was called level_set_field\n",
    "        \n",
    "# Okay big dog, from here on out everything will advected and updated\n"
   ]
  },
  {
   "cell_type": "code",
   "execution_count": 3,
   "id": "b450a423-f55f-4da9-8728-dd5aa66d1788",
   "metadata": {},
   "outputs": [
    {
     "data": {
      "text/plain": [
       "array([[0.        , 0.00040816, 0.00081633, ..., 0.01918367, 0.01959184,\n",
       "        0.02      ],\n",
       "       [0.        , 0.00040816, 0.00081633, ..., 0.01918367, 0.01959184,\n",
       "        0.02      ],\n",
       "       [0.        , 0.00040816, 0.00081633, ..., 0.01918367, 0.01959184,\n",
       "        0.02      ],\n",
       "       ...,\n",
       "       [0.        , 0.00040816, 0.00081633, ..., 0.01918367, 0.01959184,\n",
       "        0.02      ],\n",
       "       [0.        , 0.00040816, 0.00081633, ..., 0.01918367, 0.01959184,\n",
       "        0.02      ],\n",
       "       [0.        , 0.00040816, 0.00081633, ..., 0.01918367, 0.01959184,\n",
       "        0.02      ]])"
      ]
     },
     "execution_count": 3,
     "metadata": {},
     "output_type": "execute_result"
    }
   ],
   "source": [
    "grid_y"
   ]
  },
  {
   "cell_type": "code",
   "execution_count": 4,
   "id": "ac6d0da3-abb6-44db-ac70-9bcf9a497986",
   "metadata": {},
   "outputs": [
    {
     "data": {
      "text/plain": [
       "array([[0.        , 0.        , 0.        , ..., 0.        , 0.        ,\n",
       "        0.        ],\n",
       "       [0.00039604, 0.00039604, 0.00039604, ..., 0.00039604, 0.00039604,\n",
       "        0.00039604],\n",
       "       [0.00079208, 0.00079208, 0.00079208, ..., 0.00079208, 0.00079208,\n",
       "        0.00079208],\n",
       "       ...,\n",
       "       [0.03920792, 0.03920792, 0.03920792, ..., 0.03920792, 0.03920792,\n",
       "        0.03920792],\n",
       "       [0.03960396, 0.03960396, 0.03960396, ..., 0.03960396, 0.03960396,\n",
       "        0.03960396],\n",
       "       [0.04      , 0.04      , 0.04      , ..., 0.04      , 0.04      ,\n",
       "        0.04      ]])"
      ]
     },
     "execution_count": 4,
     "metadata": {},
     "output_type": "execute_result"
    }
   ],
   "source": [
    "grid_x"
   ]
  },
  {
   "cell_type": "code",
   "execution_count": null,
   "id": "97d71cde-9e33-4780-ba7f-80f5e92fe6f9",
   "metadata": {},
   "outputs": [],
   "source": [
    "fig, ax=plt.subplots(figsize=(10, 5))\n",
    "plt.contourf(xi, xj, phi, 20, cmap='inferno')\n",
    "ax.add_patch(plt.Circle((0, 0), radius=r_dpl, color='black', fill=False))\n",
    "plt.colorbar()\n",
    "plt.xlabel('$x1$ (m)')\n",
    "plt.ylabel('$x2$ (m)')\n",
    "#plt.title('domain $u$ contour ($m/s$)')\n",
    "plt.title(f\"Variable density Ny = {nx2}\")\n",
    "plt.gca().set_aspect('equal')\n",
    "plt.show()"
   ]
  },
  {
   "cell_type": "code",
   "execution_count": null,
   "id": "e5eb0ddb-7fd8-4525-a2d3-7f0daed9c628",
   "metadata": {},
   "outputs": [],
   "source": [
    "\n",
    "for iteration in range(0,100):\n",
    "    for i in range(0,len(xlist)):\n",
    "        for j in range(0,len(ylist)):\n",
    "            rho[i,j] = rhol*heavy(phi[i,j], M) + rhog*(1-heavy(phi[i,j], M))\n",
    "            mu[i,j]  = mul*heavy(phi[i,j], M) + mug*(1-heavy(phi[i,j], M))\n",
    "\n",
    "            if i < len(xlist)-1:\n",
    "                phi_star[i,j] = phi[i,j] + dt * L(u[i,j], phi[i+1,j],phi[i-1,j])\n",
    "            else:\n",
    "                phi_star[i,j] = phi[i,j] + dt * L(u[i,j], phi[0,j],phi[i-1,j])\n",
    "     \n",
    "    # Do the corrector step for level set field advection\n",
    "    for i in range(0,len(xlist)):\n",
    "        for j in range(0,len(ylist)):\n",
    "            phi_n1[i,j] = phi[i,j] + dt/2 * (L(u[i,j],  phi[0,j], phi[i-1,j]) + L(u[i,j],  phi_star[0,j], phi_star[i-1,j]))\n",
    "            \n",
    "    figure, axes = plt.subplots()\n",
    "    plt.contourf(grid_x, grid_y, phi, 10, cmap= 'gray')\n",
    "    plt.title('Level Set Field when Ny = 50 \\n timestep = %i' % iteration) \n",
    "    legend=plt.colorbar() \n",
    "    legend.ax.set_title('distance from interface',fontsize=8) \n",
    "    plt.xlabel('X') \n",
    "    plt.ylabel('Y') \n",
    "    #interface = plt.Circle((xd, yd), radius, color ='red', fill = False)\n",
    "    #axes.add_artist(interface)\n",
    "    plt.show()        \n",
    "\n",
    "    # now update the level set field\n",
    "    phi = phi_n1\n"
   ]
  }
 ],
 "metadata": {
  "kernelspec": {
   "display_name": "Python 3 (ipykernel)",
   "language": "python",
   "name": "python3"
  },
  "language_info": {
   "codemirror_mode": {
    "name": "ipython",
    "version": 3
   },
   "file_extension": ".py",
   "mimetype": "text/x-python",
   "name": "python",
   "nbconvert_exporter": "python",
   "pygments_lexer": "ipython3",
   "version": "3.9.7"
  }
 },
 "nbformat": 4,
 "nbformat_minor": 5
}
