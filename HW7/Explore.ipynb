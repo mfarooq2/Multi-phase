{
 "cells": [
  {
   "cell_type": "code",
   "execution_count": 1,
   "id": "0602124b-264b-4cf3-8362-24ce0e6551c9",
   "metadata": {},
   "outputs": [],
   "source": [
    "import itertools\n",
    "import numpy as np\n",
    "import math\n",
    "#import matplotlib\n",
    "import matplotlib.pyplot as plt\n",
    "#import numba as nb\n",
    "import threading as thd\n",
    "#import logging as lg\n",
    "from util_tools.operators import *\n",
    "from util_tools.update_funcs import *\n",
    "#problem constants\n",
    "var_dict = {}\n",
    "var_dict['nu']=1e-6\n",
    "var_dict['mu']=1e-3\n",
    "var_dict['rho']=1e+3\n",
    "var_dict['st_coef']=0.06\n",
    "#real timestep\n",
    "var_dict['dt']=0.0001\n",
    "var_dict['gradP']=-2.4\n",
    "\n",
    "n_iter=0\n",
    "global epstot\n",
    "'''\n",
    "node generation section\n",
    "'''\n",
    "#domain length\n",
    "\n",
    "Lx1=var_dict['Lx1']=0.02\n",
    "Lx2=var_dict['Lx2']=0.01\n",
    "\n",
    "r_dpl=var_dict['r_dpl']=0.25*var_dict['Lx2']\n",
    "#number of cells on each direction\n",
    "Nx1=var_dict['Nx1']=120\n",
    "Nx2=var_dict['Nx2']=60\n",
    "\n",
    "cell_vol=var_dict['cell_vol']=(Lx1/Nx1)*(Lx2/Nx2)\n",
    "\n",
    "#mesh spacing\n",
    "h=var_dict['h']=Lx1/Nx1\n",
    "\n",
    "#redistancing pseudo-time count\n",
    "tau=0.0\n",
    "#redistancing pseudo-time step\n",
    "dtau= var_dict['dtau']= 0.5*h\n",
    "\n",
    "#smoothing range\n",
    "M=var_dict['M']=3.0\n",
    "#uave\n",
    "u1_ave=var_dict['u1_ave']=0.02\n",
    "\n",
    "    \n",
    "epstot=100.0\n",
    "p_iter=0\n",
    "#cell centroid coor\n",
    "#the +2 stands for ghost cells on each direction\n",
    "cell_cent_x=np.zeros([Nx1+2,Nx2+2])\n",
    "cell_cent_y=np.zeros([Nx1+2,Nx2+2])\n",
    "\n",
    "cell_cent_pn=np.zeros([Nx1+2,Nx2+2])\n",
    "cell_cent_pnn=np.zeros([Nx1+2,Nx2+2])\n",
    "\n",
    "cell_cent_phin=np.zeros([Nx1+2,Nx2+2])\n",
    "cell_cent_phis=np.zeros([Nx1+2,Nx2+2])\n",
    "cell_cent_phinn=np.zeros([Nx1+2,Nx2+2])\n",
    "\n",
    "cell_cent_phi_dn=np.zeros([Nx1+2,Nx2+2])\n",
    "cell_cent_phi_ds=np.zeros([Nx1+2,Nx2+2])\n",
    "cell_cent_phi_dnn=np.zeros([Nx1+2,Nx2+2])\n",
    "\n",
    "cell_cent_rho=np.zeros([Nx1+2,Nx2+2])\n",
    "cell_cent_mu=np.zeros([Nx1+2,Nx2+2])\n",
    "#cell corner coor\n",
    "cell_cor_x=np.zeros([Nx1+3,Nx2+3])\n",
    "cell_cor_y=np.zeros([Nx1+3,Nx2+3])\n",
    "\n",
    "#surf area of the cell \n",
    "cell_S_x=np.zeros([Nx1+2,Nx2+2])\n",
    "cell_S_y=np.zeros([Nx1+2,Nx2+2])\n",
    "\n",
    "cell_S_x_coor_x=np.zeros([Nx1+2,Nx2+2])\n",
    "cell_S_x_coor_y=np.zeros([Nx1+2,Nx2+2])\n",
    "cell_S_y_coor_x=np.zeros([Nx1+2,Nx2+2])\n",
    "cell_S_y_coor_y=np.zeros([Nx1+2,Nx2+2])\n",
    "\n",
    "#normal vector of cell surfaces\n",
    "cell_S_x_nx=np.zeros([Nx1+2,Nx2+2])\n",
    "cell_S_x_ny=np.zeros([Nx1+2,Nx2+2])\n",
    "cell_S_y_nx=np.zeros([Nx1+2,Nx2+2])\n",
    "cell_S_y_ny=np.zeros([Nx1+2,Nx2+2])\n",
    "#surface velocities\n",
    "cell_S_x_un=np.zeros([Nx1+2,Nx2+2])\n",
    "cell_S_x_us=np.zeros([Nx1+2,Nx2+2])\n",
    "cell_S_x_unn=np.zeros([Nx1+2,Nx2+2])\n",
    "\n",
    "cell_S_y_vn=np.zeros([Nx1+2,Nx2+2])\n",
    "cell_S_y_vs=np.zeros([Nx1+2,Nx2+2])\n",
    "cell_S_y_vnn=np.zeros([Nx1+2,Nx2+2])\n",
    "#reference velocity profile\n",
    "ref_S_u=np.zeros([Nx2+2])\n",
    "L_sq=np.array([1.0,1.0])\n",
    "\n",
    "#corner coor initialization\n",
    "cell_cor_x, cell_cor_y = np.meshgrid((Lx1/Nx1)*np.linspace(-1, Nx1+1, Nx1+3), (Lx1/Nx1)*np.linspace(-1, Nx2+1, Nx2+3),indexing='ij')\n",
    "        \n",
    "#cell cent coor storage\n",
    "\n",
    "\n",
    "cell_cent_x[0:Nx1+2,0:Nx2+2]=0.25*(cell_cor_x[0:Nx1+2,0:Nx2+2]+cell_cor_x[0+1:Nx1+2+1,0:Nx2+2]+cell_cor_x[0:Nx1+2,0+1:Nx2+2+1]+cell_cor_x[0+1:Nx1+2+1,0+1:Nx2+2+1])\n",
    "\n",
    "cell_cent_y[0:Nx1+2,0:Nx2+2]=0.25*(cell_cor_y[0:Nx1+2,0:Nx2+2] + cell_cor_y[0+1:Nx1+2+1,0:Nx2+2] + cell_cor_y[0:Nx1+2,0+1:Nx2+2+1]+cell_cor_y[0+1:Nx1+2+1,0+1:Nx2+2+1])\n",
    "#lvlset init\n",
    "cell_cent_phin[0:Nx1+2,0:Nx2+2]=lvlset_init(cell_cent_x[0:Nx1+2,0:Nx2+2], cell_cent_y[0:Nx1+2,0:Nx2+2],var_dict)\n",
    "\n",
    "\n",
    "\n",
    "\n",
    "cell_S_x_coor_x[0:Nx1+2,0:Nx2+2]=(cell_cor_x[0:Nx1+2,0:Nx2+2]+cell_cor_x[0:Nx1+2,0+1:Nx2+2+1])/2\n",
    "cell_S_x_coor_y[0:Nx1+2,0:Nx2+2]=(cell_cor_y[0:Nx1+2,0:Nx2+2]+cell_cor_y[0:Nx1+2,0+1:Nx2+2+1])/2\n",
    "cell_S_y_coor_x[0:Nx1+2,0:Nx2+2]=(cell_cor_x[0:Nx1+2,0:Nx2+2]+cell_cor_x[0+1:Nx1+2+1,0:Nx2+2])/2\n",
    "cell_S_y_coor_y[0:Nx1+2,0:Nx2+2]=(cell_cor_y[0:Nx1+2,0:Nx2+2]+cell_cor_y[0+1:Nx1+2+1,0:Nx2+2])/2\n",
    "cell_cent_rho[0:Nx1+2,0:Nx2+2]=rho_distr(cell_cent_phin[0:Nx1+2,0:Nx2+2],var_dict)\n",
    "cell_cent_mu[0:Nx1+2,0:Nx2+2]=mu_distr(cell_cent_phin[0:Nx1+2,0:Nx2+2],var_dict)\n",
    "\n",
    "\n",
    "\n",
    "cell_S_x[0:Nx1+2,0:Nx2+2]=abs(cell_cor_y[0:Nx1+2,0:Nx2+2]-cell_cor_y[0:Nx1+2,0+1:Nx2+2+1])\n",
    "cell_S_y[0:Nx1+2,0:Nx2+2]=abs(cell_cor_x[0:Nx1+2,0:Nx2+2]-cell_cor_x[0+1:Nx1+2+1,0:Nx2+2])\n",
    "\n",
    "cell_S_x_nx[0:Nx1+2,0:Nx2+2]=(cell_cor_y[0:Nx1+2,0+1:Nx2+2+1]-cell_cor_y[0:Nx1+2,0:Nx2+2])/cell_S_x[0:Nx1+2,0:Nx2+2]\n",
    "cell_S_x_ny[0:Nx1+2,0:Nx2+2]=(cell_cor_x[0:Nx1+2,0+1:Nx2+2+1]-cell_cor_x[0:Nx1+2,0:Nx2+2])/cell_S_x[0:Nx1+2,0:Nx2+2]\n",
    "cell_S_y_nx[0:Nx1+2,0:Nx2+2]=(cell_cor_y[0+1:Nx1+2+1,0:Nx2+2]-cell_cor_y[0:Nx1+2,0:Nx2+2])/cell_S_y[0:Nx1+2,0:Nx2+2]\n",
    "cell_S_y_ny[0:Nx1+2,0:Nx2+2]=(cell_cor_x[0+1:Nx1+2+1,0:Nx2+2]-cell_cor_x[0:Nx1+2,0:Nx2+2])/cell_S_y[0:Nx1+2,0:Nx2+2]\n",
    "\n",
    "\n",
    "#initial conditions\n",
    "cell_S_x_un[0:Nx1+2,0:Nx2+2]=ref_vel_prof(cell_cent_y[0:Nx1+2,0:Nx2+2])\n",
    "\n",
    "\n",
    "\n"
   ]
  },
  {
   "cell_type": "code",
   "execution_count": 2,
   "id": "dfb24ddd-abde-4c8c-9ca7-5bdbcbc0f5cd",
   "metadata": {},
   "outputs": [],
   "source": [
    "for i in range(500):\n",
    "    cell_cent_phis=phis_BC_looper(phis_looper(cell_cent_phis,cell_cent_phin,cell_S_x_un,cell_S_y_vn,var_dict),var_dict)\n",
    "    cell_cent_phinn=phinn_BC_looper(phinn_looper(cell_cent_phin,cell_cent_phis,cell_cent_phi_ds,cell_cent_phin,cell_S_x_un,cell_S_x_us,cell_S_y_vn,var_dict),var_dict)\n",
    "    cell_cent_phi_dnn=phi_dnn_looper(cell_cent_phi_dn, cell_cent_phinn, cell_cent_phi_dnn,cell_cent_phi_ds,cell_cent_phis,var_dict)\n",
    "    cell_cent_rho=rho_distr(cell_cent_phin,var_dict)\n",
    "    cell_cent_mu=mu_distr(cell_cent_phin,var_dict)\n",
    "    cell_S_x_us=us_looper(cell_S_x_un, cell_cent_mu, cell_cent_rho, cell_S_x_us,var_dict)\n",
    "    cell_S_x_us=us_BC_looper(cell_S_x_us,var_dict)\n",
    "    cell_cent_pn=p_looper( cell_S_x_us, cell_S_y_vs,cell_S_x_unn,cell_S_y_vnn, cell_cent_pn, cell_cent_pnn,var_dict)\n",
    "    cell_cent_pnn=p_BC_looper(cell_cent_pn,var_dict)\n",
    "    cell_S_x_unn=unn_looper(cell_S_x_us, cell_cent_pnn, cell_S_x_unn, cell_cent_rho,var_dict)\n",
    "    cell_S_x_unn=unn_BC_looper(cell_S_x_unn,var_dict)\n",
    "    cell_S_x_un=cell_S_x_unn\n",
    "    cell_cent_pnn=cell_cent_pn\n",
    "    cell_cent_phin=cell_cent_phinn"
   ]
  },
  {
   "cell_type": "code",
   "execution_count": 3,
   "id": "4b615626-a002-4e0d-88b0-b74b3945d717",
   "metadata": {},
   "outputs": [
    {
     "data": {
      "text/plain": [
       "<matplotlib.image.AxesImage at 0x1034aa220>"
      ]
     },
     "execution_count": 3,
     "metadata": {},
     "output_type": "execute_result"
    },
    {
     "data": {
      "image/png": "[encoded data removed]",
      "text/plain": [
       "<Figure size 640x480 with 1 Axes>"
      ]
     },
     "metadata": {},
     "output_type": "display_data"
    }
   ],
   "source": [
    "plt.imshow(cell_S_x_un.T)"
   ]
  },
  {
   "cell_type": "code",
   "execution_count": null,
   "id": "84eb06a7-6704-4150-961a-4cba28880334",
   "metadata": {},
   "outputs": [],
   "source": []
  },
  {
   "cell_type": "code",
   "execution_count": null,
   "id": "07b19668-241d-493f-9504-7b9b89850b48",
   "metadata": {},
   "outputs": [],
   "source": []
  },
  {
   "cell_type": "code",
   "execution_count": null,
   "id": "28c567a8-19a8-4650-9e87-d4d0bd0c035b",
   "metadata": {},
   "outputs": [],
   "source": []
  },
  {
   "cell_type": "code",
   "execution_count": null,
   "id": "8b222723-f910-479f-9a86-daf9ee710ffb",
   "metadata": {},
   "outputs": [],
   "source": []
  },
  {
   "cell_type": "code",
   "execution_count": null,
   "id": "dc153487-e3c1-4df5-b721-a0337fd3ee9b",
   "metadata": {},
   "outputs": [],
   "source": [
    "cell_cent_phis=phis_BC_looper(phis_looper(cell_cent_phis,cell_cent_phin,cell_S_x_un,cell_S_y_vn,var_dict),var_dict)\n",
    "cell_cent_phinn=phinn_BC_looper(phinn_looper(cell_cent_phin,cell_cent_phis,cell_cent_phi_ds,cell_cent_phin,cell_S_x_un,cell_S_x_us,cell_S_y_vn,var_dict),var_dict)\n",
    "cell_cent_phi_dnn=phi_dnn_looper(cell_cent_phi_dn, cell_cent_phinn, cell_cent_phi_dnn,cell_cent_phi_ds,cell_cent_phis,var_dict)\n",
    "cell_cent_rho=rho_distr(cell_cent_phin,var_dict)\n",
    "cell_cent_mu=mu_distr(cell_cent_phin,var_dict)\n",
    "cell_S_x_us=us_looper(cell_S_x_un, cell_cent_mu, cell_cent_rho, cell_S_x_us,var_dict)\n",
    "cell_S_x_us=us_BC_looper(cell_S_x_us,var_dict)\n",
    "cell_cent_pn=p_looper( cell_S_x_us, cell_S_y_vs,cell_S_x_unn,cell_S_y_vnn, cell_cent_pn, cell_cent_pnn,var_dict)\n",
    "cell_cent_pnn=p_BC_looper(cell_cent_pn,var_dict)\n",
    "cell_S_x_unn=unn_looper(cell_S_x_us, cell_cent_pnn, cell_S_x_unn, cell_cent_rho,var_dict)\n",
    "cell_S_x_unn=unn_BC_looper(cell_S_x_unn,var_dict)\n",
    "cell_S_x_un=cell_S_x_unn\n",
    "cell_cent_pnn=cell_cent_pn\n",
    "cell_cent_phin=cell_cent_phinn\n",
    "plt.imshow(cell_cent_phi_dnn.T)\n",
    "print(cell_cent_phi_dnn)"
   ]
  },
  {
   "cell_type": "code",
   "execution_count": null,
   "id": "625d5d73-b11d-4806-9783-8bbfca590cb1",
   "metadata": {},
   "outputs": [],
   "source": []
  },
  {
   "cell_type": "code",
   "execution_count": null,
   "id": "7c271efb-66e8-4ec8-a635-2be64c88961f",
   "metadata": {},
   "outputs": [],
   "source": [
    "a=np.array([0,1,2,3,4])"
   ]
  },
  {
   "cell_type": "code",
   "execution_count": null,
   "id": "c1e0f708-cbbd-4d68-9fa1-14528e328660",
   "metadata": {},
   "outputs": [],
   "source": [
    "len(a)"
   ]
  },
  {
   "cell_type": "code",
   "execution_count": null,
   "id": "40c52f94-b9a8-48ac-ad84-5d537e6eda45",
   "metadata": {},
   "outputs": [],
   "source": [
    "a[1:5]"
   ]
  },
  {
   "cell_type": "code",
   "execution_count": null,
   "id": "4427e455-49b7-4b21-aef2-957951592b1e",
   "metadata": {},
   "outputs": [],
   "source": [
    "for i in range(1,5):\n",
    "    print(a[i])"
   ]
  },
  {
   "cell_type": "code",
   "execution_count": null,
   "id": "fb8a9aef-19b2-44e9-b31c-3b77c68b693e",
   "metadata": {},
   "outputs": [],
   "source": []
  }
 ],
 "metadata": {
  "kernelspec": {
   "display_name": "Python 3 (ipykernel)",
   "language": "python",
   "name": "python3"
  },
  "language_info": {
   "codemirror_mode": {
    "name": "ipython",
    "version": 3
   },
   "file_extension": ".py",
   "mimetype": "text/x-python",
   "name": "python",
   "nbconvert_exporter": "python",
   "pygments_lexer": "ipython3",
   "version": "3.9.7"
  }
 },
 "nbformat": 4,
 "nbformat_minor": 5
}
