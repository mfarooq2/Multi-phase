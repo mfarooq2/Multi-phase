{
 "cells": [
  {
   "cell_type": "code",
   "execution_count": 1,
   "id": "0602124b-264b-4cf3-8362-24ce0e6551c9",
   "metadata": {},
   "outputs": [],
   "source": [
    "import itertools\n",
    "import numpy as np\n",
    "import math\n",
    "#import matplotlib\n",
    "import matplotlib.pyplot as plt\n",
    "#import numba as nb\n",
    "import threading as thd\n",
    "#import logging as lg\n",
    "from util_tools.operators import *\n",
    "from util_tools.update_funcs import *\n",
    "#problem constants\n",
    "var_dict = {}\n",
    "nu_c=var_dict['nu_c']=1e-6\n",
    "mu_c=var_dict['mu_c']=1e-3\n",
    "rho_c=var_dict['rho_c']=1e+3\n",
    "var_dict['st_coef']=0.06\n",
    "#real timestep\n",
    "dt=var_dict['dt']=0.000001\n",
    "gradP=var_dict['gradP']=-2.4\n",
    "from tqdm import tqdm\n",
    "n_iter=0\n",
    "global epstot\n",
    "'''\n",
    "node generation section\n",
    "'''\n",
    "#domain length\n",
    "\n",
    "Lx1=var_dict['Lx1']=0.02\n",
    "Lx2=var_dict['Lx2']=0.01\n",
    "\n",
    "r_dpl=var_dict['r_dpl']=var_dict['Lx2']/4\n",
    "#number of cells on each direction\n",
    "Nx1=var_dict['Nx1']=120\n",
    "Nx2=var_dict['Nx2']=60\n",
    "\n",
    "cell_vol=var_dict['cell_vol']=(Lx1/Nx1)*(Lx2/Nx2)\n",
    "\n",
    "#mesh spacing\n",
    "h=var_dict['h']=Lx1/Nx1\n",
    "\n",
    "#redistancing pseudo-time count\n",
    "tau=0.0\n",
    "#redistancing pseudo-time step\n",
    "dtau= var_dict['dtau']= 0.5*h\n",
    "\n",
    "#smoothing range\n",
    "M=var_dict['M']=3.0\n",
    "#uave\n",
    "u1_ave=var_dict['u1_ave']=0.02\n",
    "\n",
    "\n",
    "#Initialization\n",
    "pn,pnn,un,us,vn,vs,unn,vnn,rho,mu,phin,phis,phinn,u_ref=[np.zeros([Nx1+2,Nx2+2])]*14\n",
    "\n",
    "\n",
    "#half_index_grid\n",
    "hig_x, hig_y = np.meshgrid((Lx1/Nx1)*np.linspace(-1, Nx1+1, Nx1+3), (Lx2/Nx2)*np.linspace(-1, Nx2+1, Nx2+3),indexing='ij')\n",
    "#full_index_grid\n",
    "xi=np.zeros([Nx1+2,Nx2+2])\n",
    "xj=np.zeros([Nx1+2,Nx2+2])\n",
    "xi[0:Nx1+2,0:Nx2+2]=0.25*(hig_x[0:Nx1+2,0:Nx2+2]+hig_x[0+1:Nx1+2+1,0:Nx2+2]+hig_x[0:Nx1+2,0+1:Nx2+2+1]+hig_x[0+1:Nx1+2+1,0+1:Nx2+2+1])\n",
    "xj[0:Nx1+2,0:Nx2+2]=0.25*(hig_y[0:Nx1+2,0:Nx2+2] + hig_y[0+1:Nx1+2+1,0:Nx2+2] + hig_y[0:Nx1+2,0+1:Nx2+2+1]+hig_y[0+1:Nx1+2+1,0+1:Nx2+2+1])\n"
   ]
  },
  {
   "cell_type": "code",
   "execution_count": 2,
   "id": "308adbda-6385-4ae3-8450-39192fdfc42c",
   "metadata": {},
   "outputs": [],
   "source": [
    "#lvlset init\n",
    "phin[0:Nx1+2,0:Nx2+2]=lvlset_init(xi[0:Nx1+2,0:Nx2+2], xj[0:Nx1+2,0:Nx2+2],var_dict)\n",
    "\n",
    "\n",
    "\n",
    "\n",
    "rho[0:Nx1+2,0:Nx2+2]=rho_distr(phin[0:Nx1+2,0:Nx2+2],var_dict)\n",
    "mu[0:Nx1+2,0:Nx2+2]=mu_distr(phin[0:Nx1+2,0:Nx2+2],var_dict)\n",
    "\n",
    "un[0:Nx1+2,0:Nx2+2]=ref_vel_prof(cell_cent_y[0:Nx1+2,0:Nx2+2])\n",
    "\n",
    "\n"
   ]
  },
  {
   "cell_type": "code",
   "execution_count": 5,
   "id": "2b55a34c-eb28-4565-8e54-708e4ef83b71",
   "metadata": {},
   "outputs": [
    {
     "data": {
      "text/plain": [
       "(62, 32)"
      ]
     },
     "execution_count": 5,
     "metadata": {},
     "output_type": "execute_result"
    }
   ],
   "source": [
    "phinn.shape"
   ]
  },
  {
   "cell_type": "code",
   "execution_count": null,
   "id": "8972d570-6f2a-444c-80ec-a46492fc2f7f",
   "metadata": {},
   "outputs": [],
   "source": [
    "for yt in tqdm(range(8)):\n",
    "    \n",
    "    rho[0:Nx1+2,0:Nx2+2]=rho_distr(phin[0:Nx1+2,0:Nx2+2],var_dict)\n",
    "    mu[0:Nx1+2,0:Nx2+2]=mu_distr(phin[0:Nx1+2,0:Nx2+2],var_dict)\n",
    "    us=us_looper(un,vn, mu, rho, us,var_dict)\n",
    "    us=BC_looper(us,var_dict)\n",
    "    res=1000\n",
    "    while res>1e-3:\n",
    "        pnn=p_looper( us, vs, pn,rho, pnn,var_dict)\n",
    "        res=LA.norm(pnn-pn)\n",
    "        pn=pnn.copy()\n",
    "    pnn=BC_looper(pnn,var_dict)\n",
    "    unn=unn_looper(us, pnn, unn, rho,var_dict)\n",
    "    unn=BC_looper(unn,var_dict)\n",
    "\n",
    "    phis=phis_looper(phis,phin,un,vn,var_dict)\n",
    "    phis=BC_looper(phis,var_dict)\n",
    "\n",
    "    phinn=phinn_looper(phinn,phis,phin,un,us,vs,vn,var_dict)\n",
    "    phinn=BC_looper(phinn,var_dict)\n",
    "\n",
    "    phin=phinn.copy()\n",
    "\n",
    "    un=unn.copy()\n",
    "    var_dict['dt']=var_dict['dt']/5\n",
    "\n"
   ]
  },
  {
   "cell_type": "code",
   "execution_count": null,
   "id": "155a8309-ff65-4026-b1e5-7e4df24255a5",
   "metadata": {},
   "outputs": [],
   "source": [
    "bub=plt.Circle((0.01, 0.005), r_dpl, color='grey', fill=False)\n",
    "fig, ax=plt.subplots()\n",
    "plt.contourf(cell_cent_x, cell_cent_y, phin, 20, cmap='inferno')\n",
    "plt.colorbar()\n",
    "ax.add_artist(bub)\n",
    "plt.xlabel('$x_1$ (m)')\n",
    "plt.ylabel('$x_2$ (m)')\n",
    "plt.title('domain initial level-set, '+str(Nx2), fontsize=9)\n",
    "plt.gca().set_aspect('equal')\n",
    "plt.show() \n",
    "\n"
   ]
  },
  {
   "cell_type": "code",
   "execution_count": null,
   "id": "f3a4500b-0b3a-4d40-adec-c5ac9dcd1c5e",
   "metadata": {},
   "outputs": [],
   "source": [
    "plt.contourf(cell_cent_x, cell_cent_y, pnn, 20, cmap='inferno')\n",
    "plt.colorbar()\n",
    "plt.xlabel('$x_1$ (m)')\n",
    "plt.ylabel('$x_2$ (m)')\n",
    "plt.title('domain $p$ contour ($m/s$)')\n",
    "plt.gca().set_aspect('equal')\n",
    "plt.show()"
   ]
  },
  {
   "cell_type": "code",
   "execution_count": null,
   "id": "28146008-f7ef-4bce-a0aa-f786645833d6",
   "metadata": {},
   "outputs": [],
   "source": [
    "plt.contourf(cell_cent_x, cell_cent_y, unn, 20, cmap='inferno')\n",
    "plt.colorbar()\n",
    "plt.xlabel('$x_1$ (m)')\n",
    "plt.ylabel('$x_2$ (m)')\n",
    "plt.title('domain $u_1$ contour ($m/s$)')\n",
    "plt.gca().set_aspect('equal')\n",
    "plt.show()"
   ]
  },
  {
   "cell_type": "code",
   "execution_count": null,
   "id": "b0b7c231-625f-46a8-a60f-e13bb2853962",
   "metadata": {},
   "outputs": [],
   "source": [
    "rho[0:Nx1+2,0:Nx2+2]=rho_distr(phin[0:Nx1+2,0:Nx2+2],var_dict)\n",
    "mu[0:Nx1+2,0:Nx2+2]=mu_distr(phin[0:Nx1+2,0:Nx2+2],var_dict)\n",
    "us=us_looper(un,vn, mu, rho, us,var_dict)\n",
    "us=us_BC_looper(us,var_dict)\n",
    "res=1000\n",
    "while res>1e-3:\n",
    "    pnn=p_looper( us, vs, pn,rho, pnn,var_dict)\n",
    "    res=LA.norm(pnn-pn)\n",
    "    pn=pnn.copy()\n",
    "pnn=p_BC_looper(pnn,var_dict)\n",
    "unn=unn_looper(us, pnn, unn, rho,var_dict)\n",
    "unn=unn_BC_looper(unn,var_dict)\n",
    "\n",
    "phis=phis_looper(phis,phin,un,vn,var_dict)\n",
    "phis=phis_BC_looper(phis,var_dict)\n",
    "\n",
    "phinn=phinn_looper(phinn,phis,phin,un,us,vs,vn,var_dict)\n",
    "phinn=phinn_BC_looper(phinn,var_dict)\n",
    "\n",
    "phin=phinn.copy()\n",
    "\n",
    "un=unn.copy()\n",
    "var_dict['dt']=var_dict['dt']/5"
   ]
  },
  {
   "cell_type": "code",
   "execution_count": null,
   "id": "cdf5075b-a801-4821-b28c-40b270c5c479",
   "metadata": {},
   "outputs": [],
   "source": []
  }
 ],
 "metadata": {
  "kernelspec": {
   "display_name": "Python 3 (ipykernel)",
   "language": "python",
   "name": "python3"
  },
  "language_info": {
   "codemirror_mode": {
    "name": "ipython",
    "version": 3
   },
   "file_extension": ".py",
   "mimetype": "text/x-python",
   "name": "python",
   "nbconvert_exporter": "python",
   "pygments_lexer": "ipython3",
   "version": "3.9.7"
  }
 },
 "nbformat": 4,
 "nbformat_minor": 5
}
