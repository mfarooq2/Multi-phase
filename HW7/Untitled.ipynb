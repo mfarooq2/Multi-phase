{
 "cells": [
  {
   "cell_type": "code",
   "execution_count": null,
   "id": "d2867fd6-3631-4a60-b5da-4589e6ec92cc",
   "metadata": {},
   "outputs": [],
   "source": [
    "[1:Nx1+1,1:Nx2+1]"
   ]
  },
  {
   "cell_type": "code",
   "execution_count": null,
   "id": "e9b5839b-b0d7-46c8-aa55-5a8560681d21",
   "metadata": {},
   "outputs": [],
   "source": [
    "[1+1:Nx1+1+1,1-1:Nx2+1-1]"
   ]
  },
  {
   "cell_type": "code",
   "execution_count": null,
   "id": "8dad271c-f0d1-4d44-bf75-1d841f9cb729",
   "metadata": {},
   "outputs": [],
   "source": [
    "grad_phi_xhpp[1:Nx1+1,1:Nx2+1]= (cell_cent_phin[1+1:Nx1+1+1,1+1:Nx2+1+1]+cell_cent_phin[1+1:Nx1+1+1,1:Nx2+1]-cell_cent_phin[1:Nx1+1,1+1:Nx2+1+1]-cell_cent_phin[1:Nx1+1,1:Nx2+1])/(2*h)\n",
    "\n",
    "\n",
    "grad_phi_xhpm[1:Nx1+1,1:Nx2+1]= (cell_cent_phin[1+1:Nx1+1+1,1:Nx2+1]+cell_cent_phin[1+1:Nx1+1+1,1-1:Nx2+1-1]-cell_cent_phin[1:Nx1+1,1:Nx2+1]-cell_cent_phin[1:Nx1+1,1-1:Nx2+1-1])/(2*h)\n",
    "\n",
    "\n",
    "grad_phi_xhmp[1:Nx1+1,1:Nx2+1]= (cell_cent_phin[1:Nx1+1,1+1:Nx2+1+1]+cell_cent_phin[1:Nx1+1,1:Nx2+1]-cell_cent_phin[1-1:Nx1+1-1,1+1:Nx2+1+1]-cell_cent_phin[1-1:Nx1+1-1,1:Nx2+1])/(2*h)\n",
    "\n",
    "grad_phi_xhmm[1:Nx1+1,1:Nx2+1]= (cell_cent_phin[1:Nx1+1,1:Nx2+1]+cell_cent_phin[1:Nx1+1,1-1:Nx2+1-1]-cell_cent_phin[1-1:Nx1+1-1,1:Nx2+1]-cell_cent_phin[1-1:Nx1+1-1,1-1:Nx2+1-1])/(2*h)\n",
    "\n",
    "grad_phi_yhpp[1:Nx1+1,1:Nx2+1]= (cell_cent_phin[1+1:Nx1+1+1,1+1:Nx2+1+1]-cell_cent_phin[1+1:Nx1+1+1,1:Nx2+1]+cell_cent_phin[1:Nx1+1,1+1:Nx2+1+1]-cell_cent_phin[1:Nx1+1,1:Nx2+1])/(2*h)\n",
    "\n",
    "grad_phi_yhpm[1:Nx1+1,1:Nx2+1]= (cell_cent_phin[1+1:Nx1+1+1,1:Nx2+1]-cell_cent_phin[1+1:Nx1+1+1,1-1:Nx2+1-1]+cell_cent_phin[1:Nx1+1,1:Nx2+1]-cell_cent_phin[1:Nx1+1,1-1:Nx2+1-1])/(2*h)\n",
    "\n",
    "grad_phi_yhmp[1:Nx1+1,1:Nx2+1]= (cell_cent_phin[1:Nx1+1,1+1:Nx2+1+1]-cell_cent_phin[1:Nx1+1,1:Nx2+1]+cell_cent_phin[1-1:Nx1+1-1,1+1:Nx2+1+1]-cell_cent_phin[1-1:Nx1+1-1,1:Nx2+1])/(2*h)\n",
    "\n",
    "grad_phi_yhmm[1:Nx1+1,1:Nx2+1]= (cell_cent_phin[1:Nx1+1,1:Nx2+1]-cell_cent_phin[1:Nx1+1,1-1:Nx2+1-1]+cell_cent_phin[1-1:Nx1+1-1,1:Nx2+1]+cell_cent_phin[1-1:Nx1+1-1,1-1:Nx2+1-1])/(2*h)\n",
    "\n",
    "grad_phi_mag_hpp[1:Nx1+1,1:Nx2+1]= (grad_phi_xhpp[1:Nx1+1,1:Nx2+1])**2+grad_phi_yhpp[1:Nx1+1,1:Nx2+1]**2)**0.5\n",
    "\n",
    "grad_phi_mag_hpm[1:Nx1+1,1:Nx2+1]= (grad_phi_xhpm[1:Nx1+1,1:Nx2+1]**2+grad_phi_yhpm[1:Nx1+1,1:Nx2+1]**2)**0.5\n",
    "\n",
    "grad_phi_mag_hmp[1:Nx1+1,1:Nx2+1]= (grad_phi_xhmp[1:Nx1+1,1:Nx2+1]**2+grad_phi_yhmp[1:Nx1+1,1:Nx2+1]**2)**0.5\n",
    "\n",
    "grad_phi_mag_hmm[1:Nx1+1,1:Nx2+1]= (grad_phi_xhmm[1:Nx1+1,1:Nx2+1]**2+grad_phi_yhmm[1:Nx1+1,1:Nx2+1]**2)**0.5\n",
    "\n",
    "kappa[1:Nx1+1,1:Nx2+1]= ((grad_phi_xhpp[1:Nx1+1,1:Nx2+1]/grad_phi_mag_hpp[1:Nx1+1,1:Nx2+1])+(grad_phi_xhpm[1:Nx1+1,1:Nx2+1]/grad_phi_mag_hpm[1:Nx1+1,1:Nx2+1])-(grad_phi_xhmp[1:Nx1+1,1:Nx2+1]/grad_phi_mag_hmp[1:Nx1+1,1:Nx2+1])-(grad_phi_xhmm[1:Nx1+1,1:Nx2+1]/grad_phi_mag_hmm[1:Nx1+1,1:Nx2+1])+(grad_phi_yhpp[1:Nx1+1,1:Nx2+1]/grad_phi_mag_hpp[1:Nx1+1,1:Nx2+1])-(grad_phi_yhpm[1:Nx1+1,1:Nx2+1]/grad_phi_mag_hpm[1:Nx1+1,1:Nx2+1])+(grad_phi_yhmp[1:Nx1+1,1:Nx2+1]/grad_phi_mag_hmp[1:Nx1+1,1:Nx2+1])-(grad_phi_yhmm[1:Nx1+1,1:Nx2+1]/grad_phi_mag_hmm[1:Nx1+1,1:Nx2+1]))\n",
    "\n"
   ]
  }
 ],
 "metadata": {
  "kernelspec": {
   "display_name": "Python 3 (ipykernel)",
   "language": "python",
   "name": "python3"
  },
  "language_info": {
   "codemirror_mode": {
    "name": "ipython",
    "version": 3
   },
   "file_extension": ".py",
   "mimetype": "text/x-python",
   "name": "python",
   "nbconvert_exporter": "python",
   "pygments_lexer": "ipython3",
   "version": "3.9.7"
  }
 },
 "nbformat": 4,
 "nbformat_minor": 5
}
