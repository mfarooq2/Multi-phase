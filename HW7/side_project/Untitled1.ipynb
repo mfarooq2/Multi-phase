{
 "cells": [
  {
   "cell_type": "code",
   "execution_count": 1,
   "id": "8b98c27f-74fd-4095-b0f3-c37f61bb61c8",
   "metadata": {},
   "outputs": [],
   "source": [
    "p=!pdfxmeta pcs.pdf \"^^\""
   ]
  },
  {
   "cell_type": "code",
   "execution_count": null,
   "id": "14dc3c9e-d918-4829-b408-8aebce0f8dd6",
   "metadata": {},
   "outputs": [],
   "source": [
    "p=[x.strip() for x in p]"
   ]
  },
  {
   "cell_type": "code",
   "execution_count": null,
   "id": "3dd66dc5-fa36-475f-9136-69a570532b6b",
   "metadata": {},
   "outputs": [],
   "source": [
    "p=[x for x in p if 'page' in x]"
   ]
  },
  {
   "cell_type": "code",
   "execution_count": null,
   "id": "5c703e1b-dcf1-42fa-8f58-e259a387b5bc",
   "metadata": {},
   "outputs": [],
   "source": [
    "import sys"
   ]
  },
  {
   "cell_type": "code",
   "execution_count": null,
   "id": "776396d0-99a7-4d05-b53d-7b302fb200df",
   "metadata": {},
   "outputs": [],
   "source": [
    "sys.path.append('/Users/moatasimfarooque/Desktop/useful_repos/pdf.tocgen')"
   ]
  },
  {
   "cell_type": "code",
   "execution_count": null,
   "id": "cd75c25e-4452-4013-8ea7-1376144ef8bf",
   "metadata": {},
   "outputs": [],
   "source": [
    "!pdfxmeta -a 2 -p 25 -i pcs.pdf \"^Scripting versus Traditional Programming\""
   ]
  },
  {
   "cell_type": "code",
   "execution_count": null,
   "id": "2fae266f-962f-4fcd-9ae7-85d09408615a",
   "metadata": {},
   "outputs": [],
   "source": [
    "!pdfxmeta -a 3 -p 26 pcs.pdf \"^Why Scripting is Useful in Computational Science\">> recipe.toml"
   ]
  },
  {
   "cell_type": "code",
   "execution_count": null,
   "id": "ab9abbba-9378-444e-85b9-5832569064c5",
   "metadata": {},
   "outputs": [],
   "source": [
    "!pdfxmeta -a 3 -p 26 pcs.pdf \"^Classification of Programming Languages\">> recipe.toml"
   ]
  },
  {
   "cell_type": "code",
   "execution_count": null,
   "id": "c64519fa-f346-49db-983b-139774373539",
   "metadata": {},
   "outputs": [],
   "source": [
    "!pdftocgen pcs.pdf < recipe.toml > toc"
   ]
  },
  {
   "cell_type": "code",
   "execution_count": null,
   "id": "f7e6c5c9-abba-4796-9b8c-b96d2bdd10e2",
   "metadata": {},
   "outputs": [],
   "source": [
    "!pdftocio content.pdf < toc"
   ]
  },
  {
   "cell_type": "code",
   "execution_count": null,
   "id": "63e5546a-dddf-4b58-8b1f-84e69ce1dd62",
   "metadata": {},
   "outputs": [],
   "source": [
    "!pdftocio pcs.pdf < toc"
   ]
  },
  {
   "cell_type": "code",
   "execution_count": null,
   "id": "c4350d8f-9574-4197-88a9-717a27c8752e",
   "metadata": {},
   "outputs": [],
   "source": [
    "!pwd"
   ]
  },
  {
   "cell_type": "code",
   "execution_count": 4,
   "id": "ae32e05b-0e96-4db7-866b-036bf9d5c0f0",
   "metadata": {},
   "outputs": [
    {
     "name": "stdout",
     "output_type": "stream",
     "text": [
      "Requirement already satisfied: pymupdf in /opt/homebrew/Caskroom/miniforge/base/envs/mps/lib/python3.9/site-packages (1.21.1)\n"
     ]
    }
   ],
   "source": [
    "!pip3 install pymupdf"
   ]
  },
  {
   "cell_type": "code",
   "execution_count": 1,
   "id": "6bec95f9-0f4a-40e8-a3f1-e42bd63985e7",
   "metadata": {},
   "outputs": [
    {
     "ename": "ModuleNotFoundError",
     "evalue": "No module named 'pymudf'",
     "output_type": "error",
     "traceback": [
      "\u001b[0;31m---------------------------------------------------------------------------\u001b[0m",
      "\u001b[0;31mModuleNotFoundError\u001b[0m                       Traceback (most recent call last)",
      "Cell \u001b[0;32mIn[1], line 1\u001b[0m\n\u001b[0;32m----> 1\u001b[0m \u001b[38;5;28;01mimport\u001b[39;00m \u001b[38;5;21;01mpymudf\u001b[39;00m\n",
      "\u001b[0;31mModuleNotFoundError\u001b[0m: No module named 'pymudf'"
     ]
    }
   ],
   "source": [
    "import pymudf"
   ]
  },
  {
   "cell_type": "code",
   "execution_count": 2,
   "id": "03bd73a1-93e5-43c0-9422-ef68dcc19635",
   "metadata": {},
   "outputs": [
    {
     "name": "stdout",
     "output_type": "stream",
     "text": [
      "Retrieving notices: ...working... done\n",
      "Collecting package metadata (current_repodata.json): done\n",
      "Solving environment: failed with initial frozen solve. Retrying with flexible solve.\n",
      "Collecting package metadata (repodata.json): done\n",
      "Solving environment: failed with initial frozen solve. Retrying with flexible solve.\n",
      "\n",
      "PackagesNotFoundError: The following packages are not available from current channels:\n",
      "\n",
      "  - pymupdf\n",
      "\n",
      "Current channels:\n",
      "\n",
      "  - https://conda.anaconda.org/anaconda/osx-arm64\n",
      "  - https://conda.anaconda.org/anaconda/noarch\n",
      "  - https://conda.anaconda.org/conda-forge/osx-arm64\n",
      "  - https://conda.anaconda.org/conda-forge/noarch\n",
      "\n",
      "To search for alternate channels that may provide the conda package you're\n",
      "looking for, navigate to\n",
      "\n",
      "    https://anaconda.org\n",
      "\n",
      "and use the search bar at the top of the page.\n",
      "\n",
      "\n"
     ]
    }
   ],
   "source": [
    "!conda install -c anaconda pymupdf --yes"
   ]
  },
  {
   "cell_type": "code",
   "execution_count": 1,
   "id": "396fde76-f9db-4e2e-96f0-ae83be35d7e5",
   "metadata": {},
   "outputs": [],
   "source": [
    "import numpy as np"
   ]
  },
  {
   "cell_type": "code",
   "execution_count": 3,
   "id": "12e1c9bf-c2c6-46e5-a3b1-ea4db1895241",
   "metadata": {},
   "outputs": [],
   "source": [
    "a=np.zeros((8,5))"
   ]
  },
  {
   "cell_type": "code",
   "execution_count": 4,
   "id": "2c9d36bf-7072-4de2-bbd4-5722bd48e0af",
   "metadata": {},
   "outputs": [],
   "source": [
    "count=0\n",
    "for i in range(8):\n",
    "    for j in range(5):\n",
    "        a[i,j]=count\n",
    "        count=count+1"
   ]
  },
  {
   "cell_type": "code",
   "execution_count": 5,
   "id": "0c71569c-210e-4b35-8a7d-b088b945b4fb",
   "metadata": {},
   "outputs": [
    {
     "data": {
      "text/plain": [
       "array([[ 0.,  1.,  2.,  3.,  4.],\n",
       "       [ 5.,  6.,  7.,  8.,  9.],\n",
       "       [10., 11., 12., 13., 14.],\n",
       "       [15., 16., 17., 18., 19.],\n",
       "       [20., 21., 22., 23., 24.],\n",
       "       [25., 26., 27., 28., 29.],\n",
       "       [30., 31., 32., 33., 34.],\n",
       "       [35., 36., 37., 38., 39.]])"
      ]
     },
     "execution_count": 5,
     "metadata": {},
     "output_type": "execute_result"
    }
   ],
   "source": [
    "a"
   ]
  },
  {
   "cell_type": "code",
   "execution_count": 8,
   "id": "fa0ccd74-f6a5-43da-b5bc-143759bc63e6",
   "metadata": {},
   "outputs": [
    {
     "data": {
      "text/plain": [
       "array([1., 2., 3.])"
      ]
     },
     "execution_count": 8,
     "metadata": {},
     "output_type": "execute_result"
    }
   ],
   "source": [
    "a[0,1:-1]"
   ]
  },
  {
   "cell_type": "code",
   "execution_count": 9,
   "id": "6e545e74-a79c-4f63-9f54-5e7f84799ffe",
   "metadata": {},
   "outputs": [
    {
     "data": {
      "text/plain": [
       "4.0"
      ]
     },
     "execution_count": 9,
     "metadata": {},
     "output_type": "execute_result"
    }
   ],
   "source": [
    "a[0,-1]"
   ]
  },
  {
   "cell_type": "code",
   "execution_count": null,
   "id": "4183b2b3-e053-4b13-b309-7bec8a266763",
   "metadata": {},
   "outputs": [],
   "source": []
  }
 ],
 "metadata": {
  "kernelspec": {
   "display_name": "Python 3 (ipykernel)",
   "language": "python",
   "name": "python3"
  },
  "language_info": {
   "codemirror_mode": {
    "name": "ipython",
    "version": 3
   },
   "file_extension": ".py",
   "mimetype": "text/x-python",
   "name": "python",
   "nbconvert_exporter": "python",
   "pygments_lexer": "ipython3",
   "version": "3.9.7"
  }
 },
 "nbformat": 4,
 "nbformat_minor": 5
}
