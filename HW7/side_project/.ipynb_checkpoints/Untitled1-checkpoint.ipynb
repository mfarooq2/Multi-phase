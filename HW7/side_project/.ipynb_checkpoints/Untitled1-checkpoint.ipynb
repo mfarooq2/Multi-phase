{
 "cells": [
  {
   "cell_type": "code",
   "execution_count": 1,
   "id": "8b98c27f-74fd-4095-b0f3-c37f61bb61c8",
   "metadata": {},
   "outputs": [],
   "source": [
    "p=!pdfxmeta pcs.pdf \"^^\""
   ]
  },
  {
   "cell_type": "code",
   "execution_count": null,
   "id": "14dc3c9e-d918-4829-b408-8aebce0f8dd6",
   "metadata": {},
   "outputs": [],
   "source": [
    "p=[x.strip() for x in p]"
   ]
  },
  {
   "cell_type": "code",
   "execution_count": null,
   "id": "3dd66dc5-fa36-475f-9136-69a570532b6b",
   "metadata": {},
   "outputs": [],
   "source": [
    "p=[x for x in p if 'page' in x]"
   ]
  },
  {
   "cell_type": "code",
   "execution_count": null,
   "id": "5c703e1b-dcf1-42fa-8f58-e259a387b5bc",
   "metadata": {},
   "outputs": [],
   "source": [
    "p"
   ]
  },
  {
   "cell_type": "code",
   "execution_count": null,
   "id": "776396d0-99a7-4d05-b53d-7b302fb200df",
   "metadata": {},
   "outputs": [],
   "source": [
    "sys.path.append('/Users/moatasimfarooque/Desktop/useful_repos/pdf.tocgen')"
   ]
  },
  {
   "cell_type": "code",
   "execution_count": null,
   "id": "cd75c25e-4452-4013-8ea7-1376144ef8bf",
   "metadata": {},
   "outputs": [],
   "source": [
    "!pdfxmeta -a 2 -p 25 -i pcs.pdf \"^Scripting versus Traditional Programming\""
   ]
  },
  {
   "cell_type": "code",
   "execution_count": null,
   "id": "2fae266f-962f-4fcd-9ae7-85d09408615a",
   "metadata": {},
   "outputs": [],
   "source": [
    "!pdfxmeta -a 3 -p 26 pcs.pdf \"^Why Scripting is Useful in Computational Science\">> recipe.toml"
   ]
  },
  {
   "cell_type": "code",
   "execution_count": null,
   "id": "ab9abbba-9378-444e-85b9-5832569064c5",
   "metadata": {},
   "outputs": [],
   "source": [
    "!pdfxmeta -a 3 -p 26 pcs.pdf \"^Classification of Programming Languages\">> recipe.toml"
   ]
  },
  {
   "cell_type": "code",
   "execution_count": null,
   "id": "c64519fa-f346-49db-983b-139774373539",
   "metadata": {},
   "outputs": [],
   "source": [
    "!pdftocgen pcs.pdf < recipe.toml > toc"
   ]
  },
  {
   "cell_type": "code",
   "execution_count": null,
   "id": "f7e6c5c9-abba-4796-9b8c-b96d2bdd10e2",
   "metadata": {},
   "outputs": [],
   "source": [
    "!pdftocio content.pdf < toc"
   ]
  },
  {
   "cell_type": "code",
   "execution_count": null,
   "id": "63e5546a-dddf-4b58-8b1f-84e69ce1dd62",
   "metadata": {},
   "outputs": [],
   "source": [
    "!pdftocio pcs.pdf < toc"
   ]
  },
  {
   "cell_type": "code",
   "execution_count": null,
   "id": "c4350d8f-9574-4197-88a9-717a27c8752e",
   "metadata": {},
   "outputs": [],
   "source": [
    "!pwd"
   ]
  },
  {
   "cell_type": "code",
   "execution_count": null,
   "id": "ae32e05b-0e96-4db7-866b-036bf9d5c0f0",
   "metadata": {},
   "outputs": [],
   "source": []
  }
 ],
 "metadata": {
  "kernelspec": {
   "display_name": "Python 3 (ipykernel)",
   "language": "python",
   "name": "python3"
  },
  "language_info": {
   "codemirror_mode": {
    "name": "ipython",
    "version": 3
   },
   "file_extension": ".py",
   "mimetype": "text/x-python",
   "name": "python",
   "nbconvert_exporter": "python",
   "pygments_lexer": "ipython3",
   "version": "3.9.7"
  }
 },
 "nbformat": 4,
 "nbformat_minor": 5
}
