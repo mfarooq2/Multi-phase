{
 "cells": [
  {
   "cell_type": "code",
   "execution_count": 1,
   "id": "dc9fb27a-9f53-4a8d-83e4-5a7eeadfdf85",
   "metadata": {},
   "outputs": [],
   "source": [
    "import itertools\n",
    "import numpy as np\n",
    "from util_tools.helper import *\n",
    "import matplotlib.pyplot as plt\n",
    "from util_tools.operators import *\n",
    "from util_tools.update_funcs import *\n",
    "#problem constants\n",
    "var_dict = {}\n",
    "nu_c=var_dict['nu_c']=1e-6\n",
    "mu_c=var_dict['mu_c']=1e-3\n",
    "rho_c=var_dict['rho_c']=1e+3\n",
    "st_coef=0.06\n",
    "#real timestep\n",
    "dt=0.000001\n",
    "gradP=-2.4\n",
    "from tqdm import tqdm\n",
    "n_iter=0\n",
    "global epstot\n",
    "'''\n",
    "node generation section\n",
    "'''\n",
    "#domain length\n",
    "nx2=50\n",
    "Lx1=0.04;Lx2=0.02;r_dpl=Lx2/4;M=3.0;u1_ave=0.0125;nx1=nx2*2;Nx1=nx1+1;Nx2=nx2+2\n",
    "h=Lx1/nx1\n",
    "var_dict = {'Lx1' : Lx1, 'Lx2' : Lx2, 'r_dpl': r_dpl,'h': h,'u1_ave':u1_ave,'Nx1':Nx1,'Nx2':Nx2,'M' : M,'nx1':nx1,'nx2':nx2,'dt':dt,'gradP':gradP,'st_coef':st_coef,'nu_c':nu_c,'mu_c':mu_c,'rho_c':rho_c}\n",
    "\n",
    "#Initialization\n",
    "un=np.zeros([Nx1,Nx2])\n",
    "us=np.zeros([Nx1,Nx2])\n",
    "unn=np.zeros([Nx1,Nx2])\n",
    "u_ref=np.zeros([Nx1,Nx2])\n",
    "\n",
    "vn=np.zeros([Nx1,Nx2])\n",
    "vs=np.zeros([Nx1,Nx2])\n",
    "vnn=np.zeros([Nx1,Nx2])\n",
    "\n",
    "pn=np.zeros([nx1,nx2])\n",
    "pnn=np.zeros([nx1,nx2])\n",
    "\n",
    "\n",
    "rho=np.zeros([nx1,nx2])\n",
    "mu=np.zeros([nx1,nx2])\n",
    "\n",
    "\n",
    "\n",
    "phin=np.zeros( [nx1,nx2] )\n",
    "phis=np.zeros([nx1,nx2])\n",
    "phinn=np.zeros([nx1,nx2])\n",
    "\n",
    "Tx1,Tx2=17,15\n",
    "\n",
    "#half_index_grid\n",
    "hig_x, hig_y = np.meshgrid(np.linspace(-Lx1/2, Lx1/2, num=Nx1),np.linspace(-Lx2/2, Lx2/2,Nx2),indexing='ij')\n",
    "xi=np.round(inter_polator(hig_x,var_dict),4)\n",
    "xj=np.round(inter_polator(hig_y,var_dict),4)\n",
    "\n",
    "# #full_index_grid\n",
    "#xi, xj = np.meshgrid(np.round(np.linspace(0+h/2, Lx1-h/2, num=nx1),4),np.round(np.linspace(0+h/2, Lx2-h/2,nx2),4),indexing='ij')\n",
    "\n",
    "# #lvlset init\n",
    "phin_int=lvlset_init(xi, xj,var_dict)\n",
    "phin=phin_int.copy()\n",
    "\n",
    "rho_int=rho_distr(phin,var_dict)\n",
    "rho=rho_int.copy()\n",
    "\n",
    "mu_int=mu_distr(phin,var_dict)\n",
    "mu=mu_int.copy()\n",
    "\n",
    "u=ref_vel_prof(hig_y[0])\n",
    "for _ in range(Nx1):\n",
    "    un[_,:]=u\n",
    "#un[:]\n",
    "u_inter=inter_polator(un,var_dict)"
   ]
  },
  {
   "cell_type": "code",
   "execution_count": 9,
   "id": "446ac12f-8233-4088-a84d-abbd3a5e8ff0",
   "metadata": {},
   "outputs": [
    {
     "data": {
      "text/plain": [
       "array([[-0.0198, -0.0198, -0.0198, ..., -0.0198, -0.0198, -0.0198],\n",
       "       [-0.0194, -0.0194, -0.0194, ..., -0.0194, -0.0194, -0.0194],\n",
       "       [-0.019 , -0.019 , -0.019 , ..., -0.019 , -0.019 , -0.019 ],\n",
       "       ...,\n",
       "       [ 0.019 ,  0.019 ,  0.019 , ...,  0.019 ,  0.019 ,  0.019 ],\n",
       "       [ 0.0194,  0.0194,  0.0194, ...,  0.0194,  0.0194,  0.0194],\n",
       "       [ 0.0198,  0.0198,  0.0198, ...,  0.0198,  0.0198,  0.0198]])"
      ]
     },
     "execution_count": 9,
     "metadata": {},
     "output_type": "execute_result"
    }
   ],
   "source": [
    "xi"
   ]
  },
  {
   "cell_type": "code",
   "execution_count": null,
   "id": "2e6f8c7b-9973-4a99-839a-8348aedfa281",
   "metadata": {},
   "outputs": [],
   "source": [
    "# for _ in tqdm(range(30)):\n",
    "\n",
    "#     L_phi_n,phis=phis_predictor(phin,un,vn,var_dict)\n",
    "\n",
    "#     phinn=phinn_corrector(L_phi_n,phin,phis,un,vn,var_dict)\n",
    "\n",
    "#     phin=phinn.copy()\n",
    "#     rho=rho_distr(phin,var_dict)\n",
    "#     mu=mu_distr(phin,var_dict)\n",
    "#     tr=np.where(phin==0,0.0001,phin)\n",
    "#     tr=np.where((phin<=1e5)&(phin>=-1e5),tr,False)\n",
    "#     if np.all(tr)==False:\n",
    "#         break"
   ]
  },
  {
   "cell_type": "code",
   "execution_count": 2,
   "id": "13a23877-8d79-4a21-8a06-e67db29a4526",
   "metadata": {},
   "outputs": [
    {
     "name": "stderr",
     "output_type": "stream",
     "text": [
      "100%|██████████████████████████████████| 6/6 [00:00<00:00, 11.39it/s]\n"
     ]
    }
   ],
   "source": [
    "for _ in tqdm(range(50)):\n",
    "    us=predictor(un,vn, mu, rho,var_dict)\n",
    "    us=BC_looper(us)\n",
    "    res=1000\n",
    "    while res>0.5e-3:\n",
    "        pnn=projector( us, vs, pn,rho,var_dict)\n",
    "        res1=res\n",
    "        res=LA.norm(pnn-pn)\n",
    "        pn=pnn.copy()\n",
    "    unn=corrector(us, pnn, unn, rho,var_dict)\n",
    "    unn=BC_looper(unn)\n",
    "\n",
    "    L_phi_n,phis=phis_predictor(phin,un,vn,var_dict)\n",
    "\n",
    "    phinn=phinn_corrector(L_phi_n,phin,phis,un,vn,var_dict)\n",
    "\n",
    "    \n",
    "    rho=rho_distr(phin,var_dict)\n",
    "    mu=mu_distr(phin,var_dict)\n",
    "    tr=np.where(unn==0,0.0001,unn)\n",
    "    tr=np.where((tr<=1e5)&(tr>=-1e5),tr,False)\n",
    "    if np.all(tr)==False:\n",
    "        break\n",
    "    tr=np.where(pnn==0,0.0001,pnn)\n",
    "    tr=np.where((tr<=1e5)&(tr>=-1e5),tr,False)\n",
    "    if np.all(tr)==False:\n",
    "        break\n",
    "    un=unn.copy()\n",
    "    phin=phinn.copy()\n",
    "    #var_dict['dt']=var_dict['dt']/5 \n",
    "u=inter_polator(un,var_dict)\n",
    "\n",
    "drop_elem = np.where(phin <0,np.min(phin),0)\n",
    "drop_elem_int = np.where(phin_int<0,np.min(phin_int),0)\n",
    "\n",
    "#phin[np.where(phin > 0)]"
   ]
  },
  {
   "cell_type": "code",
   "execution_count": 5,
   "id": "4ea5cb8a-7ba5-42e4-b1e0-b390a5484c17",
   "metadata": {},
   "outputs": [
    {
     "data": {
      "text/plain": [
       "array([[-0.01700454, -0.016833  , -0.01666749, ..., -0.01666749,\n",
       "        -0.016833  , -0.01700454],\n",
       "       [-0.01664532, -0.01647091, -0.01630258, ..., -0.01630258,\n",
       "        -0.01647091, -0.01664532],\n",
       "       [-0.01628756, -0.01611019, -0.01593896, ..., -0.01593896,\n",
       "        -0.01611019, -0.01628756],\n",
       "       ...,\n",
       "       [-0.01628756, -0.01611019, -0.01593896, ..., -0.01593896,\n",
       "        -0.01611019, -0.01628756],\n",
       "       [-0.01664532, -0.01647091, -0.01630258, ..., -0.01630258,\n",
       "        -0.01647091, -0.01664532],\n",
       "       [-0.01700454, -0.016833  , -0.01666749, ..., -0.01666749,\n",
       "        -0.016833  , -0.01700454]])"
      ]
     },
     "execution_count": 5,
     "metadata": {},
     "output_type": "execute_result"
    }
   ],
   "source": [
    "phin_int"
   ]
  },
  {
   "cell_type": "code",
   "execution_count": 8,
   "id": "a657d89d-de21-4073-8341-95b1ea40eaa2",
   "metadata": {},
   "outputs": [
    {
     "data": {
      "text/plain": [
       "array([[-0.01700454, -0.01683372, -0.01666853, ..., -0.01666853,\n",
       "        -0.01683372, -0.01700454],\n",
       "       [-0.01664532, -0.01647091, -0.01630258, ..., -0.01630258,\n",
       "        -0.01647091, -0.01664532],\n",
       "       [-0.01628756, -0.01611019, -0.01593896, ..., -0.01593896,\n",
       "        -0.01611019, -0.01628756],\n",
       "       ...,\n",
       "       [-0.01628756, -0.01611019, -0.01593896, ..., -0.01593896,\n",
       "        -0.01611019, -0.01628756],\n",
       "       [-0.01664532, -0.0164702 , -0.01630156, ..., -0.01630156,\n",
       "        -0.0164702 , -0.01664532],\n",
       "       [-0.01700454, -0.016833  , -0.01666749, ..., -0.01666749,\n",
       "        -0.016833  , -0.01700454]])"
      ]
     },
     "execution_count": 8,
     "metadata": {},
     "output_type": "execute_result"
    }
   ],
   "source": [
    "phinn"
   ]
  },
  {
   "cell_type": "code",
   "execution_count": null,
   "id": "b039ef7b-a8c3-43e7-a928-a57df7b9cfca",
   "metadata": {},
   "outputs": [],
   "source": [
    "fig, ax=plt.subplots(figsize=(10, 5))\n",
    "plt.contourf(xi, xj, phin_int, 20, cmap='inferno')\n",
    "ax.add_patch(plt.Circle((0, 0), radius=r_dpl, color='black', fill=False))\n",
    "plt.colorbar()\n",
    "plt.xlabel('$x1$ (m)')\n",
    "plt.ylabel('$x2$ (m)')\n",
    "#plt.title('domain $u$ contour ($m/s$)')\n",
    "plt.title(f\"Variable density Ny = {nx2}\")\n",
    "plt.gca().set_aspect('equal')\n",
    "plt.show()"
   ]
  },
  {
   "cell_type": "code",
   "execution_count": 3,
   "id": "0f55d72f-d779-4eab-816a-f046c6fe32ce",
   "metadata": {},
   "outputs": [
    {
     "data": {
      "image/png": "[encoded data removed]",
      "text/plain": [
       "<Figure size 1000x500 with 2 Axes>"
      ]
     },
     "metadata": {},
     "output_type": "display_data"
    }
   ],
   "source": [
    "fig, ax=plt.subplots(figsize=(10, 5))\n",
    "plt.contourf(xi, xj, phin, 20, cmap='inferno')\n",
    "ax.add_patch(plt.Circle((0, 0), radius=r_dpl, color='black', fill=False))\n",
    "plt.colorbar()\n",
    "plt.xlabel('$x1$ (m)')\n",
    "plt.ylabel('$x2$ (m)')\n",
    "#plt.title('domain $u$ contour ($m/s$)')\n",
    "plt.title(f\"Variable density Ny = {nx2}\")\n",
    "plt.gca().set_aspect('equal')\n",
    "plt.show()"
   ]
  },
  {
   "cell_type": "code",
   "execution_count": null,
   "id": "a8a09ace-75be-4f2e-aa93-cd2232b2e4f1",
   "metadata": {},
   "outputs": [],
   "source": [
    "ax = plt.figure(figsize=(20, 10)).add_subplot(projection='3d')\n",
    "# Plot the 3D surface\n",
    "ax.plot_surface(xi, xj, phin_int, edgecolor='black')\n",
    "#ax.contourf(xi, xj, phin, zdir='y', offset=0.004, cmap='coolwarm')\n",
    "#ax.contourf(xi, xj, phin, zdir='z', cmap='coolwarm')\n",
    "#ax.contourf(xi, xj, drop_elem, zdir='z', cmap='inferno')\n",
    "#ax.contourf(xi, xj, phin, zdir='z',offset=np.max(phin-phin_int), cmap='coolwarm')\n",
    "#ax.contourf(xi, xj, phi_diff, zdir='z', cmap='coolwarm')\n",
    "#ax.contourf(xi, xj, phi_diff, zdir='y', cmap='coolwarm')\n",
    "#ax.set(xlim=(-0.02, 0.02), ylim=(-0.01, 0.01),xlabel='X', ylabel='Y', zlabel='Z')\n",
    "\n",
    "#ax.scatter(xi, xj, zs=drop_elem_int, zdir='z', c='g', label='points in (x, y)')\n",
    "#ax.scatter(xi, xj, zs=drop_elem, zdir='z', c='r', label='points in (x, z)')\n",
    "ax.set(xlim=(-0.02, 0.02), ylim=(-0.01, 0.01),xlabel='X', ylabel='Y', zlabel='Phi')\n",
    "ax.view_init(azim=90, roll=0)\n",
    "ax.set_title('3d Surface Plot Initial Level Set')\n",
    "plt.show()"
   ]
  },
  {
   "cell_type": "code",
   "execution_count": null,
   "id": "9890b53b-4d8d-4111-984c-270ee86d701b",
   "metadata": {},
   "outputs": [],
   "source": [
    "res=100\n",
    "us=predictor(un,vn, mu, rho,var_dict)\n",
    "us=BC_looper(us)\n",
    "while res>0.5e-3:\n",
    "    pnn=projector( us, vs, pn,rho,var_dict)\n",
    "    res1=res\n",
    "    res=LA.norm(pnn-pn)\n",
    "    pn=pnn.copy()\n",
    "unn=corrector(us, pnn, unn, rho,var_dict)"
   ]
  },
  {
   "cell_type": "code",
   "execution_count": null,
   "id": "adde033e-f6c6-4c6d-90d8-177326dd539b",
   "metadata": {},
   "outputs": [],
   "source": [
    "fig, ax=plt.subplots()\n",
    "plt.contourf(xi, xj, pnn, 2,cmap='coolwarm')\n",
    "ax.add_patch(plt.Circle((0, 0), radius=r_dpl, color='yellow', fill=False))\n",
    "\n",
    "plt.colorbar()\n",
    "plt.xlabel('$x_1$ (m)')\n",
    "plt.ylabel('$x_2$ (m)')\n",
    "plt.title('domain initial level-set, ', fontsize=9) \n",
    "plt.gca().set_aspect('equal') "
   ]
  },
  {
   "cell_type": "code",
   "execution_count": null,
   "id": "2184a1e9-3a13-4e03-ba46-48ad368eb61e",
   "metadata": {},
   "outputs": [],
   "source": [
    "fig, ax=plt.subplots()\n",
    "plt.contourf(xi, xj, phin_int, 2,cmap='coolwarm')\n",
    "ax.add_patch(plt.Circle((0, 0), radius=r_dpl, color='yellow', fill=False))\n",
    "\n",
    "plt.colorbar()\n",
    "plt.xlabel('$x_1$ (m)')\n",
    "plt.ylabel('$x_2$ (m)')\n",
    "plt.title('domain initial level-set, ', fontsize=9) \n",
    "plt.gca().set_aspect('equal') "
   ]
  },
  {
   "cell_type": "code",
   "execution_count": null,
   "id": "9ee6aa49-1ed5-4dce-ba21-e00a4a0c4314",
   "metadata": {},
   "outputs": [],
   "source": [
    "for _ in tqdm(range(6)):\n",
    "    us=predictor(un,vn, mu, rho,var_dict)\n",
    "    us=BC_looper(us)\n",
    "    res=1000\n",
    "    while res>0.5e-3:\n",
    "        pnn=projector( us, vs, pn,rho,var_dict)\n",
    "        res1=res\n",
    "        res=LA.norm(pnn-pn)\n",
    "        pn=pnn.copy()\n",
    "    unn=corrector(us, pnn, unn, rho,var_dict)\n",
    "    unn=BC_looper(unn)\n",
    "\n",
    "    L_phi_n,phis=phis_predictor(phin,un,vn,var_dict)\n",
    "\n",
    "    phinn=phinn_corrector(L_phi_n,phin,phis,un,vn,var_dict)\n",
    "\n",
    "    \n",
    "    rho=rho_distr(phin,var_dict)\n",
    "    mu=mu_distr(phin,var_dict)\n",
    "    tr=np.where(unn==0,0.0001,unn)\n",
    "    tr=np.where((tr<=1e5)&(tr>=-1e5),tr,False)\n",
    "    if np.all(tr)==False:\n",
    "        break\n",
    "    tr=np.where(pnn==0,0.0001,pnn)\n",
    "    tr=np.where((tr<=1e5)&(tr>=-1e5),tr,False)\n",
    "    if np.all(tr)==False:\n",
    "        break\n",
    "    un=unn.copy()\n",
    "    phin=phinn.copy()\n",
    "    #var_dict['dt']=var_dict['dt']/5 \n",
    "u=inter_polator(un,var_dict)\n",
    "\n",
    "drop_elem = np.where(phin <0,np.min(phin),0)\n",
    "drop_elem_int = np.where(phin_int<0,np.min(phin_int),0)\n",
    "\n",
    "#phin[np.where(phin > 0)]"
   ]
  },
  {
   "cell_type": "code",
   "execution_count": null,
   "id": "5a5aa61c-2172-49cd-a1ba-26bdbf03a3fb",
   "metadata": {},
   "outputs": [],
   "source": [
    "phis"
   ]
  },
  {
   "cell_type": "code",
   "execution_count": null,
   "id": "026d06d7-a1c6-49df-8f41-7f5ced5f965f",
   "metadata": {},
   "outputs": [],
   "source": [
    "np.min(phin)"
   ]
  },
  {
   "cell_type": "code",
   "execution_count": null,
   "id": "215d7a79-e3a7-4aa5-ae2b-29b13f7d3d99",
   "metadata": {},
   "outputs": [],
   "source": [
    "drop_elem"
   ]
  },
  {
   "cell_type": "code",
   "execution_count": null,
   "id": "aefd63dc-8257-43f9-9880-dfc6ca264612",
   "metadata": {},
   "outputs": [],
   "source": [
    "plt.imshow(rho.T)\n",
    "plt.colorbar()"
   ]
  },
  {
   "cell_type": "code",
   "execution_count": null,
   "id": "ecf651f3-31c7-4d1a-b516-aabc0f48dece",
   "metadata": {},
   "outputs": [],
   "source": [
    "np.allclose(rho,rho_int)"
   ]
  },
  {
   "cell_type": "code",
   "execution_count": null,
   "id": "65a0dfb8-8684-4d03-bcfc-5e63ac320b54",
   "metadata": {},
   "outputs": [],
   "source": [
    "fig, ax=plt.subplots()\n",
    "plt.contourf(xi, xj, u, 20,cmap='coolwarm')\n",
    "ax.add_patch(plt.Circle((0, 0), radius=r_dpl, color='yellow', fill=False))\n",
    "\n",
    "plt.colorbar()\n",
    "plt.xlabel('$x_1$ (m)')\n",
    "plt.ylabel('$x_2$ (m)')\n",
    "plt.title('domain initial level-set, ', fontsize=9) \n",
    "plt.gca().set_aspect('equal') "
   ]
  },
  {
   "cell_type": "code",
   "execution_count": null,
   "id": "23d28ea0-1063-4193-8931-34f9e0c4b9bc",
   "metadata": {},
   "outputs": [],
   "source": [
    "fig, ax=plt.subplots()\n",
    "plt.contourf(xi, xj, u_inter, 20,cmap='coolwarm')\n",
    "ax.add_patch(plt.Circle((0, 0), radius=r_dpl, color='yellow', fill=False))\n",
    "\n",
    "plt.colorbar()\n",
    "plt.xlabel('$x_1$ (m)')\n",
    "plt.ylabel('$x_2$ (m)')\n",
    "plt.title('domain initial level-set, ', fontsize=9) \n",
    "plt.gca().set_aspect('equal') "
   ]
  },
  {
   "cell_type": "code",
   "execution_count": null,
   "id": "aa2d5a62-dde2-4ffe-b23a-2388b5b71eb5",
   "metadata": {},
   "outputs": [],
   "source": [
    "fig, ax=plt.subplots()\n",
    "plt.contourf(xi, xj, rho_int, 2,cmap='coolwarm')\n",
    "ax.add_patch(plt.Circle((0, 0), radius=r_dpl, color='yellow', fill=False))\n",
    "\n",
    "plt.colorbar()\n",
    "plt.xlabel('$x_1$ (m)')\n",
    "plt.ylabel('$x_2$ (m)')\n",
    "plt.title('domain initial level-set, ', fontsize=9) \n",
    "plt.gca().set_aspect('equal') "
   ]
  },
  {
   "cell_type": "code",
   "execution_count": null,
   "id": "34d59ef1-a66a-417c-97da-516e97706687",
   "metadata": {},
   "outputs": [],
   "source": [
    "fig, ax=plt.subplots()\n",
    "plt.contourf(xi, xj, drop_elem_int, 3,cmap='coolwarm')\n",
    "ax.add_patch(plt.Circle((0, 0), radius=r_dpl, color='yellow', fill=False))\n",
    "\n",
    "plt.colorbar()\n",
    "plt.xlabel('$x_1$ (m)')\n",
    "plt.ylabel('$x_2$ (m)')\n",
    "plt.title('domain initial level-set, ', fontsize=9) \n",
    "plt.gca().set_aspect('equal') "
   ]
  },
  {
   "cell_type": "code",
   "execution_count": null,
   "id": "16835fa9-a3fd-4ff0-a1a6-ae3ad80b7253",
   "metadata": {},
   "outputs": [],
   "source": [
    "fig, ax=plt.subplots()\n",
    "plt.contourf(xi, xj, phin, 20, cmap='inferno')\n",
    "ax.add_patch(plt.Circle((0, 0), radius=r_dpl, color='black', fill=False))\n",
    "plt.colorbar()\n",
    "plt.xlabel('$x_1$ (m)')\n",
    "plt.ylabel('$x_2$ (m)')\n",
    "plt.title('domain $u$ contour ($m/s$)')\n",
    "plt.gca().set_aspect('equal')\n",
    "plt.show()"
   ]
  },
  {
   "cell_type": "code",
   "execution_count": null,
   "id": "429ece9a-1904-47ce-9270-c2ea0e90e6a5",
   "metadata": {},
   "outputs": [],
   "source": [
    "fig, ax=plt.subplots()\n",
    "plt.contourf(xi, xj, phin_int, 20, cmap='inferno')\n",
    "ax.add_patch(plt.Circle((0, 0), radius=r_dpl, color='black', fill=False))\n",
    "plt.colorbar()\n",
    "plt.xlabel('$x_1$ (m)')\n",
    "plt.ylabel('$x_2$ (m)')\n",
    "plt.title('domain $u$ contour ($m/s$)')\n",
    "plt.gca().set_aspect('equal')\n",
    "plt.show()"
   ]
  },
  {
   "cell_type": "code",
   "execution_count": null,
   "id": "d7e866e3-5cdd-42a4-9db9-f9b1fd101b2e",
   "metadata": {},
   "outputs": [],
   "source": [
    "plt.contourf(xi, xj, pn, 5, cmap='inferno')\n",
    "plt.colorbar()\n",
    "plt.xlabel('$x_1$ (m)')\n",
    "plt.ylabel('$x_2$ (m)')\n",
    "plt.title('domain $u$ contour ($m/s$)')\n",
    "plt.gca().set_aspect('equal')\n",
    "plt.show()"
   ]
  },
  {
   "cell_type": "code",
   "execution_count": null,
   "id": "199d9c8a-bba8-490b-b675-e12c9e06f20b",
   "metadata": {},
   "outputs": [],
   "source": [
    "drop_elem_int"
   ]
  },
  {
   "cell_type": "code",
   "execution_count": null,
   "id": "b0b38fab-91ae-457f-ac5f-cfab971c1d4c",
   "metadata": {},
   "outputs": [],
   "source": [
    "pos_dist=np.where(phin>0,phin,0)"
   ]
  },
  {
   "cell_type": "code",
   "execution_count": null,
   "id": "4838e935-255a-4db4-9637-a65b13b872c9",
   "metadata": {},
   "outputs": [],
   "source": [
    "pos_dist"
   ]
  },
  {
   "cell_type": "code",
   "execution_count": null,
   "id": "b18af713-2012-42d3-9493-6281930bb6b4",
   "metadata": {},
   "outputs": [],
   "source": [
    "cols=pd.DataFrame(phin.T).columns\n",
    "new_cols=[]"
   ]
  },
  {
   "cell_type": "code",
   "execution_count": null,
   "id": "e76ea270-a3d7-41a0-87f8-69b4393cd2f5",
   "metadata": {},
   "outputs": [],
   "source": [
    "phin_df=pd.DataFrame(phin.T)"
   ]
  },
  {
   "cell_type": "code",
   "execution_count": null,
   "id": "53466699-b8af-4cbb-9984-edfdec9f831d",
   "metadata": {},
   "outputs": [],
   "source": [
    "type(cols[1])"
   ]
  },
  {
   "cell_type": "code",
   "execution_count": null,
   "id": "4f0298ce-00b2-4d83-a286-c001d4f550e9",
   "metadata": {},
   "outputs": [],
   "source": [
    "for _ in range(len(cols)):\n",
    "    new_cols.append('col'+ str(cols[_]))"
   ]
  },
  {
   "cell_type": "code",
   "execution_count": null,
   "id": "4930c59a-c0c5-4b07-9875-a7b4ec24c7d9",
   "metadata": {},
   "outputs": [],
   "source": [
    "dist=np.where(phin>0,np.max(phin),0)\n",
    "dist_int=np.where(phin_int>0,np.max(phin_int),0)"
   ]
  },
  {
   "cell_type": "code",
   "execution_count": null,
   "id": "eb772819-60c9-4cdf-bb08-c8e5cd9d8b9a",
   "metadata": {},
   "outputs": [],
   "source": []
  },
  {
   "cell_type": "code",
   "execution_count": null,
   "id": "cadb773d-d6bc-421d-b609-6a7254522a8a",
   "metadata": {},
   "outputs": [],
   "source": [
    "i_list=[]\n",
    "j_list=[]\n",
    "for k1 in range(nx1):\n",
    "    for k2 in range(nx2):\n",
    "        if phin[k1,k2]>0:\n",
    "            i_list.append(k1)\n",
    "            j_list.append(k2)"
   ]
  },
  {
   "cell_type": "code",
   "execution_count": null,
   "id": "3315b884-039c-45f3-a2db-003ab375afff",
   "metadata": {},
   "outputs": [],
   "source": [
    "px=list(set(i_list))\n",
    "py=list(set(j_list))"
   ]
  },
  {
   "cell_type": "code",
   "execution_count": null,
   "id": "3b972beb-d533-439d-b5e6-1456c6335bfc",
   "metadata": {},
   "outputs": [],
   "source": [
    "xi[px].shape"
   ]
  },
  {
   "cell_type": "code",
   "execution_count": null,
   "id": "ffa3d90d-7f75-40aa-846a-b43e7040447d",
   "metadata": {},
   "outputs": [],
   "source": [
    "xj[py][0]"
   ]
  },
  {
   "cell_type": "code",
   "execution_count": null,
   "id": "480b17e6-ec8f-4fad-b1f2-148ce99fc76b",
   "metadata": {},
   "outputs": [],
   "source": [
    "x1=xi[np.nonzero(dist)]\n",
    "x2=xj[:,np.nonzero(dist)[1]]"
   ]
  },
  {
   "cell_type": "code",
   "execution_count": null,
   "id": "95a5d66c-ccd7-4934-a2ae-1cc3e4fdfe41",
   "metadata": {},
   "outputs": [],
   "source": [
    "len(i_list)"
   ]
  },
  {
   "cell_type": "code",
   "execution_count": null,
   "id": "5ef7fc9e-4ee0-4f1d-aeca-69fdc192f5de",
   "metadata": {},
   "outputs": [],
   "source": [
    "xi"
   ]
  },
  {
   "cell_type": "code",
   "execution_count": null,
   "id": "30ec0c9a-09e2-4d04-9968-949584e7b3e8",
   "metadata": {},
   "outputs": [],
   "source": [
    "xj"
   ]
  },
  {
   "cell_type": "code",
   "execution_count": null,
   "id": "04a73603-6531-42cf-8d12-12326a52957a",
   "metadata": {},
   "outputs": [],
   "source": [
    "Z1=dist[np.nonzero(dist)]"
   ]
  },
  {
   "cell_type": "code",
   "execution_count": null,
   "id": "9e5d2466-44bc-482f-98c6-26b542a12eae",
   "metadata": {},
   "outputs": [],
   "source": [
    "Z2=dist_int[np.nonzero(dist_int)]"
   ]
  },
  {
   "cell_type": "code",
   "execution_count": null,
   "id": "654ca401-a892-4794-bd60-886d3290fa9a",
   "metadata": {},
   "outputs": [],
   "source": [
    "x1i[0].shape"
   ]
  },
  {
   "cell_type": "code",
   "execution_count": null,
   "id": "e238fc8f-7811-446c-b507-e7f43e05d22b",
   "metadata": {},
   "outputs": [],
   "source": [
    "x1j[0].shape"
   ]
  },
  {
   "cell_type": "code",
   "execution_count": null,
   "id": "87caab91-ade8-4587-87d9-22f4c4d4d192",
   "metadata": {},
   "outputs": [],
   "source": [
    "from mpl_toolkits.mplot3d import axes3d\n",
    "import matplotlib.pyplot as plt"
   ]
  },
  {
   "cell_type": "code",
   "execution_count": null,
   "id": "45cd8d62-23e7-422b-bc06-93d49f535d35",
   "metadata": {},
   "outputs": [],
   "source": [
    "ax = plt.figure().add_subplot(projection='3d')\n",
    "# Plot the 3D surface\n",
    "#ax.plot_surface(xi, xj, drop_elem, edgecolor='royalblue')\n",
    "#ax.contourf(xi, xj, phin, zdir='y', offset=0.004, cmap='coolwarm')\n",
    "#ax.contourf(xi, xj, phin, zdir='z', cmap='coolwarm')\n",
    "#ax.contourf(xi, xj, drop_elem, zdir='z', cmap='inferno')\n",
    "#ax.contourf(xi, xj, phin, zdir='z',offset=np.max(phin-phin_int), cmap='coolwarm')\n",
    "#ax.contourf(xi, xj, phi_diff, zdir='z', cmap='coolwarm')\n",
    "#ax.contourf(xi, xj, phi_diff, zdir='y', cmap='coolwarm')\n",
    "#ax.set(xlim=(-0.02, 0.02), ylim=(-0.01, 0.01),xlabel='X', ylabel='Y', zlabel='Z')\n",
    "\n",
    "ax.scatter(xi, xj, zs=drop_elem_int, zdir='z', c='g', label='points in (x, y)')\n",
    "ax.scatter(xi, xj, zs=drop_elem, zdir='z', c='r', label='points in (x, z)')\n",
    "ax.set(xlim=(-0.02, 0.02), ylim=(-0.01, 0.01),xlabel='X', ylabel='Y', zlabel='Z')\n",
    "plt.show()"
   ]
  },
  {
   "cell_type": "code",
   "execution_count": null,
   "id": "874b7da5-d51e-471e-83a3-f0fb6d3f8a77",
   "metadata": {},
   "outputs": [],
   "source": []
  },
  {
   "cell_type": "code",
   "execution_count": null,
   "id": "bdb6d43e-b103-4069-95e5-b7666235299e",
   "metadata": {},
   "outputs": [],
   "source": [
    "np.min(phin-phin_int)"
   ]
  },
  {
   "cell_type": "code",
   "execution_count": null,
   "id": "b94adf7d-2a1f-46f0-9dec-a7e81a5d6868",
   "metadata": {},
   "outputs": [],
   "source": [
    "ax = plt.figure().add_subplot(projection='3d')\n",
    "# Plot the 3D surface\n",
    "#ax.plot_surface(xi, xj, phin_int, edgecolor='royalblue', lw=0.1, alpha=0.3)\n",
    "#ax.contourf(xi, xj, phin, zdir='y', offset=0.004, cmap='coolwarm')\n",
    "#ax.contourf(xi, xj, phin, zdir='z', cmap='coolwarm')\n",
    "ax.contourf(xi, xj, phin_int, zdir='z', cmap='coolwarm')\n",
    "#ax.contourf(xi, xj, phin, zdir='x',offset=0.01, cmap='coolwarm')\n",
    "ax.set(xlim=(-0.02, 0.02), ylim=(-0.01, 0.01),xlabel='X', ylabel='Y', zlabel='Z')\n",
    "plt.show()"
   ]
  },
  {
   "cell_type": "code",
   "execution_count": null,
   "id": "2bddb663-790e-4bdd-97cb-baf664ee3be7",
   "metadata": {},
   "outputs": [],
   "source": [
    "ax = plt.figure().add_subplot(projection='3d')\n",
    "# Plot the 3D surface\n",
    "ax.plot_surface(xi, xj, phin_int, edgecolor='royalblue', lw=0.1, alpha=0.3)\n",
    "#ax.contourf(xi, xj, phin, zdir='y', offset=0.004, cmap='coolwarm')\n",
    "ax.contourf(xi, xj, phin_int, zdir='z', offset=0, cmap='coolwarm')\n",
    "#ax.contogurf(xi, xj, phin_int, zdir='x',offset=0.01, cmap='coolwarm')\n",
    "#ax.colorbar()\n"
   ]
  },
  {
   "cell_type": "code",
   "execution_count": null,
   "id": "52031e14-d795-41c7-baec-45d5ff2dd1c7",
   "metadata": {},
   "outputs": [],
   "source": [
    "phin[0]"
   ]
  },
  {
   "cell_type": "code",
   "execution_count": null,
   "id": "fd6f89ed-0ece-4324-b16b-e5121ab19857",
   "metadata": {},
   "outputs": [],
   "source": []
  },
  {
   "cell_type": "code",
   "execution_count": null,
   "id": "1f3b0387-bc66-4d17-9558-95ee8cbdb2ca",
   "metadata": {},
   "outputs": [],
   "source": [
    "phin_int[0]"
   ]
  },
  {
   "cell_type": "code",
   "execution_count": null,
   "id": "7b9a1729-74d6-4752-8057-1e1b92d1262b",
   "metadata": {},
   "outputs": [],
   "source": [
    "phin_int[1,:]"
   ]
  },
  {
   "cell_type": "code",
   "execution_count": null,
   "id": "a6ff3569-17e3-4a71-a3f8-4613a96d5cac",
   "metadata": {},
   "outputs": [],
   "source": [
    "phin_int[:,0]"
   ]
  },
  {
   "cell_type": "code",
   "execution_count": null,
   "id": "cca98009-0ec2-4d5e-894e-901d4e86a266",
   "metadata": {},
   "outputs": [],
   "source": [
    "phin_int[:,:]"
   ]
  },
  {
   "cell_type": "code",
   "execution_count": null,
   "id": "31ac04e2-c7ad-418f-873b-d269834fe3ca",
   "metadata": {},
   "outputs": [],
   "source": [
    "phin_int[:,4].shape"
   ]
  },
  {
   "cell_type": "code",
   "execution_count": null,
   "id": "f3ad3e60-ec15-40f3-a804-3edcc9bc038e",
   "metadata": {},
   "outputs": [],
   "source": [
    "xy = np.random.normal(size=2)"
   ]
  },
  {
   "cell_type": "code",
   "execution_count": null,
   "id": "fc2bcf14-fa40-4948-b28c-04120ade6b32",
   "metadata": {},
   "outputs": [],
   "source": [
    "xy"
   ]
  },
  {
   "cell_type": "code",
   "execution_count": null,
   "id": "bbfd4290-879c-474d-a1fa-d6bbaa72a357",
   "metadata": {},
   "outputs": [],
   "source": []
  }
 ],
 "metadata": {
  "kernelspec": {
   "display_name": "Python 3 (ipykernel)",
   "language": "python",
   "name": "python3"
  },
  "language_info": {
   "codemirror_mode": {
    "name": "ipython",
    "version": 3
   },
   "file_extension": ".py",
   "mimetype": "text/x-python",
   "name": "python",
   "nbconvert_exporter": "python",
   "pygments_lexer": "ipython3",
   "version": "3.9.7"
  }
 },
 "nbformat": 4,
 "nbformat_minor": 5
}
