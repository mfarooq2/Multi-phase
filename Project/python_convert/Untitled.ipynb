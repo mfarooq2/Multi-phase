{
 "cells": [
  {
   "cell_type": "code",
   "execution_count": 6,
   "id": "3414165a-8558-419a-9464-5354cdd00685",
   "metadata": {},
   "outputs": [],
   "source": [
    "import numpy as np\n",
    "import matplotlib.pyplot as plt\n",
    "from curvature_func import curvature\n",
    "from normcd_func import normcd\n",
    "from laplacian_func import laplacian\n",
    "from evolve_vector_ENO3_func import evolve_vector_ENO3\n",
    "from upwind_ENO3_func import upwind_ENO3\n",
    "from drop_mover import evolve_vector\n",
    "Nx=11\n",
    "Ny=Nx\n",
    "h=1/(Nx-1)\n",
    "W=2*h\n",
    "dt=0.001; tf=0.5;\n",
    "bp=0.5\n",
    "b=W*bp\n",
    "W2_inv=1/(W**2)\n",
    "xm=np.arange(0,1+h,h)\n",
    "ym=np.arange(0,1+h,h)\n",
    "x=np.arange(-0.1,1.1+h,h)\n",
    "y=(1+np.cos(2*np.pi*(1-x)))/4\n",
    "[X,Y]=np.meshgrid(xm,ym)\n",
    "xc=.25; yc=.25; r=.15\n",
    "phi = r - np.sqrt((X - xc )**2 + ( Y - yc )**2 )\n",
    "\n",
    "#plt.contourf(X,Y,phi)\n",
    "u_ext=1; v_ext=1; \n",
    "phi=np.where(phi>0.03,1,np.where(phi<-0.03,-1,0))"
   ]
  },
  {
   "cell_type": "code",
   "execution_count": 7,
   "id": "0979b406-c5f6-4013-8f95-785aac1a8d0a",
   "metadata": {},
   "outputs": [],
   "source": [
    "kappa= curvature(phi, h)\n",
    "normphi = normcd(phi,h)\n",
    "d2phi = laplacian(phi, h)\n",
    "delta = evolve_vector_ENO3(phi, h, h, u_ext, v_ext)\n",
    "mid_express=d2phi[1:-1, 1:-1] + W2_inv * phi[1:-1, 1:-1] * (1 - phi[1:-1, 1:-1] ** 2) - normphi[1:-1, 1:-1] * kappa[1:-1, 1:-1]\n",
    "phi[1:-1, 1:-1] = phi[1:-1, 1:-1] + dt * (b * (mid_express) - delta[1:-1, 1:-1])"
   ]
  },
  {
   "cell_type": "code",
   "execution_count": 9,
   "id": "2cd8bff5-f93c-4a60-92b5-8bcd859967e0",
   "metadata": {},
   "outputs": [
    {
     "data": {
      "text/plain": [
       "array([[-1, -1, -1, -1, -1, -1, -1, -1, -1, -1, -1],\n",
       "       [-1,  0,  0,  0,  0,  0, -1, -1, -1, -1, -1],\n",
       "       [-1,  0,  1,  0,  0,  0,  0, -1, -1, -1, -1],\n",
       "       [-1,  0,  1,  0,  0, -1,  0, -1, -1, -1, -1],\n",
       "       [-1,  0,  0,  0, -1, -1,  0, -1, -1, -1, -1],\n",
       "       [-1,  0,  0, -1, -1,  0,  0, -1, -1, -1, -1],\n",
       "       [-1, -1,  0,  0,  0,  0, -1, -1, -1, -1, -1],\n",
       "       [-1, -1, -1, -1, -1, -1, -1, -1, -1, -1, -1],\n",
       "       [-1, -1, -1, -1, -1, -1, -1, -1, -1, -1, -1],\n",
       "       [-1, -1, -1, -1, -1, -1, -1, -1, -1, -1, -1],\n",
       "       [-1, -1, -1, -1, -1, -1, -1, -1, -1, -1, -1]])"
      ]
     },
     "execution_count": 9,
     "metadata": {},
     "output_type": "execute_result"
    }
   ],
   "source": [
    "phi"
   ]
  },
  {
   "cell_type": "code",
   "execution_count": 8,
   "id": "163b5c20-a24d-405d-b334-d9397d2d88e5",
   "metadata": {},
   "outputs": [
    {
     "data": {
      "text/plain": [
       "<matplotlib.contour.QuadContourSet at 0x10c88c460>"
      ]
     },
     "execution_count": 8,
     "metadata": {},
     "output_type": "execute_result"
    },
    {
     "data": {
      "image/png": "[encoded data removed]",
      "text/plain": [
       "<Figure size 640x480 with 1 Axes>"
      ]
     },
     "metadata": {},
     "output_type": "display_data"
    }
   ],
   "source": [
    "plt.contourf(X,Y,phi)"
   ]
  },
  {
   "cell_type": "code",
   "execution_count": null,
   "id": "57349302-ef55-4c26-961f-fda92c190ede",
   "metadata": {},
   "outputs": [],
   "source": [
    "plt.contourf(X,Y,phi,[0,0.5])\n",
    "plt.colorbar()"
   ]
  },
  {
   "cell_type": "code",
   "execution_count": null,
   "id": "8d28e1fd-40b1-4d71-b811-bed199c9432a",
   "metadata": {},
   "outputs": [],
   "source": [
    "norm_phi.shape"
   ]
  },
  {
   "cell_type": "code",
   "execution_count": null,
   "id": "20f4c147-6176-4197-b0c1-f074ad7c1de0",
   "metadata": {},
   "outputs": [],
   "source": [
    "kappa.shape"
   ]
  },
  {
   "cell_type": "code",
   "execution_count": null,
   "id": "12272f9a-09ee-4989-83a3-bb6aa2bba2e3",
   "metadata": {},
   "outputs": [],
   "source": [
    "phi=evolve_vector(phi, h, u_ext, v_ext)"
   ]
  },
  {
   "cell_type": "code",
   "execution_count": null,
   "id": "ce1e9ff3-d5d6-47bd-abfa-452a7d6443a0",
   "metadata": {},
   "outputs": [],
   "source": []
  },
  {
   "cell_type": "code",
   "execution_count": null,
   "id": "aa9a6421-01d5-428e-a886-6f392f727b24",
   "metadata": {},
   "outputs": [],
   "source": [
    "upwind_ENO3(delta[3,:], u_ext, h).shape"
   ]
  },
  {
   "cell_type": "code",
   "execution_count": null,
   "id": "c9bdc859-8beb-4236-a345-45e0a72e08d2",
   "metadata": {},
   "outputs": [],
   "source": [
    "upwind_ENO3(delta[0+3,:], u_ext, h)"
   ]
  },
  {
   "cell_type": "code",
   "execution_count": null,
   "id": "c54ec66e-1b1c-498f-bfee-12e71735b757",
   "metadata": {},
   "outputs": [],
   "source": [
    "1*np.ones(delta[3,:].shape)"
   ]
  },
  {
   "cell_type": "code",
   "execution_count": null,
   "id": "aa39a1f4-bfbc-471a-a56c-bcc52af5a24f",
   "metadata": {},
   "outputs": [],
   "source": [
    "delta = np.zeros((np.shape(phi)[0]+6,np.shape(phi)[1]+6));\n",
    "data_ext = np.zeros((np.shape(phi)[0]+6,np.shape(phi)[1]+6));\n",
    "data_ext[3:-3,3:-3] = phi"
   ]
  },
  {
   "cell_type": "code",
   "execution_count": null,
   "id": "ab5d166a-3136-40ac-8c3d-3fc4b4393153",
   "metadata": {},
   "outputs": [],
   "source": [
    "phi"
   ]
  },
  {
   "cell_type": "code",
   "execution_count": null,
   "id": "1b392acc-90e5-4e90-b2d2-8c588e387ce1",
   "metadata": {},
   "outputs": [],
   "source": [
    "\n",
    "# first scan the rows\n",
    "for i in range(phi.shape[0]):\n",
    "    delta[i+3,:] = delta[i+3,:] + upwind_ENO3(data_ext[i+3,:], u_ext, dx);\n",
    "# then scan the columns\n",
    "for j in range(phi.shape[1]):\n",
    "    delta[:,j+3] = delta[:,j+3] + upwind_ENO3(data_ext[:,j+3], v_ext, dy);\n",
    "delta = delta[3:-3,3:-3];\n",
    "return delta"
   ]
  },
  {
   "cell_type": "code",
   "execution_count": 10,
   "id": "ed329ec1-b5d9-4ac4-bc71-6caf4dfd675c",
   "metadata": {},
   "outputs": [],
   "source": [
    "[X,Y,W,Z]=np.meshgrid(xm,ym,xm,ym)"
   ]
  },
  {
   "cell_type": "code",
   "execution_count": 11,
   "id": "d048c1da-e29f-412a-a620-06251c24fc50",
   "metadata": {},
   "outputs": [
    {
     "data": {
      "text/plain": [
       "(11, 11, 11, 11)"
      ]
     },
     "execution_count": 11,
     "metadata": {},
     "output_type": "execute_result"
    }
   ],
   "source": [
    "X.shape"
   ]
  },
  {
   "cell_type": "code",
   "execution_count": 12,
   "id": "55f04dcb-0b45-4862-a393-f571fb20f33f",
   "metadata": {},
   "outputs": [
    {
     "data": {
      "text/plain": [
       "(11, 11, 11, 11)"
      ]
     },
     "execution_count": 12,
     "metadata": {},
     "output_type": "execute_result"
    }
   ],
   "source": [
    "Y.shape"
   ]
  },
  {
   "cell_type": "code",
   "execution_count": null,
   "id": "55f8707c-0803-46db-92c9-f55cc65604a4",
   "metadata": {},
   "outputs": [],
   "source": []
  }
 ],
 "metadata": {
  "kernelspec": {
   "display_name": "Python 3 (ipykernel)",
   "language": "python",
   "name": "python3"
  },
  "language_info": {
   "codemirror_mode": {
    "name": "ipython",
    "version": 3
   },
   "file_extension": ".py",
   "mimetype": "text/x-python",
   "name": "python",
   "nbconvert_exporter": "python",
   "pygments_lexer": "ipython3",
   "version": "3.9.7"
  }
 },
 "nbformat": 4,
 "nbformat_minor": 5
}
