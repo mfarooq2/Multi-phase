{
 "cells": [
  {
   "cell_type": "code",
   "execution_count": null,
   "id": "3414165a-8558-419a-9464-5354cdd00685",
   "metadata": {},
   "outputs": [],
   "source": [
    "import numpy as np\n",
    "import matplotlib.pyplot as plt\n",
    "from curvature_func import curvature\n",
    "from normcd_func import normcd\n",
    "from laplacian_func import laplacian\n",
    "from evolve_vector_ENO3_func import evolve_vector_ENO3\n",
    "from upwind_ENO3_func import upwind_ENO3\n",
    "from drop_mover import evolve_vector\n",
    "Nx=11\n",
    "Ny=Nx\n",
    "h=1/(Nx-1)\n",
    "W=2*h\n",
    "dt=0.001; tf=0.5;\n",
    "bp=0.5\n",
    "b=W*bp\n",
    "W2_inv=1/(W**2)\n",
    "xm=np.arange(0,1+h,h)\n",
    "ym=np.arange(0,1+h,h)\n",
    "x=np.arange(-0.1,1.1+h,h)\n",
    "y=(1+np.cos(2*np.pi*(1-x)))/4\n",
    "[X,Y]=np.meshgrid(xm,ym)\n",
    "xc=.25; yc=.25; r=.15\n",
    "phi = r - np.sqrt((X - xc )**2 + ( Y - yc )**2 )\n",
    "phi=np.where(phi>0.03,1,-1)\n",
    "#plt.contourf(X,Y,phi)\n",
    "u_ext=1; v_ext=1; "
   ]
  },
  {
   "cell_type": "code",
   "execution_count": null,
   "id": "0979b406-c5f6-4013-8f95-785aac1a8d0a",
   "metadata": {},
   "outputs": [],
   "source": [
    "kappa= curvature(phi, h)\n",
    "normphi = normcd(phi,h)\n",
    "d2phi = laplacian(phi, h)\n",
    "delta = evolve_vector_ENO3(phi, h, h, u_ext, v_ext)\n",
    "#mid_express=d2phi[1:-1, 1:-1] + W2_inv * phi[1:-1, 1:-1] * (1 - phi[1:-1, 1:-1] ** 2) - normphi[1:-1, 1:-1] * kappa[1:-1, 1:-1]\n",
    "#phi[1:-1, 1:-1] = phi[1:-1, 1:-1] + dt * (b * (mid_express) - delta[1:-1, 1:-1])"
   ]
  },
  {
   "cell_type": "code",
   "execution_count": null,
   "id": "163b5c20-a24d-405d-b334-d9397d2d88e5",
   "metadata": {},
   "outputs": [],
   "source": [
    "delta.shape"
   ]
  },
  {
   "cell_type": "code",
   "execution_count": null,
   "id": "57349302-ef55-4c26-961f-fda92c190ede",
   "metadata": {},
   "outputs": [],
   "source": [
    "plt.contourf(X,Y,phi,[0,0.5])\n",
    "plt.colorbar()"
   ]
  },
  {
   "cell_type": "code",
   "execution_count": null,
   "id": "8d28e1fd-40b1-4d71-b811-bed199c9432a",
   "metadata": {},
   "outputs": [],
   "source": [
    "norm_phi.shape"
   ]
  },
  {
   "cell_type": "code",
   "execution_count": null,
   "id": "20f4c147-6176-4197-b0c1-f074ad7c1de0",
   "metadata": {},
   "outputs": [],
   "source": [
    "kappa.shape"
   ]
  },
  {
   "cell_type": "code",
   "execution_count": null,
   "id": "12272f9a-09ee-4989-83a3-bb6aa2bba2e3",
   "metadata": {},
   "outputs": [],
   "source": [
    "phi=evolve_vector(phi, h, u_ext, v_ext)"
   ]
  },
  {
   "cell_type": "code",
   "execution_count": null,
   "id": "ce1e9ff3-d5d6-47bd-abfa-452a7d6443a0",
   "metadata": {},
   "outputs": [],
   "source": []
  },
  {
   "cell_type": "code",
   "execution_count": null,
   "id": "351937ba-3440-44c8-b064-dbb58f4c6419",
   "metadata": {},
   "outputs": [],
   "source": [
    "norm_phi.shape"
   ]
  },
  {
   "cell_type": "code",
   "execution_count": null,
   "id": "4adbb030-7088-4e38-b55d-0b81cce5ce83",
   "metadata": {},
   "outputs": [],
   "source": [
    "phi.shape"
   ]
  },
  {
   "cell_type": "code",
   "execution_count": null,
   "id": "22ad126b-d028-4c5b-9e26-387996d29c9e",
   "metadata": {},
   "outputs": [],
   "source": [
    "d2phi.shape"
   ]
  },
  {
   "cell_type": "code",
   "execution_count": null,
   "id": "29248c2d-8ab2-409c-bf09-1741141fe6b6",
   "metadata": {},
   "outputs": [],
   "source": [
    "kappa.shape"
   ]
  },
  {
   "cell_type": "code",
   "execution_count": null,
   "id": "42c25481-503c-4f6e-b191-17053be1028b",
   "metadata": {},
   "outputs": [],
   "source": [
    "d2phi.shape"
   ]
  },
  {
   "cell_type": "code",
   "execution_count": null,
   "id": "e6d01532-6cc9-4d37-a1bd-ba32f2efadbc",
   "metadata": {},
   "outputs": [],
   "source": [
    "from tqdm import tqdm"
   ]
  },
  {
   "cell_type": "code",
   "execution_count": null,
   "id": "6440c396-bdcb-4e87-b565-7dd6e2fa0f20",
   "metadata": {},
   "outputs": [],
   "source": [
    "for t in tqdm(np.arange(0,tf,dt)):\n",
    "    kappa= curvature(phi,h)\n",
    "    normphi = normcd(phi,h)\n",
    "    d2phi = laplacian(phi,h)\n",
    "    delta = evolve_vector_ENO3(phi, h, h, u_ext, v_ext)\n",
    "    for i in range(1,Nx-1):\n",
    "        for j in range(1,Ny-1):\n",
    "            phi[i,j]=phi[i,j]+ dt*(b*(d2phi[i,j] + W2_inv*phi[i,j]*(1-phi[i,j]**2)-normphi[i,j]*kappa[i,j])-delta[i,j])                  \n",
    "            "
   ]
  },
  {
   "cell_type": "code",
   "execution_count": null,
   "id": "f5747a36-a5ac-425e-89d4-b0d7cc42b50e",
   "metadata": {},
   "outputs": [],
   "source": [
    "for t in tqdm(np.arange(0,tf,dt)):\n",
    "    print(t)"
   ]
  },
  {
   "cell_type": "code",
   "execution_count": null,
   "id": "b1ade118-1288-4da3-b71d-1ebe6b6e9531",
   "metadata": {},
   "outputs": [],
   "source": [
    "phi[160,:]"
   ]
  },
  {
   "cell_type": "code",
   "execution_count": null,
   "id": "aa9a6421-01d5-428e-a886-6f392f727b24",
   "metadata": {},
   "outputs": [],
   "source": [
    "upwind_ENO3(delta[3,:], u_ext, h).shape"
   ]
  },
  {
   "cell_type": "code",
   "execution_count": null,
   "id": "c9bdc859-8beb-4236-a345-45e0a72e08d2",
   "metadata": {},
   "outputs": [],
   "source": [
    "upwind_ENO3(delta[0+3,:], u_ext, h)"
   ]
  },
  {
   "cell_type": "code",
   "execution_count": null,
   "id": "c54ec66e-1b1c-498f-bfee-12e71735b757",
   "metadata": {},
   "outputs": [],
   "source": [
    "1*np.ones(delta[3,:].shape)"
   ]
  },
  {
   "cell_type": "code",
   "execution_count": null,
   "id": "aa39a1f4-bfbc-471a-a56c-bcc52af5a24f",
   "metadata": {},
   "outputs": [],
   "source": []
  }
 ],
 "metadata": {
  "kernelspec": {
   "display_name": "Python 3 (ipykernel)",
   "language": "python",
   "name": "python3"
  },
  "language_info": {
   "codemirror_mode": {
    "name": "ipython",
    "version": 3
   },
   "file_extension": ".py",
   "mimetype": "text/x-python",
   "name": "python",
   "nbconvert_exporter": "python",
   "pygments_lexer": "ipython3",
   "version": "3.9.7"
  }
 },
 "nbformat": 4,
 "nbformat_minor": 5
}
